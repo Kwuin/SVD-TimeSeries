{
 "cells": [
  {
   "cell_type": "code",
   "execution_count": 1,
   "metadata": {},
   "outputs": [
    {
     "ename": "UndefVarError",
     "evalue": "UndefVarError: `from` not defined",
     "output_type": "error",
     "traceback": [
      "UndefVarError: `from` not defined\n"
     ]
    }
   ],
   "source": [
    "from learn import em_learn, svd_learn_new\n",
    "from data import *\n",
    "import numpy as np\n"
   ]
  },
  {
   "cell_type": "code",
   "execution_count": 33,
   "metadata": {},
   "outputs": [],
   "source": [
    "def svd_learn(sample, n, L=None, verbose=None, stats={}):\n",
    "    Os = np.moveaxis(sample.all_trail_probs(), 1, 0)\n",
    "\n",
    "    svds = [np.linalg.svd(Os[j], full_matrices=True) for j in range(n)]\n",
    "\n",
    "    if verbose:\n",
    "        for i, (_, s, _) in enumerate(svds):\n",
    "            print(f\"{i}: {s[:L+1]} ...\")\n",
    "\n",
    "    Ps_ = np.zeros((n, L, n))\n",
    "    Qs_ = np.zeros((n, L, n))\n",
    "    for j, (u, s, vh) in enumerate(svds):\n",
    "        Ps_[j, 0 : min(n, L), :] = u[:, 0:L].T\n",
    "        Qs_[j, 0 : min(n, L), :] = (np.diag(s) @ (vh))[0:L, :]\n",
    "\n",
    "    A = np.zeros((2 * n * L, n**2))\n",
    "    for j in range(n):\n",
    "        A[L * j : L * (j + 1), n * j : n * (j + 1)] = Ps_[j]\n",
    "        A[L * (n + j) : L * (n + j + 1), j + n * (np.arange(n))] = -Qs_[j]\n",
    "\n",
    "    _, s, vh = np.linalg.svd(A.T, full_matrices=True)\n",
    "    small = list(s < 1e-5)\n",
    "    if True in small:\n",
    "        fst = small.index(True)\n",
    "        if verbose:\n",
    "            print(2 * L * n - fst, L, s[[fst - 1, fst]])\n",
    "    B = vh[-L:]\n",
    "    Bre = np.moveaxis(B.reshape((L, L, 2 * n), order=\"F\"), -1, 0)\n",
    "    Ys_ = Bre[0:n]\n",
    "    Zs_ = Bre[n : 2 * n]\n",
    "\n",
    "    Xs = [\n",
    "        np.linalg.pinv(Zs_[j] @ Ys_[j].T) @ (Zs_[j + 1] @ Ys_[j + 1].T)\n",
    "        for j in range(n - 1)\n",
    "    ]\n",
    "    X = np.sum(Xs, axis=0)\n",
    "    _, R_ = np.linalg.eig(X)\n",
    "    d, _, _, _ = np.linalg.lstsq(\n",
    "        (R_.T @ Ys_[0] @ Ps_[0]).T, Os[0] @ np.ones(n), rcond=None\n",
    "    )\n",
    "\n",
    "    R = np.diag(d) @ R_.T\n",
    "    Ys = R @ Ys_\n",
    "    Ps = np.array([Y @ P_ for Y, P_ in zip(Ys, Ps_)])\n",
    "    Ss = np.array([R @ Z_ @ Y_.T @ R.T for Z_, Y_ in zip(Zs_, Ys_)])\n",
    "\n",
    "    S_ = np.zeros((L, n))\n",
    "    Ms_ = np.zeros((L, n, n))\n",
    "    for l in range(L):\n",
    "        for i in range(n):\n",
    "            S_[l, i] = Ss[i, l, l]\n",
    "            for j in range(n):\n",
    "                Ms_[l, i, j] = Ps[j, l, i] / S_[l, i]\n",
    "\n",
    "    S_ = np.abs(S_)\n",
    "    Ms_ = np.abs(Ms_)\n",
    "    learned_mixture = Mixture(S_, Ms_)\n",
    "    learned_mixture.normalize()\n",
    "    return learned_mixture\n",
    "\n",
    "learners = {\n",
    "    \"CA-SVD\": svd_learn_new,\n",
    "    \"CA-SVD'\": lambda d, n, L: svd_learn_new(d, n, L, sample_dist=0.01),\n",
    "    \"GKV-SVD\": svd_learn,\n",
    "    \"EM2\": lambda d, n, L: em_learn(d, n, L, max_iter=2),\n",
    "    \"EM5\": lambda d, n, L: em_learn(d, n, L, max_iter=5),\n",
    "    \"EM20\": lambda d, n, L: em_learn(d, n, L, max_iter=20),\n",
    "    \"EM50\": lambda d, n, L: em_learn(d, n, L, max_iter=50),\n",
    "    \"EM100\": lambda d, n, L: em_learn(d, n, L, max_iter=100),\n",
    "    \"EM-converge\": em_learn,\n",
    "    \"CA-SVD-EM2\": lambda d, n, L: svd_learn_new(d, n, L, em_refine_max_iter=2),\n",
    "    \"CA-SVD-EM5\": lambda d, n, L: svd_learn_new(d, n, L, em_refine_max_iter=5),\n",
    "    \"CA-SVD-EM20\": lambda d, n, L: svd_learn_new(d, n, L, em_refine_max_iter=20),\n",
    "    \"CA-SVD-EM100\": lambda d, n, L: svd_learn_new(d, n, L, em_refine_max_iter=100),\n",
    "}\n",
    "\n",
    "def count_3_from_seq(seq, n):\n",
    "    \"\"\"\n",
    "    seq: discretized sequence\n",
    "    n: number of categories\n",
    "    \"\"\"\n",
    "    all_trail_probs = np.zeros((n, n, n)) \n",
    "    for i in range(len(seq) // 3):\n",
    "        x = seq[3*i:3*(i+1)]\n",
    "        all_trail_probs[tuple(x)] += 1\n",
    "       #num_visited[x] += 1\n",
    "    return Distribution.from_all_trail_probs(all_trail_probs / np.sum(all_trail_probs))\n",
    "    \n",
    "def learn_mix_from_seq(seq,learner, n, L):\n",
    "    \"\"\"\n",
    "    seq: discretized time series: an 1-d array\n",
    "    learner: \n",
    "    \"\"\"\n",
    "    trail_empirical_distribution = count_3_from_seq(seq, n)\n",
    "    if np.isnan(trail_empirical_distribution.all_trail_probs()).any() or np.isinf(trail_empirical_distribution.all_trail_probs()).any():\n",
    "        print(\"Inf or NAN values\")\n",
    "        print(trail_empirical_distribution.all_trail_probs())\n",
    "        \n",
    "    return  learners[learner](trail_empirical_distribution, n, L)\n",
    "\n",
    "def likelihood(mixture, trails, counts=None, log=False):\n",
    "    if counts is None: counts = transitions(mixture.n, trails)\n",
    "    logS = np.log(mixture.S + 1e-10)\n",
    "    logTs = np.log(mixture.Ms + 1e-10)\n",
    "\n",
    "    logl = logS[:, trails[:,0]]\n",
    "    logl += np.sum(logTs[:, :, :, None] * np.moveaxis(counts, 0, 2)[None, :, :, :], axis=(1,2))\n",
    "    if log: return logl\n",
    "    probs = np.exp(logl - np.max(logl, axis=0))\n",
    "    probs /= np.sum(probs, axis=0)[None, :]\n",
    "    return probs\n",
    "\n",
    "def transitions(n, trails):\n",
    "    n_samples = trails.shape[0]\n",
    "    c = np.zeros([n_samples, n, n], dtype=int)\n",
    "    for t, trail in enumerate(trails):\n",
    "        i = trail[0]\n",
    "        for j in trail[1:]:\n",
    "            c[t, i, j] += 1\n",
    "            i = j\n",
    "    return c"
   ]
  },
  {
   "cell_type": "code",
   "execution_count": 1,
   "metadata": {},
   "outputs": [
    {
     "ename": "UndefVarError",
     "evalue": "UndefVarError: `int` not defined",
     "output_type": "error",
     "traceback": [
      "UndefVarError: `int` not defined\n",
      "\n",
      "Stacktrace:\n",
      " [1] top-level scope\n",
      "   @ ~/Desktop/DirectedStudy/WWW2023/simple.ipynb:2"
     ]
    }
   ],
   "source": [
    "n_samples = 1\n",
    "d = int(1e5)\n",
    "for k_samples in (n_samples // d) * [d] + [n_samples % d]:\n",
    "    print(k_samples)"
   ]
  },
  {
   "cell_type": "code",
   "execution_count": 119,
   "metadata": {},
   "outputs": [],
   "source": [
    "n_states = 60 \n",
    "L_chains = 5\n",
    "current_state = 3\n",
    "mix = Mixture.random(n_states, L_chains)\n",
    "distribution = Distribution.from_mixture(mix,3)\n",
    "sample_distribution = distribution.sample()"
   ]
  },
  {
   "cell_type": "code",
   "execution_count": 124,
   "metadata": {},
   "outputs": [
    {
     "name": "stderr",
     "output_type": "stream",
     "text": [
      "/var/folders/kx/06y42x8s5571j9jqkpc5wf500000gn/T/ipykernel_24755/2861410156.py:53: RuntimeWarning: divide by zero encountered in double_scalars\n",
      "  Ms_[l, i, j] = Ps[j, l, i] / S_[l, i]\n",
      "/var/folders/kx/06y42x8s5571j9jqkpc5wf500000gn/T/ipykernel_24755/2861410156.py:53: RuntimeWarning: invalid value encountered in double_scalars\n",
      "  Ms_[l, i, j] = Ps[j, l, i] / S_[l, i]\n",
      "/var/folders/kx/06y42x8s5571j9jqkpc5wf500000gn/T/ipykernel_24755/3480786347.py:17: RuntimeWarning: divide by zero encountered in log\n",
      "  neg_log_likelihood = -np.log(prob_next_step[xs[i + window]]) + np.log(np.max(prob_next_step))\n",
      "/Users/hayashimiyako/Desktop/DirectedStudy/WWW2023/data.py:218: RuntimeWarning: invalid value encountered in divide\n",
      "  self.Ms = self.Ms / np.sum(self.Ms, axis=2)[:, :, np.newaxis]\n"
     ]
    }
   ],
   "source": [
    "num_categories = n_states\n",
    "window = len(xs)//10\n",
    "L = 5\n",
    "correct_count = 0\n",
    "error = []\n",
    "neg_ll = []\n",
    "predict = []\n",
    "for i in range(10):\n",
    "    subseq = xs[i:i+window]\n",
    "    learned_mix = learn_mix_from_seq(subseq,'GKV-SVD', num_categories, L)\n",
    "    chain_prob = likelihood(learned_mix, np.atleast_2d(subseq[-2:]))\n",
    "    #most_likely_index = np.argmax(chain_prob)\n",
    "    #multi_dim_index = np.unravel_index(most_likely_index, learned_mix.S.shape)\n",
    "    # Based on likelihood probability to find the most likely chain.\n",
    "    most_likely_chain = np.argmax(chain_prob)\n",
    "    prob_next_step = learned_mix.Ms[most_likely_chain, subseq[window - 1], :]\n",
    "    neg_log_likelihood = -np.log(prob_next_step[xs[i + window]]) + np.log(np.max(prob_next_step))\n",
    "    sorted_indices = np.argsort(prob_next_step)\n",
    "    predict.append(np.argmax(prob_next_step))\n",
    "    rank = np.where(sorted_indices == xs[i + window])[0][0]\n",
    "\n",
    "    neg_ll.append(neg_log_likelihood)\n",
    "    error.append(59 - rank)\n"
   ]
  },
  {
   "cell_type": "code",
   "execution_count": 129,
   "metadata": {},
   "outputs": [
    {
     "name": "stdout",
     "output_type": "stream",
     "text": [
      "15.3\n",
      "[0 0 0 0 0 0 0 0 0 0]\n"
     ]
    }
   ],
   "source": [
    "predict = np.array(predict)\n",
    "print(abs(predict - xs[window :window + 10]).mean())\n",
    "print((predict == xs[window:window + 10]).astype(int))"
   ]
  },
  {
   "cell_type": "code",
   "execution_count": 84,
   "metadata": {},
   "outputs": [
    {
     "data": {
      "text/plain": [
       "30.37"
      ]
     },
     "execution_count": 84,
     "metadata": {},
     "output_type": "execute_result"
    }
   ],
   "source": [
    "error = np.array(error)\n",
    "error.mean()"
   ]
  },
  {
   "cell_type": "code",
   "execution_count": null,
   "metadata": {},
   "outputs": [],
   "source": []
  },
  {
   "cell_type": "code",
   "execution_count": null,
   "metadata": {},
   "outputs": [],
   "source": [
    "print(predict == xs)"
   ]
  },
  {
   "cell_type": "code",
   "execution_count": 40,
   "metadata": {},
   "outputs": [],
   "source": [
    "import statsmodels.api as sm\n",
    "import pandas as pd\n"
   ]
  },
  {
   "cell_type": "code",
   "execution_count": 65,
   "metadata": {},
   "outputs": [
    {
     "name": "stderr",
     "output_type": "stream",
     "text": [
      " This problem is unconstrained.\n"
     ]
    },
    {
     "name": "stdout",
     "output_type": "stream",
     "text": [
      "RUNNING THE L-BFGS-B CODE\n",
      "\n",
      "           * * *\n",
      "\n",
      "Machine precision = 2.220D-16\n",
      " N =            4     M =           10\n",
      "\n",
      "At X0         0 variables are exactly at the bounds\n",
      "\n",
      "At iterate    0    f=  4.55987D+00    |proj g|=  8.46152D-02\n",
      "\n",
      "At iterate    5    f=  4.45998D+00    |proj g|=  2.12469D-02\n",
      "\n",
      "At iterate   10    f=  4.27001D+00    |proj g|=  5.26035D-03\n",
      "  ys=-4.587E-07  -gs= 2.161E-07 BFGS update SKIPPED\n",
      "\n",
      "At iterate   15    f=  4.26999D+00    |proj g|=  2.68122D-04\n",
      "\n",
      "           * * *\n",
      "\n",
      "Tit   = total number of iterations\n",
      "Tnf   = total number of function evaluations\n",
      "Tnint = total number of segments explored during Cauchy searches\n",
      "Skip  = number of BFGS updates skipped\n",
      "Nact  = number of active bounds at final generalized Cauchy point\n",
      "Projg = norm of the final projected gradient\n",
      "F     = final function value\n",
      "\n",
      "           * * *\n",
      "\n",
      "   N    Tit     Tnf  Tnint  Skip  Nact     Projg        F\n",
      "    4     15     35      1     1     0   2.681D-04   4.270D+00\n",
      "  F =   4.2699921815012853     \n",
      "\n",
      "CONVERGENCE: REL_REDUCTION_OF_F_<=_FACTR*EPSMCH             \n"
     ]
    }
   ],
   "source": [
    "#endog = pd.read_csv('energydata_complete.csv')['RH_5']\n",
    "endog = pd.DataFrame(xs, columns=['self_generate'])\n",
    "# We could also fit a more complicated model with seasonal components.\n",
    "# As an example, here is an SARIMA(1,1,1) x (0,1,1,4):\n"
   ]
  },
  {
   "cell_type": "code",
   "execution_count": 120,
   "metadata": {},
   "outputs": [
    {
     "name": "stderr",
     "output_type": "stream",
     "text": [
      " This problem is unconstrained.\n"
     ]
    },
    {
     "name": "stdout",
     "output_type": "stream",
     "text": [
      "RUNNING THE L-BFGS-B CODE\n",
      "\n",
      "           * * *\n",
      "\n",
      "Machine precision = 2.220D-16\n",
      " N =            4     M =           10\n",
      "\n",
      "At X0         0 variables are exactly at the bounds\n",
      "\n",
      "At iterate    0    f=  4.56286D+00    |proj g|=  8.58913D-02\n",
      "\n",
      "At iterate    5    f=  4.43606D+00    |proj g|=  2.08559D-02\n",
      "\n",
      "At iterate   10    f=  4.28351D+00    |proj g|=  2.96234D-03\n",
      "\n",
      "At iterate   15    f=  4.28297D+00    |proj g|=  1.52917D-02\n",
      "\n",
      "At iterate   20    f=  4.28221D+00    |proj g|=  7.10157D-03\n",
      "\n",
      "At iterate   25    f=  4.28218D+00    |proj g|=  6.86052D-05\n",
      "  ys=-3.538E-04  -gs= 4.701E-05 BFGS update SKIPPED\n"
     ]
    },
    {
     "name": "stderr",
     "output_type": "stream",
     "text": [
      "\n",
      " Bad direction in the line search;\n",
      "   refresh the lbfgs memory and restart the iteration.\n",
      " This problem is unconstrained.\n"
     ]
    },
    {
     "name": "stdout",
     "output_type": "stream",
     "text": [
      "\n",
      "At iterate   30    f=  4.28214D+00    |proj g|=  4.39419D-05\n",
      "\n",
      "           * * *\n",
      "\n",
      "Tit   = total number of iterations\n",
      "Tnf   = total number of function evaluations\n",
      "Tnint = total number of segments explored during Cauchy searches\n",
      "Skip  = number of BFGS updates skipped\n",
      "Nact  = number of active bounds at final generalized Cauchy point\n",
      "Projg = norm of the final projected gradient\n",
      "F     = final function value\n",
      "\n",
      "           * * *\n",
      "\n",
      "   N    Tit     Tnf  Tnint  Skip  Nact     Projg        F\n",
      "    4     32     71      2     1     0   1.776D-05   4.282D+00\n",
      "  F =   4.2821441249372052     \n",
      "\n",
      "CONVERGENCE: REL_REDUCTION_OF_F_<=_FACTR*EPSMCH             \n",
      "RUNNING THE L-BFGS-B CODE\n",
      "\n",
      "           * * *\n",
      "\n",
      "Machine precision = 2.220D-16\n",
      " N =            4     M =           10\n",
      "\n",
      "At X0         0 variables are exactly at the bounds\n",
      "\n",
      "At iterate    0    f=  4.56332D+00    |proj g|=  8.60140D-02\n",
      "\n",
      "At iterate    5    f=  4.43855D+00    |proj g|=  2.08828D-02\n",
      "\n",
      "At iterate   10    f=  4.28397D+00    |proj g|=  2.36307D-03\n",
      "\n",
      "At iterate   15    f=  4.28346D+00    |proj g|=  9.86220D-03\n",
      "\n",
      "At iterate   20    f=  4.28273D+00    |proj g|=  3.34827D-03\n",
      "\n",
      "           * * *\n",
      "\n",
      "Tit   = total number of iterations\n",
      "Tnf   = total number of function evaluations\n",
      "Tnint = total number of segments explored during Cauchy searches\n",
      "Skip  = number of BFGS updates skipped\n",
      "Nact  = number of active bounds at final generalized Cauchy point\n",
      "Projg = norm of the final projected gradient\n",
      "F     = final function value\n",
      "\n",
      "           * * *\n",
      "\n",
      "   N    Tit     Tnf  Tnint  Skip  Nact     Projg        F\n",
      "    4     23     40      1     0     0   3.209D-04   4.283D+00\n",
      "  F =   4.2827100874965600     \n",
      "\n",
      "CONVERGENCE: REL_REDUCTION_OF_F_<=_FACTR*EPSMCH             \n",
      "RUNNING THE L-BFGS-B CODE\n",
      "\n",
      "           * * *\n",
      "\n",
      "Machine precision = 2.220D-16\n",
      " N =            4     M =           10\n",
      "\n",
      "At X0         0 variables are exactly at the bounds\n",
      "\n",
      "At iterate    0    f=  4.56261D+00    |proj g|=  8.52168D-02\n",
      "\n",
      "At iterate    5    f=  4.43782D+00    |proj g|=  2.08775D-02\n"
     ]
    },
    {
     "name": "stderr",
     "output_type": "stream",
     "text": [
      "\n",
      " Warning:  more than 10 function and gradient\n",
      "   evaluations in the last line search.  Termination\n",
      "   may possibly be caused by a bad search direction.\n",
      " This problem is unconstrained.\n"
     ]
    },
    {
     "name": "stdout",
     "output_type": "stream",
     "text": [
      "\n",
      "At iterate   10    f=  4.28401D+00    |proj g|=  3.12338D-04\n",
      "\n",
      "At iterate   15    f=  4.28328D+00    |proj g|=  4.95509D-03\n",
      "\n",
      "           * * *\n",
      "\n",
      "Tit   = total number of iterations\n",
      "Tnf   = total number of function evaluations\n",
      "Tnint = total number of segments explored during Cauchy searches\n",
      "Skip  = number of BFGS updates skipped\n",
      "Nact  = number of active bounds at final generalized Cauchy point\n",
      "Projg = norm of the final projected gradient\n",
      "F     = final function value\n",
      "\n",
      "           * * *\n",
      "\n",
      "   N    Tit     Tnf  Tnint  Skip  Nact     Projg        F\n",
      "    4     19     30      1     0     0   8.418D-04   4.283D+00\n",
      "  F =   4.2828503318437905     \n",
      "\n",
      "CONVERGENCE: REL_REDUCTION_OF_F_<=_FACTR*EPSMCH             \n",
      "RUNNING THE L-BFGS-B CODE\n",
      "\n",
      "           * * *\n",
      "\n",
      "Machine precision = 2.220D-16\n",
      " N =            4     M =           10\n",
      "\n",
      "At X0         0 variables are exactly at the bounds\n",
      "\n",
      "At iterate    0    f=  4.56276D+00    |proj g|=  8.56395D-02\n",
      "\n",
      "At iterate    5    f=  4.43904D+00    |proj g|=  2.08914D-02\n"
     ]
    },
    {
     "name": "stderr",
     "output_type": "stream",
     "text": [
      " This problem is unconstrained.\n"
     ]
    },
    {
     "name": "stdout",
     "output_type": "stream",
     "text": [
      "\n",
      "At iterate   10    f=  4.28388D+00    |proj g|=  3.34709D-04\n",
      "\n",
      "At iterate   15    f=  4.28303D+00    |proj g|=  4.59223D-03\n",
      "\n",
      "At iterate   20    f=  4.28264D+00    |proj g|=  1.91511D-04\n",
      "\n",
      "At iterate   25    f=  4.28261D+00    |proj g|=  4.24915D-05\n",
      "\n",
      "           * * *\n",
      "\n",
      "Tit   = total number of iterations\n",
      "Tnf   = total number of function evaluations\n",
      "Tnint = total number of segments explored during Cauchy searches\n",
      "Skip  = number of BFGS updates skipped\n",
      "Nact  = number of active bounds at final generalized Cauchy point\n",
      "Projg = norm of the final projected gradient\n",
      "F     = final function value\n",
      "\n",
      "           * * *\n",
      "\n",
      "   N    Tit     Tnf  Tnint  Skip  Nact     Projg        F\n",
      "    4     29     47      1     0     0   5.397D-05   4.283D+00\n",
      "  F =   4.2826128539143138     \n",
      "\n",
      "CONVERGENCE: REL_REDUCTION_OF_F_<=_FACTR*EPSMCH             \n",
      "RUNNING THE L-BFGS-B CODE\n",
      "\n",
      "           * * *\n",
      "\n",
      "Machine precision = 2.220D-16\n",
      " N =            4     M =           10\n",
      "\n",
      "At X0         0 variables are exactly at the bounds\n",
      "\n",
      "At iterate    0    f=  4.56276D+00    |proj g|=  8.63139D-02\n",
      "\n",
      "At iterate    5    f=  4.44026D+00    |proj g|=  2.09062D-02\n"
     ]
    },
    {
     "name": "stderr",
     "output_type": "stream",
     "text": [
      " This problem is unconstrained.\n"
     ]
    },
    {
     "name": "stdout",
     "output_type": "stream",
     "text": [
      "\n",
      "At iterate   10    f=  4.28377D+00    |proj g|=  5.41849D-04\n",
      "\n",
      "At iterate   15    f=  4.28275D+00    |proj g|=  3.24899D-04\n",
      "\n",
      "           * * *\n",
      "\n",
      "Tit   = total number of iterations\n",
      "Tnf   = total number of function evaluations\n",
      "Tnint = total number of segments explored during Cauchy searches\n",
      "Skip  = number of BFGS updates skipped\n",
      "Nact  = number of active bounds at final generalized Cauchy point\n",
      "Projg = norm of the final projected gradient\n",
      "F     = final function value\n",
      "\n",
      "           * * *\n",
      "\n",
      "   N    Tit     Tnf  Tnint  Skip  Nact     Projg        F\n",
      "    4     16     24      1     0     0   3.077D-04   4.283D+00\n",
      "  F =   4.2827471480105075     \n",
      "\n",
      "CONVERGENCE: REL_REDUCTION_OF_F_<=_FACTR*EPSMCH             \n",
      "RUNNING THE L-BFGS-B CODE\n",
      "\n",
      "           * * *\n",
      "\n",
      "Machine precision = 2.220D-16\n",
      " N =            4     M =           10\n",
      "\n",
      "At X0         0 variables are exactly at the bounds\n",
      "\n",
      "At iterate    0    f=  4.56248D+00    |proj g|=  8.64320D-02\n",
      "\n",
      "At iterate    5    f=  4.43951D+00    |proj g|=  2.08991D-02\n"
     ]
    },
    {
     "name": "stderr",
     "output_type": "stream",
     "text": [
      " This problem is unconstrained.\n"
     ]
    },
    {
     "name": "stdout",
     "output_type": "stream",
     "text": [
      "\n",
      "At iterate   10    f=  4.28375D+00    |proj g|=  1.21768D-03\n",
      "\n",
      "At iterate   15    f=  4.28263D+00    |proj g|=  2.25231D-04\n",
      "  ys=-3.041E-05  -gs= 3.078E-05 BFGS update SKIPPED\n"
     ]
    },
    {
     "name": "stderr",
     "output_type": "stream",
     "text": [
      "\n",
      " Warning:  more than 10 function and gradient\n",
      "   evaluations in the last line search.  Termination\n",
      "   may possibly be caused by a bad search direction.\n",
      " This problem is unconstrained.\n"
     ]
    },
    {
     "name": "stdout",
     "output_type": "stream",
     "text": [
      "\n",
      "           * * *\n",
      "\n",
      "Tit   = total number of iterations\n",
      "Tnf   = total number of function evaluations\n",
      "Tnint = total number of segments explored during Cauchy searches\n",
      "Skip  = number of BFGS updates skipped\n",
      "Nact  = number of active bounds at final generalized Cauchy point\n",
      "Projg = norm of the final projected gradient\n",
      "F     = final function value\n",
      "\n",
      "           * * *\n",
      "\n",
      "   N    Tit     Tnf  Tnint  Skip  Nact     Projg        F\n",
      "    4     18     41      1     1     0   4.328D-05   4.283D+00\n",
      "  F =   4.2825126642285092     \n",
      "\n",
      "CONVERGENCE: REL_REDUCTION_OF_F_<=_FACTR*EPSMCH             \n",
      "RUNNING THE L-BFGS-B CODE\n",
      "\n",
      "           * * *\n",
      "\n",
      "Machine precision = 2.220D-16\n",
      " N =            4     M =           10\n",
      "\n",
      "At X0         0 variables are exactly at the bounds\n",
      "\n",
      "At iterate    0    f=  4.56156D+00    |proj g|=  8.58592D-02\n",
      "\n",
      "At iterate    5    f=  4.47452D+00    |proj g|=  2.07429D-02\n",
      "\n",
      "At iterate   10    f=  4.28278D+00    |proj g|=  3.01054D-04\n",
      "\n",
      "At iterate   15    f=  4.28255D+00    |proj g|=  1.43916D-03\n",
      "\n",
      "At iterate   20    f=  4.28251D+00    |proj g|=  5.85932D-04\n",
      "\n",
      "           * * *\n",
      "\n",
      "Tit   = total number of iterations\n",
      "Tnf   = total number of function evaluations\n",
      "Tnint = total number of segments explored during Cauchy searches\n",
      "Skip  = number of BFGS updates skipped\n",
      "Nact  = number of active bounds at final generalized Cauchy point\n",
      "Projg = norm of the final projected gradient\n",
      "F     = final function value\n",
      "\n",
      "           * * *\n",
      "\n",
      "   N    Tit     Tnf  Tnint  Skip  Nact     Projg        F\n",
      "    4     23     50      1     0     0   1.753D-03   4.283D+00\n",
      "  F =   4.2825068716651664     \n",
      "\n",
      "CONVERGENCE: REL_REDUCTION_OF_F_<=_FACTR*EPSMCH             \n"
     ]
    },
    {
     "name": "stderr",
     "output_type": "stream",
     "text": [
      "\n",
      " Warning:  more than 10 function and gradient\n",
      "   evaluations in the last line search.  Termination\n",
      "   may possibly be caused by a bad search direction.\n",
      " This problem is unconstrained.\n"
     ]
    },
    {
     "name": "stdout",
     "output_type": "stream",
     "text": [
      "RUNNING THE L-BFGS-B CODE\n",
      "\n",
      "           * * *\n",
      "\n",
      "Machine precision = 2.220D-16\n",
      " N =            4     M =           10\n",
      "\n",
      "At X0         0 variables are exactly at the bounds\n",
      "\n",
      "At iterate    0    f=  4.56180D+00    |proj g|=  8.64715D-02\n",
      "\n",
      "At iterate    5    f=  4.43884D+00    |proj g|=  2.09149D-02\n",
      "\n",
      "At iterate   10    f=  4.28345D+00    |proj g|=  7.94482D-04\n",
      "\n",
      "At iterate   15    f=  4.28238D+00    |proj g|=  4.05598D-04\n",
      "\n",
      "           * * *\n",
      "\n",
      "Tit   = total number of iterations\n",
      "Tnf   = total number of function evaluations\n",
      "Tnint = total number of segments explored during Cauchy searches\n",
      "Skip  = number of BFGS updates skipped\n",
      "Nact  = number of active bounds at final generalized Cauchy point\n",
      "Projg = norm of the final projected gradient\n",
      "F     = final function value\n",
      "\n",
      "           * * *\n",
      "\n",
      "   N    Tit     Tnf  Tnint  Skip  Nact     Projg        F\n",
      "    4     16     25      1     0     0   4.051D-04   4.282D+00\n",
      "  F =   4.2823764476144639     \n",
      "\n",
      "CONVERGENCE: REL_REDUCTION_OF_F_<=_FACTR*EPSMCH             \n",
      "RUNNING THE L-BFGS-B CODE\n",
      "\n",
      "           * * *\n",
      "\n",
      "Machine precision = 2.220D-16\n",
      " N =            4     M =           10\n",
      "\n",
      "At X0         0 variables are exactly at the bounds\n",
      "\n",
      "At iterate    0    f=  4.56113D+00    |proj g|=  8.59128D-02\n",
      "\n",
      "At iterate    5    f=  4.43714D+00    |proj g|=  2.08831D-02\n",
      "\n",
      "At iterate   10    f=  4.28362D+00    |proj g|=  2.50606D-03\n"
     ]
    },
    {
     "name": "stderr",
     "output_type": "stream",
     "text": [
      " This problem is unconstrained.\n"
     ]
    },
    {
     "name": "stdout",
     "output_type": "stream",
     "text": [
      "\n",
      "At iterate   15    f=  4.28279D+00    |proj g|=  5.93934D-03\n",
      "\n",
      "At iterate   20    f=  4.28232D+00    |proj g|=  1.26492D-03\n",
      "\n",
      "At iterate   25    f=  4.28227D+00    |proj g|=  8.07707D-05\n",
      "\n",
      "           * * *\n",
      "\n",
      "Tit   = total number of iterations\n",
      "Tnf   = total number of function evaluations\n",
      "Tnint = total number of segments explored during Cauchy searches\n",
      "Skip  = number of BFGS updates skipped\n",
      "Nact  = number of active bounds at final generalized Cauchy point\n",
      "Projg = norm of the final projected gradient\n",
      "F     = final function value\n",
      "\n",
      "           * * *\n",
      "\n",
      "   N    Tit     Tnf  Tnint  Skip  Nact     Projg        F\n",
      "    4     29     56      1     0     0   1.160D-03   4.282D+00\n",
      "  F =   4.2822589905038368     \n",
      "\n",
      "CONVERGENCE: REL_REDUCTION_OF_F_<=_FACTR*EPSMCH             \n",
      "RUNNING THE L-BFGS-B CODE\n",
      "\n",
      "           * * *\n",
      "\n",
      "Machine precision = 2.220D-16\n",
      " N =            4     M =           10\n",
      "\n",
      "At X0         0 variables are exactly at the bounds\n",
      "\n",
      "At iterate    0    f=  4.56082D+00    |proj g|=  8.64364D-02\n",
      "\n",
      "At iterate    5    f=  4.43125D+00    |proj g|=  2.07635D-02\n"
     ]
    },
    {
     "name": "stderr",
     "output_type": "stream",
     "text": [
      "\n",
      " Warning:  more than 10 function and gradient\n",
      "   evaluations in the last line search.  Termination\n",
      "   may possibly be caused by a bad search direction.\n",
      " This problem is unconstrained.\n"
     ]
    },
    {
     "name": "stdout",
     "output_type": "stream",
     "text": [
      "\n",
      "At iterate   10    f=  4.28380D+00    |proj g|=  3.98874D-04\n",
      "\n",
      "At iterate   15    f=  4.28279D+00    |proj g|=  1.04912D-02\n",
      "\n",
      "At iterate   20    f=  4.28221D+00    |proj g|=  1.83875D-03\n",
      "\n",
      "           * * *\n",
      "\n",
      "Tit   = total number of iterations\n",
      "Tnf   = total number of function evaluations\n",
      "Tnint = total number of segments explored during Cauchy searches\n",
      "Skip  = number of BFGS updates skipped\n",
      "Nact  = number of active bounds at final generalized Cauchy point\n",
      "Projg = norm of the final projected gradient\n",
      "F     = final function value\n",
      "\n",
      "           * * *\n",
      "\n",
      "   N    Tit     Tnf  Tnint  Skip  Nact     Projg        F\n",
      "    4     22     35      1     0     0   1.011D-03   4.282D+00\n",
      "  F =   4.2822106817570988     \n",
      "\n",
      "CONVERGENCE: REL_REDUCTION_OF_F_<=_FACTR*EPSMCH             \n"
     ]
    }
   ],
   "source": [
    "# num_categories = 60\n",
    "# n = num_categories\n",
    "\n",
    "# all_trail_probs = np.zeros((n, n, n))\n",
    "# num_visited = np.zeros(num_categories)\n",
    "\n",
    "# df = pd.read_csv('energydata_complete.csv')\n",
    "# # consider one column first\n",
    "# #df = df['RH_5']\n",
    "# #xs = pd.cut(df, bins=num_categories, labels=False)\n",
    "# res = pd.qcut(df['RH_5'],n, labels=False, retbins=True, precision=3, duplicates='raise')\n",
    "# # do equal-depth p\n",
    "# xs = np.array(list(res[0]))\n",
    "# bins = res[1]\n",
    "\n",
    "\n",
    "predict_sarima = []\n",
    "for i in range(10):\n",
    "    subseq = xs[i:i+window]\n",
    "    df = pd.DataFrame(subseq)\n",
    "\n",
    "    mod_sarimax = sm.tsa.SARIMAX(subseq, order=(1,1,1),\n",
    "                                seasonal_order=(0,1,1,4))\n",
    "    res_sarimax = mod_sarimax.fit()\n",
    "\n",
    "    #res = mod_sarimax.filter(res_sarimax.params)\n",
    "\n",
    "    # Show the summary of results\n",
    "    pred = res_sarimax.get_prediction(window,window).predicted_mean\n",
    "    \n",
    "    predict_sarima.append(pred)\n",
    "   \n"
   ]
  },
  {
   "cell_type": "code",
   "execution_count": 96,
   "metadata": {},
   "outputs": [
    {
     "data": {
      "text/plain": [
       "18000    29.7122\n",
       "dtype: float64"
      ]
     },
     "execution_count": 96,
     "metadata": {},
     "output_type": "execute_result"
    }
   ],
   "source": [
    "res.get_prediction(18000).predicted_mean"
   ]
  },
  {
   "cell_type": "code",
   "execution_count": 121,
   "metadata": {},
   "outputs": [
    {
     "data": {
      "text/plain": [
       "17.078359221910237"
      ]
     },
     "execution_count": 121,
     "metadata": {},
     "output_type": "execute_result"
    }
   ],
   "source": [
    "predict_sarima = np.array(predict_sarima).squeeze()\n",
    "abs(predict_sarima - xs[window : window+10]).mean()"
   ]
  },
  {
   "cell_type": "code",
   "execution_count": 116,
   "metadata": {},
   "outputs": [
    {
     "data": {
      "text/plain": [
       "15.71816569546491"
      ]
     },
     "execution_count": 116,
     "metadata": {},
     "output_type": "execute_result"
    }
   ],
   "source": [
    "abs(xs - pred.astype(int)).mean()\n"
   ]
  },
  {
   "cell_type": "code",
   "execution_count": 60,
   "metadata": {},
   "outputs": [
    {
     "name": "stdout",
     "output_type": "stream",
     "text": [
      "Collecting hmmlearn\n",
      "  Downloading hmmlearn-0.3.2-cp38-cp38-macosx_10_9_universal2.whl.metadata (2.9 kB)\n",
      "Requirement already satisfied: numpy>=1.10 in /Users/hayashimiyako/Desktop/DirectedStudy/tensorflow-test/env/lib/python3.8/site-packages (from hmmlearn) (1.23.2)\n",
      "Requirement already satisfied: scikit-learn!=0.22.0,>=0.16 in /Users/hayashimiyako/Desktop/DirectedStudy/tensorflow-test/env/lib/python3.8/site-packages (from hmmlearn) (1.3.0)\n",
      "Requirement already satisfied: scipy>=0.19 in /Users/hayashimiyako/Desktop/DirectedStudy/tensorflow-test/env/lib/python3.8/site-packages (from hmmlearn) (1.10.1)\n",
      "Requirement already satisfied: joblib>=1.1.1 in /Users/hayashimiyako/Desktop/DirectedStudy/tensorflow-test/env/lib/python3.8/site-packages (from scikit-learn!=0.22.0,>=0.16->hmmlearn) (1.2.0)\n",
      "Requirement already satisfied: threadpoolctl>=2.0.0 in /Users/hayashimiyako/Desktop/DirectedStudy/tensorflow-test/env/lib/python3.8/site-packages (from scikit-learn!=0.22.0,>=0.16->hmmlearn) (2.2.0)\n",
      "Downloading hmmlearn-0.3.2-cp38-cp38-macosx_10_9_universal2.whl (192 kB)\n",
      "\u001b[2K   \u001b[90m━━━━━━━━━━━━━━━━━━━━━━━━━━━━━━━━━━━━━━━━\u001b[0m \u001b[32m192.3/192.3 kB\u001b[0m \u001b[31m5.8 MB/s\u001b[0m eta \u001b[36m0:00:00\u001b[0m\n",
      "\u001b[?25hInstalling collected packages: hmmlearn\n",
      "Successfully installed hmmlearn-0.3.2\n",
      "Note: you may need to restart the kernel to use updated packages.\n"
     ]
    }
   ],
   "source": [
    "%pip install hmmlearn"
   ]
  },
  {
   "cell_type": "code",
   "execution_count": 69,
   "metadata": {},
   "outputs": [],
   "source": [
    "import numpy as np\n",
    "from hmmlearn import hmm\n",
    "\n",
    "\n",
    "remodel = hmm.CategoricalHMM(n_components=5)\n",
    "remodel.fit(xs.reshape(-1,1))\n",
    "Z2 = remodel.predict(xs.reshape(-1,1))"
   ]
  },
  {
   "cell_type": "code",
   "execution_count": 73,
   "metadata": {},
   "outputs": [
    {
     "name": "stdout",
     "output_type": "stream",
     "text": [
      "26.840833333333332\n"
     ]
    }
   ],
   "source": [
    "print(abs(Z2-xs).mean())"
   ]
  },
  {
   "cell_type": "code",
   "execution_count": null,
   "metadata": {},
   "outputs": [],
   "source": []
  }
 ],
 "metadata": {
  "kernelspec": {
   "display_name": "Python 3",
   "language": "python",
   "name": "python3"
  },
  "language_info": {
   "file_extension": ".jl",
   "mimetype": "application/julia",
   "name": "python",
   "version": "3.8.16"
  }
 },
 "nbformat": 4,
 "nbformat_minor": 2
}
