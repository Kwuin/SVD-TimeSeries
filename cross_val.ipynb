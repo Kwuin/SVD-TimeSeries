{
 "cells": [
  {
   "cell_type": "code",
   "execution_count": null,
   "metadata": {},
   "outputs": [],
   "source": [
    "import pmdarima as pm\n",
    "from pmdarima.model_selection import train_test_split\n",
    "\n",
    "\n",
    "# Load/split your data\n",
    "y = pm.datasets.load_wineind()\n",
    "train, test = train_test_split(y, train_size=150)\n",
    "print(train.shape)\n",
    "print(test.shape)\n",
    "\n",
    "import pmdarima as pm\n",
    "from pmdarima import model_selection\n",
    "\n",
    "\n",
    "y = pm.datasets.load_wineind()\n",
    "est = pm.ARIMA(order=(1, 1, 2),\n",
    "               seasonal_order=(0, 1, 1, 12),\n",
    "               suppress_warnings=True)\n",
    "cv = model_selection.SlidingWindowForecastCV(window_size=150, step=4, h=4)\n",
    "predictions = model_selection.cross_val_predict(\n",
    "    est, y, cv=cv, verbose=2, averaging=\"median\")\n",
    "\n",
    "print(predictions)\n"
   ]
  },
  {
   "cell_type": "code",
   "execution_count": null,
   "metadata": {},
   "outputs": [],
   "source": [
    "#def shifting_window(seq, window):\n",
    "seq = xs[:110]\n",
    "window = 100\n",
    "print(seq)\n",
    "error_count = 0\n",
    "total_count = 0\n",
    "for i in range(len(seq) - window):\n",
    "    subseq = seq[i: i+window]\n",
    "    mix = learn_mix_from_seq(subseq,'GKV-SVD', num_categories, L)\n",
    "    chain_prob = likelihood(mix, trails_3(subseq))\n",
    "    predict = predict_next_state(-1, chain_prob)\n",
    "    if (predict != seq[i+window]):\n",
    "        error_count += 1\n",
    "    total_count+=1\n",
    "print(error_count)\n",
    "    #return error_count/total_count\n",
    "\n",
    "#print(shifting_window(xs[:1010], 1000))"
   ]
  },
  {
   "cell_type": "code",
   "execution_count": null,
   "metadata": {},
   "outputs": [],
   "source": [
    "# Cross validation, not valid for current version\n",
    "\n",
    "\n",
    "\n",
    "def split_sequence_into_folds(sequence, n_folds):\n",
    "    fold_size = len(sequence) // n_folds\n",
    "    folds = np.array([sequence[i*fold_size : (i+1)*fold_size] for i in range(n_folds)])\n",
    "    \n",
    "    #remainder = len(sequence) % n_folds\n",
    "    #if remainder:\n",
    "    #    folds[-1] = np.concatenate((folds[-1], sequence[-remainder:]))\n",
    "    return folds\n",
    "\n",
    "def cross_validate_training_set(sequence, n_folds):\n",
    "\n",
    "    folds = split_sequence_into_folds(sequence, n_folds)\n",
    "    \n",
    "    training_set = []\n",
    "    for i in range(n_folds):\n",
    "        #print(np.concatenate([folds[j] for j in range(n_folds) if j != i]).shape)\n",
    "        training_set.append(np.concatenate([folds[j] for j in range(n_folds) if j != i]))\n",
    "    return np.array(training_set), folds"
   ]
  },
  {
   "cell_type": "code",
   "execution_count": null,
   "metadata": {},
   "outputs": [],
   "source": [
    "def cross_val(seq, n_fold,n, L):\n",
    "    \"\"\"\n",
    "    cross validation is based on trails\n",
    "    \"\"\"\n",
    "    training_sets, test_sets = cross_validate_training_set(seq, n_fold)\n",
    "    errors = np.zeros(n_fold)\n",
    "    for i in range(n_fold):\n",
    "        learned_distribution = learn_distribution('GKV-SVD', count_3_from_trails(training_sets[i], n),n,L)\n",
    "        test_distribution = count_3_from_trails(test_sets[i], n)\n",
    "        errors[i] = learned_distribution.dist(test_distribution)\n",
    "    return np.array(errors)\n",
    "        "
   ]
  }
 ],
 "metadata": {
  "language_info": {
   "name": "python"
  }
 },
 "nbformat": 4,
 "nbformat_minor": 2
}
