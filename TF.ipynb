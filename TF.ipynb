{
 "cells": [
  {
   "cell_type": "code",
   "execution_count": 1,
   "metadata": {},
   "outputs": [
    {
     "name": "stdout",
     "output_type": "stream",
     "text": [
      "TensorFlow has access to the following devices:\n",
      "[PhysicalDevice(name='/physical_device:CPU:0', device_type='CPU'), PhysicalDevice(name='/physical_device:GPU:0', device_type='GPU')]\n",
      "TensorFlow version: 2.13.0\n"
     ]
    }
   ],
   "source": [
    "import numpy as np\n",
    "import pandas as pd\n",
    "import sklearn\n",
    "import tensorflow as tf\n",
    "import matplotlib.pyplot as plt\n",
    "\n",
    "# Check for TensorFlow GPU access\n",
    "print(f\"TensorFlow has access to the following devices:\\n{tf.config.list_physical_devices()}\")\n",
    "\n",
    "# See TensorFlow version\n",
    "print(f\"TensorFlow version: {tf.__version__}\")"
   ]
  },
  {
   "cell_type": "code",
   "execution_count": 2,
   "metadata": {},
   "outputs": [],
   "source": [
    "import os\n",
    "import datetime\n",
    "\n",
    "import IPython\n",
    "import IPython.display\n",
    "import matplotlib as mpl\n",
    "import matplotlib.pyplot as plt\n",
    "import numpy as np\n",
    "import pandas as pd\n",
    "import seaborn as sns\n",
    "import tensorflow as tf\n",
    "\n",
    "mpl.rcParams['figure.figsize'] = (8, 6)\n",
    "mpl.rcParams['axes.grid'] = False"
   ]
  },
  {
   "cell_type": "code",
   "execution_count": 6,
   "metadata": {},
   "outputs": [
    {
     "name": "stdout",
     "output_type": "stream",
     "text": [
      "<bound method NDFrame.head of                       date  Appliances  lights         T1       RH_1  \\\n",
      "0      2016-01-11 17:00:00          60      30  19.890000  47.596667   \n",
      "1      2016-01-11 17:10:00          60      30  19.890000  46.693333   \n",
      "2      2016-01-11 17:20:00          50      30  19.890000  46.300000   \n",
      "3      2016-01-11 17:30:00          50      40  19.890000  46.066667   \n",
      "4      2016-01-11 17:40:00          60      40  19.890000  46.333333   \n",
      "...                    ...         ...     ...        ...        ...   \n",
      "19730  2016-05-27 17:20:00         100       0  25.566667  46.560000   \n",
      "19731  2016-05-27 17:30:00          90       0  25.500000  46.500000   \n",
      "19732  2016-05-27 17:40:00         270      10  25.500000  46.596667   \n",
      "19733  2016-05-27 17:50:00         420      10  25.500000  46.990000   \n",
      "19734  2016-05-27 18:00:00         430      10  25.500000  46.600000   \n",
      "\n",
      "              T2       RH_2         T3       RH_3         T4  ...         T9  \\\n",
      "0      19.200000  44.790000  19.790000  44.730000  19.000000  ...  17.033333   \n",
      "1      19.200000  44.722500  19.790000  44.790000  19.000000  ...  17.066667   \n",
      "2      19.200000  44.626667  19.790000  44.933333  18.926667  ...  17.000000   \n",
      "3      19.200000  44.590000  19.790000  45.000000  18.890000  ...  17.000000   \n",
      "4      19.200000  44.530000  19.790000  45.000000  18.890000  ...  17.000000   \n",
      "...          ...        ...        ...        ...        ...  ...        ...   \n",
      "19730  25.890000  42.025714  27.200000  41.163333  24.700000  ...  23.200000   \n",
      "19731  25.754000  42.080000  27.133333  41.223333  24.700000  ...  23.200000   \n",
      "19732  25.628571  42.768571  27.050000  41.690000  24.700000  ...  23.200000   \n",
      "19733  25.414000  43.036000  26.890000  41.290000  24.700000  ...  23.200000   \n",
      "19734  25.264286  42.971429  26.823333  41.156667  24.700000  ...  23.200000   \n",
      "\n",
      "          RH_9      T_out  Press_mm_hg     RH_out  Windspeed  Visibility  \\\n",
      "0      45.5300   6.600000        733.5  92.000000   7.000000   63.000000   \n",
      "1      45.5600   6.483333        733.6  92.000000   6.666667   59.166667   \n",
      "2      45.5000   6.366667        733.7  92.000000   6.333333   55.333333   \n",
      "3      45.4000   6.250000        733.8  92.000000   6.000000   51.500000   \n",
      "4      45.4000   6.133333        733.9  92.000000   5.666667   47.666667   \n",
      "...        ...        ...          ...        ...        ...         ...   \n",
      "19730  46.7900  22.733333        755.2  55.666667   3.333333   23.666667   \n",
      "19731  46.7900  22.600000        755.2  56.000000   3.500000   24.500000   \n",
      "19732  46.7900  22.466667        755.2  56.333333   3.666667   25.333333   \n",
      "19733  46.8175  22.333333        755.2  56.666667   3.833333   26.166667   \n",
      "19734  46.8450  22.200000        755.2  57.000000   4.000000   27.000000   \n",
      "\n",
      "       Tdewpoint        rv1        rv2  \n",
      "0       5.300000  13.275433  13.275433  \n",
      "1       5.200000  18.606195  18.606195  \n",
      "2       5.100000  28.642668  28.642668  \n",
      "3       5.000000  45.410389  45.410389  \n",
      "4       4.900000  10.084097  10.084097  \n",
      "...          ...        ...        ...  \n",
      "19730  13.333333  43.096812  43.096812  \n",
      "19731  13.300000  49.282940  49.282940  \n",
      "19732  13.266667  29.199117  29.199117  \n",
      "19733  13.233333   6.322784   6.322784  \n",
      "19734  13.200000  34.118851  34.118851  \n",
      "\n",
      "[19735 rows x 29 columns]>\n"
     ]
    }
   ],
   "source": [
    "df = pd.read_csv('energydata_complete.csv')\n",
    "print(df.head)"
   ]
  },
  {
   "cell_type": "code",
   "execution_count": 7,
   "metadata": {},
   "outputs": [
    {
     "name": "stdout",
     "output_type": "stream",
     "text": [
      "0       2016-01-11 17:00:00\n",
      "1       2016-01-11 17:10:00\n",
      "2       2016-01-11 17:20:00\n",
      "3       2016-01-11 17:30:00\n",
      "4       2016-01-11 17:40:00\n",
      "                ...        \n",
      "19730   2016-05-27 17:20:00\n",
      "19731   2016-05-27 17:30:00\n",
      "19732   2016-05-27 17:40:00\n",
      "19733   2016-05-27 17:50:00\n",
      "19734   2016-05-27 18:00:00\n",
      "Name: date, Length: 19735, dtype: datetime64[ns]\n"
     ]
    }
   ],
   "source": [
    "date_time = pd.to_datetime(df.pop('date'), format='%Y-%m-%d %H:%M:%S')\n",
    "print(date_time)"
   ]
  },
  {
   "cell_type": "code",
   "execution_count": 14,
   "metadata": {},
   "outputs": [
    {
     "name": "stdout",
     "output_type": "stream",
     "text": [
      "       Appliances  lights         T1       RH_1         T2       RH_2  \\\n",
      "0              60      30  19.890000  47.596667  19.200000  44.790000   \n",
      "1              60      30  19.890000  46.693333  19.200000  44.722500   \n",
      "2              50      30  19.890000  46.300000  19.200000  44.626667   \n",
      "3              50      40  19.890000  46.066667  19.200000  44.590000   \n",
      "4              60      40  19.890000  46.333333  19.200000  44.530000   \n",
      "...           ...     ...        ...        ...        ...        ...   \n",
      "19730         100       0  25.566667  46.560000  25.890000  42.025714   \n",
      "19731          90       0  25.500000  46.500000  25.754000  42.080000   \n",
      "19732         270      10  25.500000  46.596667  25.628571  42.768571   \n",
      "19733         420      10  25.500000  46.990000  25.414000  43.036000   \n",
      "19734         430      10  25.500000  46.600000  25.264286  42.971429   \n",
      "\n",
      "              T3       RH_3         T4       RH_4  ...         T9     RH_9  \\\n",
      "0      19.790000  44.730000  19.000000  45.566667  ...  17.033333  45.5300   \n",
      "1      19.790000  44.790000  19.000000  45.992500  ...  17.066667  45.5600   \n",
      "2      19.790000  44.933333  18.926667  45.890000  ...  17.000000  45.5000   \n",
      "3      19.790000  45.000000  18.890000  45.723333  ...  17.000000  45.4000   \n",
      "4      19.790000  45.000000  18.890000  45.530000  ...  17.000000  45.4000   \n",
      "...          ...        ...        ...        ...  ...        ...      ...   \n",
      "19730  27.200000  41.163333  24.700000  45.590000  ...  23.200000  46.7900   \n",
      "19731  27.133333  41.223333  24.700000  45.590000  ...  23.200000  46.7900   \n",
      "19732  27.050000  41.690000  24.700000  45.730000  ...  23.200000  46.7900   \n",
      "19733  26.890000  41.290000  24.700000  45.790000  ...  23.200000  46.8175   \n",
      "19734  26.823333  41.156667  24.700000  45.963333  ...  23.200000  46.8450   \n",
      "\n",
      "           T_out  Press_mm_hg     RH_out  Windspeed  Visibility  Tdewpoint  \\\n",
      "0       6.600000        733.5  92.000000   7.000000   63.000000   5.300000   \n",
      "1       6.483333        733.6  92.000000   6.666667   59.166667   5.200000   \n",
      "2       6.366667        733.7  92.000000   6.333333   55.333333   5.100000   \n",
      "3       6.250000        733.8  92.000000   6.000000   51.500000   5.000000   \n",
      "4       6.133333        733.9  92.000000   5.666667   47.666667   4.900000   \n",
      "...          ...          ...        ...        ...         ...        ...   \n",
      "19730  22.733333        755.2  55.666667   3.333333   23.666667  13.333333   \n",
      "19731  22.600000        755.2  56.000000   3.500000   24.500000  13.300000   \n",
      "19732  22.466667        755.2  56.333333   3.666667   25.333333  13.266667   \n",
      "19733  22.333333        755.2  56.666667   3.833333   26.166667  13.233333   \n",
      "19734  22.200000        755.2  57.000000   4.000000   27.000000  13.200000   \n",
      "\n",
      "             rv1        rv2  \n",
      "0      13.275433  13.275433  \n",
      "1      18.606195  18.606195  \n",
      "2      28.642668  28.642668  \n",
      "3      45.410389  45.410389  \n",
      "4      10.084097  10.084097  \n",
      "...          ...        ...  \n",
      "19730  43.096812  43.096812  \n",
      "19731  49.282940  49.282940  \n",
      "19732  29.199117  29.199117  \n",
      "19733   6.322784   6.322784  \n",
      "19734  34.118851  34.118851  \n",
      "\n",
      "[19735 rows x 28 columns]\n"
     ]
    }
   ],
   "source": [
    "column_indices = {name: i for i, name in enumerate(df.columns)}\n",
    "\n",
    "#column_indices = {'RH_5':11}\n",
    "n = len(df)\n",
    "train_df = df[0:int(n*0.7)]\n",
    "val_df = df[int(n*0.7):int(n*0.9)]\n",
    "test_df = df[int(n*0.9):]\n",
    "\n",
    "num_features = df.shape[1]\n"
   ]
  },
  {
   "cell_type": "code",
   "execution_count": 15,
   "metadata": {},
   "outputs": [],
   "source": [
    "train_mean = train_df.mean()\n",
    "train_std = train_df.std()\n",
    "\n",
    "train_df = (train_df - train_mean) / train_std\n",
    "val_df = (val_df - train_mean) / train_std\n",
    "test_df = (test_df - train_mean) / train_std"
   ]
  },
  {
   "cell_type": "code",
   "execution_count": 16,
   "metadata": {},
   "outputs": [
    {
     "name": "stderr",
     "output_type": "stream",
     "text": [
      "/var/folders/kx/06y42x8s5571j9jqkpc5wf500000gn/T/ipykernel_57992/3214313372.py:5: UserWarning: FixedFormatter should only be used together with FixedLocator\n",
      "  _ = ax.set_xticklabels(df.keys(), rotation=90)\n"
     ]
    },
    {
     "data": {
      "image/png": "[encoded data removed]",
      "text/plain": [
       "<Figure size 1200x600 with 1 Axes>"
      ]
     },
     "metadata": {},
     "output_type": "display_data"
    }
   ],
   "source": [
    "df_std = (df - train_mean) / train_std\n",
    "df_std = df_std.melt(var_name='Column', value_name='Normalized')\n",
    "plt.figure(figsize=(12, 6))\n",
    "ax = sns.violinplot(x='Column', y='Normalized', data=df_std)\n",
    "_ = ax.set_xticklabels(df.keys(), rotation=90)"
   ]
  },
  {
   "cell_type": "code",
   "execution_count": 17,
   "metadata": {},
   "outputs": [],
   "source": [
    "class WindowGenerator():\n",
    "    def __init__(self, input_width, label_width, shift,\n",
    "               train_df=train_df, val_df=val_df, test_df=test_df,\n",
    "               label_columns=None):\n",
    "    # Store the raw data.\n",
    "        self.train_df = train_df\n",
    "        self.val_df = val_df\n",
    "        self.test_df = test_df\n",
    "\n",
    "    # Work out the label column indices.\n",
    "        self.label_columns = label_columns\n",
    "        if label_columns is not None:\n",
    "            self.label_columns_indices = {name: i for i, name in\n",
    "                                            enumerate(label_columns)}\n",
    "        self.column_indices = {name: i for i, name in\n",
    "                            enumerate(train_df.columns)}\n",
    "\n",
    "    # Work out the window parameters.\n",
    "        self.input_width = input_width\n",
    "        self.label_width = label_width\n",
    "        self.shift = shift\n",
    "\n",
    "        self.total_window_size = input_width + shift\n",
    "\n",
    "        self.input_slice = slice(0, input_width)\n",
    "        self.input_indices = np.arange(self.total_window_size)[self.input_slice]\n",
    "\n",
    "        self.label_start = self.total_window_size - self.label_width\n",
    "        self.labels_slice = slice(self.label_start, None)\n",
    "        self.label_indices = np.arange(self.total_window_size)[self.labels_slice]\n",
    "\n",
    "    def __repr__(self):\n",
    "        return '\\n'.join([\n",
    "            f'Total window size: {self.total_window_size}',\n",
    "            f'Input indices: {self.input_indices}',\n",
    "            f'Label indices: {self.label_indices}',\n",
    "            f'Label column name(s): {self.label_columns}'])"
   ]
  },
  {
   "cell_type": "code",
   "execution_count": 23,
   "metadata": {},
   "outputs": [
    {
     "data": {
      "text/plain": [
       "Total window size: 48\n",
       "Input indices: [ 0  1  2  3  4  5  6  7  8  9 10 11 12 13 14 15 16 17 18 19 20 21 22 23]\n",
       "Label indices: [47]\n",
       "Label column name(s): ['RH_5']"
      ]
     },
     "execution_count": 23,
     "metadata": {},
     "output_type": "execute_result"
    }
   ],
   "source": [
    "w1 = WindowGenerator(input_width=24, label_width=1, shift=24,\n",
    "                     label_columns=['RH_5'])\n",
    "w1"
   ]
  },
  {
   "cell_type": "code",
   "execution_count": 24,
   "metadata": {},
   "outputs": [
    {
     "data": {
      "text/plain": [
       "Total window size: 7\n",
       "Input indices: [0 1 2 3 4 5]\n",
       "Label indices: [6]\n",
       "Label column name(s): ['RH_5']"
      ]
     },
     "execution_count": 24,
     "metadata": {},
     "output_type": "execute_result"
    }
   ],
   "source": [
    "w2 = WindowGenerator(input_width=6, label_width=1, shift=1,\n",
    "                     label_columns=['RH_5'])\n",
    "w2"
   ]
  },
  {
   "cell_type": "code",
   "execution_count": 19,
   "metadata": {},
   "outputs": [],
   "source": [
    "def split_window(self, features):\n",
    "  inputs = features[:, self.input_slice, :]\n",
    "  labels = features[:, self.labels_slice, :]\n",
    "  if self.label_columns is not None:\n",
    "    labels = tf.stack(\n",
    "        [labels[:, :, self.column_indices[name]] for name in self.label_columns],\n",
    "        axis=-1)\n",
    "\n",
    "  # Slicing doesn't preserve static shape information, so set the shapes\n",
    "  # manually. This way the `tf.data.Datasets` are easier to inspect.\n",
    "  inputs.set_shape([None, self.input_width, None])\n",
    "  labels.set_shape([None, self.label_width, None])\n",
    "\n",
    "  return inputs, labels\n",
    "\n",
    "WindowGenerator.split_window = split_window"
   ]
  },
  {
   "cell_type": "code",
   "execution_count": 25,
   "metadata": {},
   "outputs": [
    {
     "name": "stdout",
     "output_type": "stream",
     "text": [
      "All shapes are: (batch, time, features)\n",
      "Window shape: (3, 7, 28)\n",
      "Inputs shape: (3, 6, 28)\n",
      "Labels shape: (3, 1, 1)\n"
     ]
    }
   ],
   "source": [
    "# Stack three slices, the length of the total window.\n",
    "example_window = tf.stack([np.array(train_df[:w2.total_window_size]),\n",
    "                           np.array(train_df[100:100+w2.total_window_size]),\n",
    "                           np.array(train_df[200:200+w2.total_window_size])])\n",
    "\n",
    "example_inputs, example_labels = w2.split_window(example_window)\n",
    "\n",
    "print('All shapes are: (batch, time, features)')\n",
    "print(f'Window shape: {example_window.shape}')\n",
    "print(f'Inputs shape: {example_inputs.shape}')\n",
    "print(f'Labels shape: {example_labels.shape}')"
   ]
  },
  {
   "cell_type": "code",
   "execution_count": 28,
   "metadata": {},
   "outputs": [],
   "source": [
    "def make_dataset(self, data):\n",
    "  data = np.array(data, dtype=np.float32)\n",
    "  ds = tf.keras.utils.timeseries_dataset_from_array(\n",
    "      data=data,\n",
    "      targets=None,\n",
    "      sequence_length=self.total_window_size,\n",
    "      sequence_stride=1,\n",
    "      shuffle=True,\n",
    "      batch_size=32,)\n",
    "\n",
    "  ds = ds.map(self.split_window)\n",
    "\n",
    "  return ds\n",
    "\n",
    "WindowGenerator.make_dataset = make_dataset"
   ]
  },
  {
   "cell_type": "code",
   "execution_count": 29,
   "metadata": {},
   "outputs": [],
   "source": [
    "@property\n",
    "def train(self):\n",
    "  return self.make_dataset(self.train_df)\n",
    "\n",
    "@property\n",
    "def val(self):\n",
    "  return self.make_dataset(self.val_df)\n",
    "\n",
    "@property\n",
    "def test(self):\n",
    "  return self.make_dataset(self.test_df)\n",
    "\n",
    "@property\n",
    "def example(self):\n",
    "  \"\"\"Get and cache an example batch of `inputs, labels` for plotting.\"\"\"\n",
    "  result = getattr(self, '_example', None)\n",
    "  if result is None:\n",
    "    # No example batch was found, so get one from the `.train` dataset\n",
    "    result = next(iter(self.train))\n",
    "    # And cache it for next time\n",
    "    self._example = result\n",
    "  return result\n",
    "\n",
    "WindowGenerator.train = train\n",
    "WindowGenerator.val = val\n",
    "WindowGenerator.test = test\n",
    "WindowGenerator.example = example"
   ]
  },
  {
   "cell_type": "code",
   "execution_count": 30,
   "metadata": {},
   "outputs": [
    {
     "data": {
      "text/plain": [
       "(TensorSpec(shape=(None, 6, 28), dtype=tf.float32, name=None),\n",
       " TensorSpec(shape=(None, 1, 1), dtype=tf.float32, name=None))"
      ]
     },
     "execution_count": 30,
     "metadata": {},
     "output_type": "execute_result"
    }
   ],
   "source": [
    "# Each element is an (inputs, label) pair.\n",
    "w2.train.element_spec"
   ]
  },
  {
   "cell_type": "code",
   "execution_count": 31,
   "metadata": {},
   "outputs": [
    {
     "name": "stdout",
     "output_type": "stream",
     "text": [
      "Inputs shape (batch, time, features): (32, 6, 28)\n",
      "Labels shape (batch, time, features): (32, 1, 1)\n"
     ]
    }
   ],
   "source": [
    "for example_inputs, example_labels in w2.train.take(1):\n",
    "  print(f'Inputs shape (batch, time, features): {example_inputs.shape}')\n",
    "  print(f'Labels shape (batch, time, features): {example_labels.shape}')"
   ]
  },
  {
   "cell_type": "code",
   "execution_count": 34,
   "metadata": {},
   "outputs": [
    {
     "data": {
      "text/plain": [
       "Total window size: 2\n",
       "Input indices: [0]\n",
       "Label indices: [1]\n",
       "Label column name(s): ['RH_5']"
      ]
     },
     "execution_count": 34,
     "metadata": {},
     "output_type": "execute_result"
    }
   ],
   "source": [
    "single_step_window = WindowGenerator(\n",
    "    input_width=1, label_width=1, shift=1,\n",
    "    label_columns=['RH_5'])\n",
    "single_step_window"
   ]
  },
  {
   "cell_type": "code",
   "execution_count": 35,
   "metadata": {},
   "outputs": [
    {
     "name": "stdout",
     "output_type": "stream",
     "text": [
      "Inputs shape (batch, time, features): (32, 1, 28)\n",
      "Labels shape (batch, time, features): (32, 1, 1)\n"
     ]
    }
   ],
   "source": [
    "for example_inputs, example_labels in single_step_window.train.take(1):\n",
    "  print(f'Inputs shape (batch, time, features): {example_inputs.shape}')\n",
    "  print(f'Labels shape (batch, time, features): {example_labels.shape}')"
   ]
  }
 ],
 "metadata": {
  "kernelspec": {
   "display_name": "Python 3",
   "language": "python",
   "name": "python3"
  },
  "language_info": {
   "codemirror_mode": {
    "name": "ipython",
    "version": 3
   },
   "file_extension": ".py",
   "mimetype": "text/x-python",
   "name": "python",
   "nbconvert_exporter": "python",
   "pygments_lexer": "ipython3",
   "version": "3.8.16"
  }
 },
 "nbformat": 4,
 "nbformat_minor": 2
}
