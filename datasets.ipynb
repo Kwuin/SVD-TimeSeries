{
 "cells": [
  {
   "cell_type": "code",
   "execution_count": 10,
   "metadata": {},
   "outputs": [],
   "source": [
    "import numpy as np\n",
    "import pandas as pd\n",
    "\n",
    "\n",
    "df = pd.read_csv('../UCRArchive_2018/Beef/Beef_TRAIN.tsv', sep='\\t')"
   ]
  },
  {
   "cell_type": "code",
   "execution_count": null,
   "metadata": {},
   "outputs": [],
   "source": [
    "\n",
    "def sample_trail_from_mix(mix, current_state, n_step = None, length = 10000):\n",
    "    L_cahins, n_states = mix.S.shape\n",
    "    n_trails = length//n_step + 1\n",
    "    series = np.array([])\n",
    "    if n_step is not None:\n",
    "        n_trials = length // n_step\n",
    "        for i in range(n_trails):\n",
    "            chain_choose = np.random.choice(L_chains, p= (mix.S[:,current_state]/mix.S[:,current_state].sum()))\n",
    "            series = np.concatenate([series, transition_matrix_sample(mix.Ms[chain_choose], current_state, n_step)])\n",
    "            current_state = int(series[-1])\n",
    "        return series[:length]\n",
    "    # else:\n",
    "    #     while series.size < length:\n",
    "    #         n_step = np.random.randint()\n",
    "    #         chain_choose = np.random.choice(L_chains, p= (mix.S[:,current_state]/mix.S[:,current_state].sum()))\n",
    "    #         series = np.concatenate([series, transition_matrix_sample(mix.Ms[chain_choose], current_state, n_step)])\n",
    "    #         current_state = int(series[-1]) \n"
   ]
  },
  {
   "cell_type": "code",
   "execution_count": 6,
   "metadata": {},
   "outputs": [
    {
     "data": {
      "text/plain": [
       "0.6666666666666666"
      ]
     },
     "execution_count": 6,
     "metadata": {},
     "output_type": "execute_result"
    }
   ],
   "source": [
    "xs\n",
    "a = np.arange(3)\n",
    "b = np.ones(3)\n",
    "c = np.int0(a == b)\n",
    "\n",
    "((a - b) ** 2).mean()"
   ]
  }
 ],
 "metadata": {
  "kernelspec": {
   "display_name": "Python 3",
   "language": "python",
   "name": "python3"
  },
  "language_info": {
   "codemirror_mode": {
    "name": "ipython",
    "version": 3
   },
   "file_extension": ".py",
   "mimetype": "text/x-python",
   "name": "python",
   "nbconvert_exporter": "python",
   "pygments_lexer": "ipython3",
   "version": "3.8.16"
  }
 },
 "nbformat": 4,
 "nbformat_minor": 2
}
