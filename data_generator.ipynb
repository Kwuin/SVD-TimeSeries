{
 "cells": [
  {
   "cell_type": "code",
   "execution_count": 2,
   "metadata": {},
   "outputs": [],
   "source": [
    "from learn import em_learn, svd_learn_new\n",
    "from data import *\n",
    "import numpy as np\n"
   ]
  },
  {
   "cell_type": "code",
   "execution_count": 3,
   "metadata": {},
   "outputs": [],
   "source": [
    "def svd_learn(sample, n, L=None, verbose=None, stats={}):\n",
    "    Os = np.moveaxis(sample.all_trail_probs(), 1, 0)\n",
    "\n",
    "    svds = [np.linalg.svd(Os[j], full_matrices=True) for j in range(n)]\n",
    "\n",
    "    if verbose:\n",
    "        for i, (_, s, _) in enumerate(svds):\n",
    "            print(f\"{i}: {s[:L+1]} ...\")\n",
    "\n",
    "    Ps_ = np.zeros((n, L, n))\n",
    "    Qs_ = np.zeros((n, L, n))\n",
    "    for j, (u, s, vh) in enumerate(svds):\n",
    "        Ps_[j, 0 : min(n, L), :] = u[:, 0:L].T\n",
    "        Qs_[j, 0 : min(n, L), :] = (np.diag(s) @ (vh))[0:L, :]\n",
    "\n",
    "    A = np.zeros((2 * n * L, n**2))\n",
    "    for j in range(n):\n",
    "        A[L * j : L * (j + 1), n * j : n * (j + 1)] = Ps_[j]\n",
    "        A[L * (n + j) : L * (n + j + 1), j + n * (np.arange(n))] = -Qs_[j]\n",
    "\n",
    "    _, s, vh = np.linalg.svd(A.T, full_matrices=True)\n",
    "    small = list(s < 1e-5)\n",
    "    if True in small:\n",
    "        fst = small.index(True)\n",
    "        if verbose:\n",
    "            print(2 * L * n - fst, L, s[[fst - 1, fst]])\n",
    "    B = vh[-L:]\n",
    "    Bre = np.moveaxis(B.reshape((L, L, 2 * n), order=\"F\"), -1, 0)\n",
    "    Ys_ = Bre[0:n]\n",
    "    Zs_ = Bre[n : 2 * n]\n",
    "\n",
    "    Xs = [\n",
    "        np.linalg.pinv(Zs_[j] @ Ys_[j].T) @ (Zs_[j + 1] @ Ys_[j + 1].T)\n",
    "        for j in range(n - 1)\n",
    "    ]\n",
    "    X = np.sum(Xs, axis=0)\n",
    "    _, R_ = np.linalg.eig(X)\n",
    "    d, _, _, _ = np.linalg.lstsq(\n",
    "        (R_.T @ Ys_[0] @ Ps_[0]).T, Os[0] @ np.ones(n), rcond=None\n",
    "    )\n",
    "\n",
    "    R = np.diag(d) @ R_.T\n",
    "    Ys = R @ Ys_\n",
    "    Ps = np.array([Y @ P_ for Y, P_ in zip(Ys, Ps_)])\n",
    "    Ss = np.array([R @ Z_ @ Y_.T @ R.T for Z_, Y_ in zip(Zs_, Ys_)])\n",
    "\n",
    "    S_ = np.zeros((L, n))\n",
    "    Ms_ = np.zeros((L, n, n))\n",
    "    for l in range(L):\n",
    "        for i in range(n):\n",
    "            S_[l, i] = Ss[i, l, l]\n",
    "            for j in range(n):\n",
    "                Ms_[l, i, j] = Ps[j, l, i] / S_[l, i]\n",
    "\n",
    "    S_ = np.abs(S_)\n",
    "    Ms_ = np.abs(Ms_)\n",
    "    learned_mixture = Mixture(S_, Ms_)\n",
    "    learned_mixture.normalize()\n",
    "    return learned_mixture\n",
    "\n",
    "learners = {\n",
    "    \"CA-SVD\": svd_learn_new,\n",
    "    \"CA-SVD'\": lambda d, n, L: svd_learn_new(d, n, L, sample_dist=0.01),\n",
    "    \"GKV-SVD\": svd_learn,\n",
    "    \"EM2\": lambda d, n, L: em_learn(d, n, L, max_iter=2),\n",
    "    \"EM5\": lambda d, n, L: em_learn(d, n, L, max_iter=5),\n",
    "    \"EM20\": lambda d, n, L: em_learn(d, n, L, max_iter=20),\n",
    "    \"EM50\": lambda d, n, L: em_learn(d, n, L, max_iter=50),\n",
    "    \"EM100\": lambda d, n, L: em_learn(d, n, L, max_iter=100),\n",
    "    \"EM-converge\": em_learn,\n",
    "    \"CA-SVD-EM2\": lambda d, n, L: svd_learn_new(d, n, L, em_refine_max_iter=2),\n",
    "    \"CA-SVD-EM5\": lambda d, n, L: svd_learn_new(d, n, L, em_refine_max_iter=5),\n",
    "    \"CA-SVD-EM20\": lambda d, n, L: svd_learn_new(d, n, L, em_refine_max_iter=20),\n",
    "    \"CA-SVD-EM100\": lambda d, n, L: svd_learn_new(d, n, L, em_refine_max_iter=100),\n",
    "}\n",
    "\n",
    "def count_3_from_seq(seq, n):\n",
    "    \"\"\"\n",
    "    seq: discretized sequence\n",
    "    n: number of categories\n",
    "    \"\"\"\n",
    "    all_trail_probs = np.zeros((n, n, n)) \n",
    "    for i in range(len(seq) // 3):\n",
    "        x = seq[3*i:3*(i+1)]\n",
    "        all_trail_probs[tuple(x)] += 1\n",
    "       #num_visited[x] += 1\n",
    "    return Distribution.from_all_trail_probs(all_trail_probs / np.sum(all_trail_probs))\n",
    "    \n",
    "def learn_mix_from_seq(seq,learner, n, L):\n",
    "    \"\"\"\n",
    "    seq: discretized time series: an 1-d array\n",
    "    learner: \n",
    "    \"\"\"\n",
    "    learners = {\n",
    "        \"CA-SVD\": svd_learn_new,\n",
    "        \"CA-SVD'\": lambda d, n, L: svd_learn_new(d, n, L, sample_dist=0.01),\n",
    "        \"GKV-SVD\": svd_learn,\n",
    "        \"EM2\": lambda d, n, L: em_learn(d, n, L, max_iter=2),\n",
    "        \"EM5\": lambda d, n, L: em_learn(d, n, L, max_iter=5),\n",
    "        \"EM20\": lambda d, n, L: em_learn(d, n, L, max_iter=20),\n",
    "        \"EM50\": lambda d, n, L: em_learn(d, n, L, max_iter=50),\n",
    "        \"EM100\": lambda d, n, L: em_learn(d, n, L, max_iter=100),\n",
    "        \"EM-converge\": em_learn,\n",
    "        \"CA-SVD-EM2\": lambda d, n, L: svd_learn_new(d, n, L, em_refine_max_iter=2),\n",
    "        \"CA-SVD-EM5\": lambda d, n, L: svd_learn_new(d, n, L, em_refine_max_iter=5),\n",
    "        \"CA-SVD-EM20\": lambda d, n, L: svd_learn_new(d, n, L, em_refine_max_iter=20),\n",
    "        \"CA-SVD-EM100\": lambda d, n, L: svd_learn_new(d, n, L, em_refine_max_iter=100),\n",
    "    }\n",
    "    trail_empirical_distribution = count_3_from_seq(seq, n)\n",
    "    if np.isnan(trail_empirical_distribution.all_trail_probs()).any() or np.isinf(trail_empirical_distribution.all_trail_probs()).any():\n",
    "        print(\"Inf or NAN values\")\n",
    "        print(trail_empirical_distribution.all_trail_probs())\n",
    "        \n",
    "    return  learners[learner](trail_empirical_distribution, n, L)\n",
    "\n",
    "def likelihood(mixture, trails, counts=None, log=False):\n",
    "    if counts is None: counts = transitions(mixture.n, trails)\n",
    "    logS = np.log(mixture.S + 1e-10)\n",
    "    logTs = np.log(mixture.Ms + 1e-10)\n",
    "\n",
    "    logl = logS[:, trails[:,0]]\n",
    "    logl += np.sum(logTs[:, :, :, None] * np.moveaxis(counts, 0, 2)[None, :, :, :], axis=(1,2))\n",
    "    if log: return logl\n",
    "    probs = np.exp(logl - np.max(logl, axis=0))\n",
    "    probs /= np.sum(probs, axis=0)[None, :]\n",
    "    return probs\n",
    "\n",
    "def transitions(n, trails):\n",
    "    n_samples = trails.shape[0]\n",
    "    c = np.zeros([n_samples, n, n], dtype=int)\n",
    "    for t, trail in enumerate(trails):\n",
    "        i = trail[0]\n",
    "        for j in trail[1:]:\n",
    "            c[t, i, j] += 1\n",
    "            i = j\n",
    "    return c"
   ]
  },
  {
   "cell_type": "code",
   "execution_count": 4,
   "metadata": {},
   "outputs": [],
   "source": [
    "n_states = 10\n",
    "L_chains = 5\n",
    "current_state = 3\n",
    "mix = Mixture.random(n_states, L_chains)\n",
    "xs = mix.sample(1,int(1e5), length = int(1e6)).astype(int)"
   ]
  },
  {
   "cell_type": "code",
   "execution_count": 5,
   "metadata": {},
   "outputs": [
    {
     "name": "stderr",
     "output_type": "stream",
     "text": [
      "/var/folders/kx/06y42x8s5571j9jqkpc5wf500000gn/T/ipykernel_9785/2861410156.py:51: ComplexWarning: Casting complex values to real discards the imaginary part\n",
      "  S_[l, i] = Ss[i, l, l]\n",
      "/var/folders/kx/06y42x8s5571j9jqkpc5wf500000gn/T/ipykernel_9785/2861410156.py:53: ComplexWarning: Casting complex values to real discards the imaginary part\n",
      "  Ms_[l, i, j] = Ps[j, l, i] / S_[l, i]\n"
     ]
    }
   ],
   "source": [
    "num_categories = n_states\n",
    "window = len(xs)//100\n",
    "L = 5\n",
    "correct_count = 0\n",
    "error = []\n",
    "neg_ll = []\n",
    "predict = []\n",
    "for i in range(1000):\n",
    "    subseq = xs[i:i+window]\n",
    "    learned_mix = learn_mix_from_seq(subseq,'GKV-SVD', num_categories, L)\n",
    "    chain_prob = likelihood(learned_mix, np.atleast_2d(subseq[-2:]))\n",
    "    #most_likely_index = np.argmax(chain_prob)\n",
    "    #multi_dim_index = np.unravel_index(most_likely_index, learned_mix.S.shape)\n",
    "    # Based on likelihood probability to find the most likely chain.\n",
    "    most_likely_chain = np.argmax(chain_prob)\n",
    "    prob_next_step = learned_mix.Ms[most_likely_chain, subseq[window - 1], :]\n",
    "    neg_log_likelihood = -np.log(prob_next_step[xs[i + window]]) + np.log(np.max(prob_next_step))\n",
    "    sorted_indices = np.argsort(prob_next_step)\n",
    "    predict.append(np.argmax(prob_next_step))\n",
    "    rank = np.where(sorted_indices == xs[i + window])[0][0]\n",
    "\n",
    "    neg_ll.append(neg_log_likelihood)\n",
    "    error.append(59 - rank)\n"
   ]
  },
  {
   "cell_type": "code",
   "execution_count": 111,
   "metadata": {},
   "outputs": [
    {
     "name": "stdout",
     "output_type": "stream",
     "text": [
      "3.061\n",
      "0.167\n"
     ]
    }
   ],
   "source": [
    "predict = np.array(predict)\n",
    "print(abs(predict - xs[window :window + 1000]).mean())\n",
    "print((predict == xs[window:window + 1000]).astype(int).mean())\n",
    "\n",
    "# The more chains, the less accurate"
   ]
  },
  {
   "cell_type": "code",
   "execution_count": 14,
   "metadata": {},
   "outputs": [
    {
     "data": {
      "text/plain": [
       "54.22"
      ]
     },
     "execution_count": 14,
     "metadata": {},
     "output_type": "execute_result"
    }
   ],
   "source": [
    "error = np.array(error)\n",
    "error.mean()"
   ]
  },
  {
   "cell_type": "code",
   "execution_count": null,
   "metadata": {},
   "outputs": [],
   "source": []
  },
  {
   "cell_type": "code",
   "execution_count": null,
   "metadata": {},
   "outputs": [],
   "source": [
    "print(predict == xs)"
   ]
  },
  {
   "cell_type": "code",
   "execution_count": 47,
   "metadata": {},
   "outputs": [],
   "source": [
    "import statsmodels.api as sm\n",
    "import pandas as pd\n"
   ]
  },
  {
   "cell_type": "code",
   "execution_count": 48,
   "metadata": {},
   "outputs": [],
   "source": [
    "#endog = pd.read_csv('energydata_complete.csv')['RH_5']\n",
    "endog = pd.DataFrame(xs, columns=['self_generate'])\n",
    "# We could also fit a more complicated model with seasonal components.\n",
    "# As an example, here is an SARIMA(1,1,1) x (0,1,1,4):\n"
   ]
  },
  {
   "cell_type": "code",
   "execution_count": 112,
   "metadata": {},
   "outputs": [
    {
     "name": "stderr",
     "output_type": "stream",
     "text": [
      " This problem is unconstrained.\n"
     ]
    },
    {
     "name": "stdout",
     "output_type": "stream",
     "text": [
      "RUNNING THE L-BFGS-B CODE\n",
      "\n",
      "           * * *\n",
      "\n",
      "Machine precision = 2.220D-16\n",
      " N =            4     M =           10\n",
      "\n",
      "At X0         0 variables are exactly at the bounds\n",
      "\n",
      "At iterate    0    f=  2.75193D+00    |proj g|=  9.81026D-02\n",
      "\n",
      "At iterate    5    f=  2.50089D+00    |proj g|=  1.81029D-02\n",
      "\n",
      "At iterate   10    f=  2.46478D+00    |proj g|=  6.54857D-03\n",
      "\n",
      "At iterate   15    f=  2.45895D+00    |proj g|=  2.96952D-03\n"
     ]
    },
    {
     "name": "stderr",
     "output_type": "stream",
     "text": [
      "\n",
      " Warning:  more than 10 function and gradient\n",
      "   evaluations in the last line search.  Termination\n",
      "   may possibly be caused by a bad search direction.\n"
     ]
    },
    {
     "name": "stdout",
     "output_type": "stream",
     "text": [
      "\n",
      "           * * *\n",
      "\n",
      "Tit   = total number of iterations\n",
      "Tnf   = total number of function evaluations\n",
      "Tnint = total number of segments explored during Cauchy searches\n",
      "Skip  = number of BFGS updates skipped\n",
      "Nact  = number of active bounds at final generalized Cauchy point\n",
      "Projg = norm of the final projected gradient\n",
      "F     = final function value\n",
      "\n",
      "           * * *\n",
      "\n",
      "   N    Tit     Tnf  Tnint  Skip  Nact     Projg        F\n",
      "    4     17     29      1     0     0   1.473D-03   2.459D+00\n",
      "  F =   2.4586303844453030     \n",
      "\n",
      "CONVERGENCE: REL_REDUCTION_OF_F_<=_FACTR*EPSMCH             \n"
     ]
    },
    {
     "name": "stderr",
     "output_type": "stream",
     "text": [
      " This problem is unconstrained.\n"
     ]
    },
    {
     "name": "stdout",
     "output_type": "stream",
     "text": [
      "RUNNING THE L-BFGS-B CODE\n",
      "\n",
      "           * * *\n",
      "\n",
      "Machine precision = 2.220D-16\n",
      " N =            4     M =           10\n",
      "\n",
      "At X0         0 variables are exactly at the bounds\n",
      "\n",
      "At iterate    0    f=  2.75181D+00    |proj g|=  9.81427D-02\n",
      "\n",
      "At iterate    5    f=  2.50085D+00    |proj g|=  1.81060D-02\n",
      "\n",
      "At iterate   10    f=  2.46478D+00    |proj g|=  7.18517D-03\n",
      "\n",
      "At iterate   15    f=  2.45877D+00    |proj g|=  1.89847D-02\n",
      "\n",
      "At iterate   20    f=  2.45853D+00    |proj g|=  9.52821D-04\n",
      "\n",
      "At iterate   25    f=  2.45853D+00    |proj g|=  1.38038D-04\n",
      "\n",
      "           * * *\n",
      "\n",
      "Tit   = total number of iterations\n",
      "Tnf   = total number of function evaluations\n",
      "Tnint = total number of segments explored during Cauchy searches\n",
      "Skip  = number of BFGS updates skipped\n",
      "Nact  = number of active bounds at final generalized Cauchy point\n",
      "Projg = norm of the final projected gradient\n",
      "F     = final function value\n",
      "\n",
      "           * * *\n",
      "\n",
      "   N    Tit     Tnf  Tnint  Skip  Nact     Projg        F\n",
      "    4     27     45      1     0     0   1.806D-04   2.459D+00\n",
      "  F =   2.4585263048913921     \n",
      "\n",
      "CONVERGENCE: REL_REDUCTION_OF_F_<=_FACTR*EPSMCH             \n"
     ]
    },
    {
     "name": "stderr",
     "output_type": "stream",
     "text": [
      " This problem is unconstrained.\n"
     ]
    },
    {
     "name": "stdout",
     "output_type": "stream",
     "text": [
      "RUNNING THE L-BFGS-B CODE\n",
      "\n",
      "           * * *\n",
      "\n",
      "Machine precision = 2.220D-16\n",
      " N =            4     M =           10\n",
      "\n",
      "At X0         0 variables are exactly at the bounds\n",
      "\n",
      "At iterate    0    f=  2.75200D+00    |proj g|=  9.81465D-02\n",
      "\n",
      "At iterate    5    f=  2.50089D+00    |proj g|=  1.81546D-02\n",
      "\n",
      "At iterate   10    f=  2.46472D+00    |proj g|=  6.74949D-03\n",
      "\n",
      "At iterate   15    f=  2.45898D+00    |proj g|=  8.46634D-03\n",
      "  ys=-3.859E-04  -gs= 4.264E-04 BFGS update SKIPPED\n"
     ]
    },
    {
     "name": "stderr",
     "output_type": "stream",
     "text": [
      "\n",
      " Bad direction in the line search;\n",
      "   refresh the lbfgs memory and restart the iteration.\n"
     ]
    },
    {
     "name": "stdout",
     "output_type": "stream",
     "text": [
      "\n",
      "At iterate   20    f=  2.45858D+00    |proj g|=  8.86272D-05\n",
      "\n",
      "At iterate   25    f=  2.45858D+00    |proj g|=  1.90138D-04\n",
      "\n",
      "At iterate   30    f=  2.45858D+00    |proj g|=  1.17627D-04\n",
      "\n",
      "           * * *\n",
      "\n",
      "Tit   = total number of iterations\n",
      "Tnf   = total number of function evaluations\n",
      "Tnint = total number of segments explored during Cauchy searches\n",
      "Skip  = number of BFGS updates skipped\n",
      "Nact  = number of active bounds at final generalized Cauchy point\n",
      "Projg = norm of the final projected gradient\n",
      "F     = final function value\n",
      "\n",
      "           * * *\n",
      "\n",
      "   N    Tit     Tnf  Tnint  Skip  Nact     Projg        F\n",
      "    4     33     70      2     1     0   1.596D-04   2.459D+00\n",
      "  F =   2.4585797190834104     \n",
      "\n",
      "CONVERGENCE: REL_REDUCTION_OF_F_<=_FACTR*EPSMCH             \n"
     ]
    },
    {
     "name": "stderr",
     "output_type": "stream",
     "text": [
      " This problem is unconstrained.\n"
     ]
    },
    {
     "name": "stdout",
     "output_type": "stream",
     "text": [
      "RUNNING THE L-BFGS-B CODE\n",
      "\n",
      "           * * *\n",
      "\n",
      "Machine precision = 2.220D-16\n",
      " N =            4     M =           10\n",
      "\n",
      "At X0         0 variables are exactly at the bounds\n",
      "\n",
      "At iterate    0    f=  2.75204D+00    |proj g|=  9.81186D-02\n",
      "\n",
      "At iterate    5    f=  2.50078D+00    |proj g|=  1.81347D-02\n",
      "\n",
      "At iterate   10    f=  2.46467D+00    |proj g|=  6.72838D-03\n",
      "\n",
      "At iterate   15    f=  2.45885D+00    |proj g|=  1.56908D-02\n",
      "\n",
      "At iterate   20    f=  2.45861D+00    |proj g|=  1.83126D-04\n",
      "\n",
      "At iterate   25    f=  2.45857D+00    |proj g|=  1.37924D-04\n",
      "\n",
      "           * * *\n",
      "\n",
      "Tit   = total number of iterations\n",
      "Tnf   = total number of function evaluations\n",
      "Tnint = total number of segments explored during Cauchy searches\n",
      "Skip  = number of BFGS updates skipped\n",
      "Nact  = number of active bounds at final generalized Cauchy point\n",
      "Projg = norm of the final projected gradient\n",
      "F     = final function value\n",
      "\n",
      "           * * *\n",
      "\n",
      "   N    Tit     Tnf  Tnint  Skip  Nact     Projg        F\n",
      "    4     26     49      1     0     0   1.007D-04   2.459D+00\n",
      "  F =   2.4585729816620709     \n",
      "\n",
      "CONVERGENCE: REL_REDUCTION_OF_F_<=_FACTR*EPSMCH             \n"
     ]
    },
    {
     "name": "stderr",
     "output_type": "stream",
     "text": [
      "\n",
      " Warning:  more than 10 function and gradient\n",
      "   evaluations in the last line search.  Termination\n",
      "   may possibly be caused by a bad search direction.\n",
      " This problem is unconstrained.\n"
     ]
    },
    {
     "name": "stdout",
     "output_type": "stream",
     "text": [
      "RUNNING THE L-BFGS-B CODE\n",
      "\n",
      "           * * *\n",
      "\n",
      "Machine precision = 2.220D-16\n",
      " N =            4     M =           10\n",
      "\n",
      "At X0         0 variables are exactly at the bounds\n",
      "\n",
      "At iterate    0    f=  2.75200D+00    |proj g|=  9.81379D-02\n",
      "\n",
      "At iterate    5    f=  2.50087D+00    |proj g|=  1.81690D-02\n",
      "\n",
      "At iterate   10    f=  2.46467D+00    |proj g|=  6.19595D-03\n",
      "\n",
      "At iterate   15    f=  2.45865D+00    |proj g|=  7.44068D-03\n",
      "\n",
      "At iterate   20    f=  2.45857D+00    |proj g|=  6.51336D-04\n",
      "\n",
      "           * * *\n",
      "\n",
      "Tit   = total number of iterations\n",
      "Tnf   = total number of function evaluations\n",
      "Tnint = total number of segments explored during Cauchy searches\n",
      "Skip  = number of BFGS updates skipped\n",
      "Nact  = number of active bounds at final generalized Cauchy point\n",
      "Projg = norm of the final projected gradient\n",
      "F     = final function value\n",
      "\n",
      "           * * *\n",
      "\n",
      "   N    Tit     Tnf  Tnint  Skip  Nact     Projg        F\n",
      "    4     20     27      1     0     0   6.513D-04   2.459D+00\n",
      "  F =   2.4585691414041611     \n",
      "\n",
      "CONVERGENCE: REL_REDUCTION_OF_F_<=_FACTR*EPSMCH             \n",
      "RUNNING THE L-BFGS-B CODE\n",
      "\n",
      "           * * *\n",
      "\n",
      "Machine precision = 2.220D-16\n",
      " N =            4     M =           10\n",
      "\n",
      "At X0         0 variables are exactly at the bounds\n",
      "\n",
      "At iterate    0    f=  2.75194D+00    |proj g|=  9.81601D-02\n",
      "\n",
      "At iterate    5    f=  2.50075D+00    |proj g|=  1.81717D-02\n"
     ]
    },
    {
     "name": "stderr",
     "output_type": "stream",
     "text": [
      " This problem is unconstrained.\n"
     ]
    },
    {
     "name": "stdout",
     "output_type": "stream",
     "text": [
      "\n",
      "At iterate   10    f=  2.46459D+00    |proj g|=  6.21854D-03\n",
      "\n",
      "At iterate   15    f=  2.45864D+00    |proj g|=  8.64911D-03\n",
      "\n",
      "At iterate   20    f=  2.45837D+00    |proj g|=  6.64791D-04\n",
      "\n",
      "At iterate   25    f=  2.45837D+00    |proj g|=  9.42675D-04\n",
      "\n",
      "           * * *\n",
      "\n",
      "Tit   = total number of iterations\n",
      "Tnf   = total number of function evaluations\n",
      "Tnint = total number of segments explored during Cauchy searches\n",
      "Skip  = number of BFGS updates skipped\n",
      "Nact  = number of active bounds at final generalized Cauchy point\n",
      "Projg = norm of the final projected gradient\n",
      "F     = final function value\n",
      "\n",
      "           * * *\n",
      "\n",
      "   N    Tit     Tnf  Tnint  Skip  Nact     Projg        F\n",
      "    4     27     42      1     0     0   2.647D-04   2.458D+00\n",
      "  F =   2.4583670610926203     \n",
      "\n",
      "CONVERGENCE: REL_REDUCTION_OF_F_<=_FACTR*EPSMCH             \n"
     ]
    },
    {
     "name": "stderr",
     "output_type": "stream",
     "text": [
      " This problem is unconstrained.\n"
     ]
    },
    {
     "name": "stdout",
     "output_type": "stream",
     "text": [
      "RUNNING THE L-BFGS-B CODE\n",
      "\n",
      "           * * *\n",
      "\n",
      "Machine precision = 2.220D-16\n",
      " N =            4     M =           10\n",
      "\n",
      "At X0         0 variables are exactly at the bounds\n",
      "\n",
      "At iterate    0    f=  2.75203D+00    |proj g|=  9.81161D-02\n",
      "\n",
      "At iterate    5    f=  2.50076D+00    |proj g|=  1.81635D-02\n",
      "\n",
      "At iterate   10    f=  2.46463D+00    |proj g|=  6.16346D-03\n",
      "\n",
      "At iterate   15    f=  2.45876D+00    |proj g|=  3.11877D-03\n",
      "\n",
      "At iterate   20    f=  2.45841D+00    |proj g|=  3.69714D-04\n",
      "\n",
      "           * * *\n",
      "\n",
      "Tit   = total number of iterations\n",
      "Tnf   = total number of function evaluations\n",
      "Tnint = total number of segments explored during Cauchy searches\n",
      "Skip  = number of BFGS updates skipped\n",
      "Nact  = number of active bounds at final generalized Cauchy point\n",
      "Projg = norm of the final projected gradient\n",
      "F     = final function value\n",
      "\n",
      "           * * *\n",
      "\n",
      "   N    Tit     Tnf  Tnint  Skip  Nact     Projg        F\n",
      "    4     21     38      1     0     0   2.408D-04   2.458D+00\n",
      "  F =   2.4584078926581712     \n",
      "\n",
      "CONVERGENCE: REL_REDUCTION_OF_F_<=_FACTR*EPSMCH             \n"
     ]
    },
    {
     "name": "stderr",
     "output_type": "stream",
     "text": [
      " This problem is unconstrained.\n"
     ]
    },
    {
     "name": "stdout",
     "output_type": "stream",
     "text": [
      "RUNNING THE L-BFGS-B CODE\n",
      "\n",
      "           * * *\n",
      "\n",
      "Machine precision = 2.220D-16\n",
      " N =            4     M =           10\n",
      "\n",
      "At X0         0 variables are exactly at the bounds\n",
      "\n",
      "At iterate    0    f=  2.75207D+00    |proj g|=  9.81072D-02\n",
      "\n",
      "At iterate    5    f=  2.50094D+00    |proj g|=  1.81808D-02\n",
      "\n",
      "At iterate   10    f=  2.46475D+00    |proj g|=  5.63494D-03\n",
      "\n",
      "At iterate   15    f=  2.45855D+00    |proj g|=  1.12733D-03\n"
     ]
    },
    {
     "name": "stderr",
     "output_type": "stream",
     "text": [
      "\n",
      " Warning:  more than 10 function and gradient\n",
      "   evaluations in the last line search.  Termination\n",
      "   may possibly be caused by a bad search direction.\n"
     ]
    },
    {
     "name": "stdout",
     "output_type": "stream",
     "text": [
      "\n",
      "           * * *\n",
      "\n",
      "Tit   = total number of iterations\n",
      "Tnf   = total number of function evaluations\n",
      "Tnint = total number of segments explored during Cauchy searches\n",
      "Skip  = number of BFGS updates skipped\n",
      "Nact  = number of active bounds at final generalized Cauchy point\n",
      "Projg = norm of the final projected gradient\n",
      "F     = final function value\n",
      "\n",
      "           * * *\n",
      "\n",
      "   N    Tit     Tnf  Tnint  Skip  Nact     Projg        F\n",
      "    4     18     38      1     0     0   1.875D-03   2.458D+00\n",
      "  F =   2.4583762148727946     \n",
      "\n",
      "CONVERGENCE: REL_REDUCTION_OF_F_<=_FACTR*EPSMCH             \n"
     ]
    },
    {
     "name": "stderr",
     "output_type": "stream",
     "text": [
      " This problem is unconstrained.\n"
     ]
    },
    {
     "name": "stdout",
     "output_type": "stream",
     "text": [
      "RUNNING THE L-BFGS-B CODE\n",
      "\n",
      "           * * *\n",
      "\n",
      "Machine precision = 2.220D-16\n",
      " N =            4     M =           10\n",
      "\n",
      "At X0         0 variables are exactly at the bounds\n",
      "\n",
      "At iterate    0    f=  2.75204D+00    |proj g|=  9.81179D-02\n",
      "\n",
      "At iterate    5    f=  2.50093D+00    |proj g|=  1.81690D-02\n",
      "\n",
      "At iterate   10    f=  2.46479D+00    |proj g|=  6.21707D-03\n",
      "\n",
      "At iterate   15    f=  2.45892D+00    |proj g|=  7.74940D-03\n",
      "\n",
      "At iterate   20    f=  2.45865D+00    |proj g|=  1.28953D-03\n",
      "\n",
      "           * * *\n",
      "\n",
      "Tit   = total number of iterations\n",
      "Tnf   = total number of function evaluations\n",
      "Tnint = total number of segments explored during Cauchy searches\n",
      "Skip  = number of BFGS updates skipped\n",
      "Nact  = number of active bounds at final generalized Cauchy point\n",
      "Projg = norm of the final projected gradient\n",
      "F     = final function value\n",
      "\n",
      "           * * *\n",
      "\n",
      "   N    Tit     Tnf  Tnint  Skip  Nact     Projg        F\n",
      "    4     24     30      1     0     0   2.543D-04   2.459D+00\n",
      "  F =   2.4586536939873844     \n",
      "\n",
      "CONVERGENCE: REL_REDUCTION_OF_F_<=_FACTR*EPSMCH             \n",
      "RUNNING THE L-BFGS-B CODE\n",
      "\n",
      "           * * *\n",
      "\n",
      "Machine precision = 2.220D-16\n",
      " N =            4     M =           10\n",
      "\n",
      "At X0         0 variables are exactly at the bounds\n",
      "\n",
      "At iterate    0    f=  2.75221D+00    |proj g|=  9.80892D-02\n",
      "\n",
      "At iterate    5    f=  2.50101D+00    |proj g|=  1.81722D-02\n"
     ]
    },
    {
     "name": "stderr",
     "output_type": "stream",
     "text": [
      " This problem is unconstrained.\n"
     ]
    },
    {
     "name": "stdout",
     "output_type": "stream",
     "text": [
      "\n",
      "At iterate   10    f=  2.46484D+00    |proj g|=  5.73390D-03\n",
      "\n",
      "At iterate   15    f=  2.45886D+00    |proj g|=  1.28058D-02\n",
      "\n",
      "           * * *\n",
      "\n",
      "Tit   = total number of iterations\n",
      "Tnf   = total number of function evaluations\n",
      "Tnint = total number of segments explored during Cauchy searches\n",
      "Skip  = number of BFGS updates skipped\n",
      "Nact  = number of active bounds at final generalized Cauchy point\n",
      "Projg = norm of the final projected gradient\n",
      "F     = final function value\n",
      "\n",
      "           * * *\n",
      "\n",
      "   N    Tit     Tnf  Tnint  Skip  Nact     Projg        F\n",
      "    4     18     27      1     0     0   2.634D-03   2.459D+00\n",
      "  F =   2.4585449541025124     \n",
      "\n",
      "CONVERGENCE: REL_REDUCTION_OF_F_<=_FACTR*EPSMCH             \n"
     ]
    },
    {
     "name": "stderr",
     "output_type": "stream",
     "text": [
      " This problem is unconstrained.\n"
     ]
    },
    {
     "name": "stdout",
     "output_type": "stream",
     "text": [
      "RUNNING THE L-BFGS-B CODE\n",
      "\n",
      "           * * *\n",
      "\n",
      "Machine precision = 2.220D-16\n",
      " N =            4     M =           10\n",
      "\n",
      "At X0         0 variables are exactly at the bounds\n",
      "\n",
      "At iterate    0    f=  2.75228D+00    |proj g|=  9.80510D-02\n",
      "\n",
      "At iterate    5    f=  2.50102D+00    |proj g|=  1.81292D-02\n",
      "\n",
      "At iterate   10    f=  2.46494D+00    |proj g|=  6.77518D-03\n",
      "\n",
      "At iterate   15    f=  2.45879D+00    |proj g|=  4.86449D-03\n",
      "\n",
      "           * * *\n",
      "\n",
      "Tit   = total number of iterations\n",
      "Tnf   = total number of function evaluations\n",
      "Tnint = total number of segments explored during Cauchy searches\n",
      "Skip  = number of BFGS updates skipped\n",
      "Nact  = number of active bounds at final generalized Cauchy point\n",
      "Projg = norm of the final projected gradient\n",
      "F     = final function value\n",
      "\n",
      "           * * *\n",
      "\n",
      "   N    Tit     Tnf  Tnint  Skip  Nact     Projg        F\n",
      "    4     17     26      1     0     0   8.683D-04   2.459D+00\n",
      "  F =   2.4587363503513506     \n",
      "\n",
      "CONVERGENCE: REL_REDUCTION_OF_F_<=_FACTR*EPSMCH             \n"
     ]
    },
    {
     "name": "stderr",
     "output_type": "stream",
     "text": [
      " This problem is unconstrained.\n"
     ]
    },
    {
     "name": "stdout",
     "output_type": "stream",
     "text": [
      "RUNNING THE L-BFGS-B CODE\n",
      "\n",
      "           * * *\n",
      "\n",
      "Machine precision = 2.220D-16\n",
      " N =            4     M =           10\n",
      "\n",
      "At X0         0 variables are exactly at the bounds\n",
      "\n",
      "At iterate    0    f=  2.75231D+00    |proj g|=  9.80384D-02\n",
      "\n",
      "At iterate    5    f=  2.50112D+00    |proj g|=  1.81306D-02\n",
      "\n",
      "At iterate   10    f=  2.46498D+00    |proj g|=  5.88256D-03\n",
      "\n",
      "At iterate   15    f=  2.45887D+00    |proj g|=  6.77663D-03\n",
      "\n",
      "           * * *\n",
      "\n",
      "Tit   = total number of iterations\n",
      "Tnf   = total number of function evaluations\n",
      "Tnint = total number of segments explored during Cauchy searches\n",
      "Skip  = number of BFGS updates skipped\n",
      "Nact  = number of active bounds at final generalized Cauchy point\n",
      "Projg = norm of the final projected gradient\n",
      "F     = final function value\n",
      "\n",
      "           * * *\n",
      "\n",
      "   N    Tit     Tnf  Tnint  Skip  Nact     Projg        F\n",
      "    4     17     26      1     0     0   2.790D-03   2.459D+00\n",
      "  F =   2.4586656905675306     \n",
      "\n",
      "CONVERGENCE: REL_REDUCTION_OF_F_<=_FACTR*EPSMCH             \n",
      "RUNNING THE L-BFGS-B CODE\n",
      "\n",
      "           * * *\n",
      "\n",
      "Machine precision = 2.220D-16\n",
      " N =            4     M =           10\n",
      "\n",
      "At X0         0 variables are exactly at the bounds\n",
      "\n",
      "At iterate    0    f=  2.75240D+00    |proj g|=  9.80315D-02\n",
      "\n",
      "At iterate    5    f=  2.50121D+00    |proj g|=  1.81404D-02\n"
     ]
    },
    {
     "name": "stderr",
     "output_type": "stream",
     "text": [
      " This problem is unconstrained.\n"
     ]
    },
    {
     "name": "stdout",
     "output_type": "stream",
     "text": [
      "\n",
      "At iterate   10    f=  2.46509D+00    |proj g|=  6.37578D-03\n",
      "\n",
      "At iterate   15    f=  2.45939D+00    |proj g|=  2.06194D-03\n",
      "\n",
      "At iterate   20    f=  2.45912D+00    |proj g|=  4.61271D-03\n",
      "  ys=-2.581E-05  -gs= 4.349E-04 BFGS update SKIPPED\n",
      "\n",
      "At iterate   25    f=  2.45870D+00    |proj g|=  2.42096D-03\n",
      "\n",
      "           * * *\n",
      "\n",
      "Tit   = total number of iterations\n",
      "Tnf   = total number of function evaluations\n",
      "Tnint = total number of segments explored during Cauchy searches\n",
      "Skip  = number of BFGS updates skipped\n",
      "Nact  = number of active bounds at final generalized Cauchy point\n",
      "Projg = norm of the final projected gradient\n",
      "F     = final function value\n",
      "\n",
      "           * * *\n",
      "\n",
      "   N    Tit     Tnf  Tnint  Skip  Nact     Projg        F\n",
      "    4     29     49      1     1     0   5.771D-04   2.459D+00\n",
      "  F =   2.4586878801551597     \n",
      "\n",
      "CONVERGENCE: REL_REDUCTION_OF_F_<=_FACTR*EPSMCH             \n"
     ]
    },
    {
     "name": "stderr",
     "output_type": "stream",
     "text": [
      " This problem is unconstrained.\n"
     ]
    },
    {
     "name": "stdout",
     "output_type": "stream",
     "text": [
      "RUNNING THE L-BFGS-B CODE\n",
      "\n",
      "           * * *\n",
      "\n",
      "Machine precision = 2.220D-16\n",
      " N =            4     M =           10\n",
      "\n",
      "At X0         0 variables are exactly at the bounds\n",
      "\n",
      "At iterate    0    f=  2.75241D+00    |proj g|=  9.80293D-02\n",
      "\n",
      "At iterate    5    f=  2.50139D+00    |proj g|=  1.81518D-02\n",
      "\n",
      "At iterate   10    f=  2.46521D+00    |proj g|=  5.60075D-03\n",
      "\n",
      "At iterate   15    f=  2.45902D+00    |proj g|=  1.35391D-02\n",
      "  ys=-1.626E-08  -gs= 1.493E-08 BFGS update SKIPPED\n",
      "\n",
      "           * * *\n",
      "\n",
      "Tit   = total number of iterations\n",
      "Tnf   = total number of function evaluations\n",
      "Tnint = total number of segments explored during Cauchy searches\n",
      "Skip  = number of BFGS updates skipped\n",
      "Nact  = number of active bounds at final generalized Cauchy point\n",
      "Projg = norm of the final projected gradient\n",
      "F     = final function value\n",
      "\n",
      "           * * *\n",
      "\n",
      "   N    Tit     Tnf  Tnint  Skip  Nact     Projg        F\n",
      "    4     19     46      1     1     0   7.091D-03   2.459D+00\n",
      "  F =   2.4586919331659045     \n",
      "\n",
      "CONVERGENCE: REL_REDUCTION_OF_F_<=_FACTR*EPSMCH             \n"
     ]
    },
    {
     "name": "stderr",
     "output_type": "stream",
     "text": [
      "\n",
      " Warning:  more than 10 function and gradient\n",
      "   evaluations in the last line search.  Termination\n",
      "   may possibly be caused by a bad search direction.\n"
     ]
    },
    {
     "name": "stdout",
     "output_type": "stream",
     "text": [
      "RUNNING THE L-BFGS-B CODE\n",
      "\n",
      "           * * *\n",
      "\n",
      "Machine precision = 2.220D-16\n",
      " N =            4     M =           10\n",
      "\n",
      "At X0         0 variables are exactly at the bounds\n",
      "\n",
      "At iterate    0    f=  2.75240D+00    |proj g|=  9.80399D-02\n"
     ]
    },
    {
     "name": "stderr",
     "output_type": "stream",
     "text": [
      " This problem is unconstrained.\n"
     ]
    },
    {
     "name": "stdout",
     "output_type": "stream",
     "text": [
      "\n",
      "At iterate    5    f=  2.50149D+00    |proj g|=  1.89160D-02\n",
      "\n",
      "At iterate   10    f=  2.46527D+00    |proj g|=  5.18778D-03\n",
      "\n",
      "At iterate   15    f=  2.45942D+00    |proj g|=  1.88239D-02\n",
      "\n",
      "           * * *\n",
      "\n",
      "Tit   = total number of iterations\n",
      "Tnf   = total number of function evaluations\n",
      "Tnint = total number of segments explored during Cauchy searches\n",
      "Skip  = number of BFGS updates skipped\n",
      "Nact  = number of active bounds at final generalized Cauchy point\n",
      "Projg = norm of the final projected gradient\n",
      "F     = final function value\n",
      "\n",
      "           * * *\n",
      "\n",
      "   N    Tit     Tnf  Tnint  Skip  Nact     Projg        F\n",
      "    4     17     26      1     0     0   2.598D-03   2.459D+00\n",
      "  F =   2.4591667353128734     \n",
      "\n",
      "CONVERGENCE: REL_REDUCTION_OF_F_<=_FACTR*EPSMCH             \n",
      "RUNNING THE L-BFGS-B CODE\n",
      "\n",
      "           * * *\n",
      "\n",
      "Machine precision = 2.220D-16\n",
      " N =            4     M =           10\n",
      "\n",
      "At X0         0 variables are exactly at the bounds\n",
      "\n",
      "At iterate    0    f=  2.75238D+00    |proj g|=  9.80342D-02\n",
      "\n",
      "At iterate    5    f=  2.50146D+00    |proj g|=  1.81655D-02\n"
     ]
    },
    {
     "name": "stderr",
     "output_type": "stream",
     "text": [
      " This problem is unconstrained.\n"
     ]
    },
    {
     "name": "stdout",
     "output_type": "stream",
     "text": [
      "\n",
      "At iterate   10    f=  2.46527D+00    |proj g|=  5.54979D-03\n",
      "\n",
      "At iterate   15    f=  2.45914D+00    |proj g|=  1.44278D-03\n",
      "\n",
      "At iterate   20    f=  2.45910D+00    |proj g|=  6.30711D-04\n",
      "\n",
      "           * * *\n",
      "\n",
      "Tit   = total number of iterations\n",
      "Tnf   = total number of function evaluations\n",
      "Tnint = total number of segments explored during Cauchy searches\n",
      "Skip  = number of BFGS updates skipped\n",
      "Nact  = number of active bounds at final generalized Cauchy point\n",
      "Projg = norm of the final projected gradient\n",
      "F     = final function value\n",
      "\n",
      "           * * *\n",
      "\n",
      "   N    Tit     Tnf  Tnint  Skip  Nact     Projg        F\n",
      "    4     22     33      1     0     0   2.089D-04   2.459D+00\n",
      "  F =   2.4590999952821613     \n",
      "\n",
      "CONVERGENCE: REL_REDUCTION_OF_F_<=_FACTR*EPSMCH             \n",
      "RUNNING THE L-BFGS-B CODE\n",
      "\n",
      "           * * *\n",
      "\n",
      "Machine precision = 2.220D-16\n",
      " N =            4     M =           10\n",
      "\n",
      "At X0         0 variables are exactly at the bounds\n",
      "\n",
      "At iterate    0    f=  2.75243D+00    |proj g|=  9.80233D-02\n",
      "\n",
      "At iterate    5    f=  2.50150D+00    |proj g|=  1.81444D-02\n"
     ]
    },
    {
     "name": "stderr",
     "output_type": "stream",
     "text": [
      " This problem is unconstrained.\n"
     ]
    },
    {
     "name": "stdout",
     "output_type": "stream",
     "text": [
      "\n",
      "At iterate   10    f=  2.46532D+00    |proj g|=  5.91984D-03\n",
      "\n",
      "At iterate   15    f=  2.45944D+00    |proj g|=  6.18459D-03\n",
      "\n",
      "At iterate   20    f=  2.45910D+00    |proj g|=  1.55170D-03\n",
      "\n",
      "           * * *\n",
      "\n",
      "Tit   = total number of iterations\n",
      "Tnf   = total number of function evaluations\n",
      "Tnint = total number of segments explored during Cauchy searches\n",
      "Skip  = number of BFGS updates skipped\n",
      "Nact  = number of active bounds at final generalized Cauchy point\n",
      "Projg = norm of the final projected gradient\n",
      "F     = final function value\n",
      "\n",
      "           * * *\n",
      "\n",
      "   N    Tit     Tnf  Tnint  Skip  Nact     Projg        F\n",
      "    4     23     37      1     0     0   5.366D-04   2.459D+00\n",
      "  F =   2.4590954345134617     \n",
      "\n",
      "CONVERGENCE: REL_REDUCTION_OF_F_<=_FACTR*EPSMCH             \n"
     ]
    },
    {
     "name": "stderr",
     "output_type": "stream",
     "text": [
      " This problem is unconstrained.\n"
     ]
    },
    {
     "name": "stdout",
     "output_type": "stream",
     "text": [
      "RUNNING THE L-BFGS-B CODE\n",
      "\n",
      "           * * *\n",
      "\n",
      "Machine precision = 2.220D-16\n",
      " N =            4     M =           10\n",
      "\n",
      "At X0         0 variables are exactly at the bounds\n",
      "\n",
      "At iterate    0    f=  2.75259D+00    |proj g|=  9.80212D-02\n",
      "\n",
      "At iterate    5    f=  2.50153D+00    |proj g|=  1.81454D-02\n",
      "\n",
      "At iterate   10    f=  2.46534D+00    |proj g|=  6.45281D-03\n",
      "\n",
      "At iterate   15    f=  2.45956D+00    |proj g|=  6.44987D-03\n",
      "\n",
      "At iterate   20    f=  2.45926D+00    |proj g|=  1.53831D-03\n",
      "  ys=-1.096E-03  -gs= 2.103E-04 BFGS update SKIPPED\n",
      "\n",
      "At iterate   25    f=  2.45896D+00    |proj g|=  7.60907D-03\n",
      "\n",
      "At iterate   30    f=  2.45884D+00    |proj g|=  8.97801D-04\n",
      "  ys=-4.838E-06  -gs= 3.535E-07 BFGS update SKIPPED\n"
     ]
    },
    {
     "name": "stderr",
     "output_type": "stream",
     "text": [
      "\n",
      " Bad direction in the line search;\n",
      "   refresh the lbfgs memory and restart the iteration.\n"
     ]
    },
    {
     "name": "stdout",
     "output_type": "stream",
     "text": [
      "\n",
      "           * * *\n",
      "\n",
      "Tit   = total number of iterations\n",
      "Tnf   = total number of function evaluations\n",
      "Tnint = total number of segments explored during Cauchy searches\n",
      "Skip  = number of BFGS updates skipped\n",
      "Nact  = number of active bounds at final generalized Cauchy point\n",
      "Projg = norm of the final projected gradient\n",
      "F     = final function value\n",
      "\n",
      "           * * *\n",
      "\n",
      "   N    Tit     Tnf  Tnint  Skip  Nact     Projg        F\n",
      "    4     33     75      2     2     0   3.921D-04   2.459D+00\n",
      "  F =   2.4588396754461761     \n",
      "\n",
      "CONVERGENCE: REL_REDUCTION_OF_F_<=_FACTR*EPSMCH             \n"
     ]
    },
    {
     "name": "stderr",
     "output_type": "stream",
     "text": [
      " This problem is unconstrained.\n"
     ]
    },
    {
     "name": "stdout",
     "output_type": "stream",
     "text": [
      "RUNNING THE L-BFGS-B CODE\n",
      "\n",
      "           * * *\n",
      "\n",
      "Machine precision = 2.220D-16\n",
      " N =            4     M =           10\n",
      "\n",
      "At X0         0 variables are exactly at the bounds\n",
      "\n",
      "At iterate    0    f=  2.75275D+00    |proj g|=  9.79121D-02\n",
      "\n",
      "At iterate    5    f=  2.50149D+00    |proj g|=  1.80306D-02\n",
      "\n",
      "At iterate   10    f=  2.46553D+00    |proj g|=  7.22550D-03\n",
      "\n",
      "At iterate   15    f=  2.45963D+00    |proj g|=  2.54724D-02\n",
      "  ys=-1.047E-04  -gs= 1.245E-03 BFGS update SKIPPED\n",
      "\n",
      "           * * *\n",
      "\n",
      "Tit   = total number of iterations\n",
      "Tnf   = total number of function evaluations\n",
      "Tnint = total number of segments explored during Cauchy searches\n",
      "Skip  = number of BFGS updates skipped\n",
      "Nact  = number of active bounds at final generalized Cauchy point\n",
      "Projg = norm of the final projected gradient\n",
      "F     = final function value\n",
      "\n",
      "           * * *\n",
      "\n",
      "   N    Tit     Tnf  Tnint  Skip  Nact     Projg        F\n",
      "    4     19     37      1     1     0   3.418D-03   2.459D+00\n",
      "  F =   2.4588769499853815     \n",
      "\n",
      "CONVERGENCE: REL_REDUCTION_OF_F_<=_FACTR*EPSMCH             \n"
     ]
    },
    {
     "name": "stderr",
     "output_type": "stream",
     "text": [
      "\n",
      " Warning:  more than 10 function and gradient\n",
      "   evaluations in the last line search.  Termination\n",
      "   may possibly be caused by a bad search direction.\n"
     ]
    },
    {
     "name": "stdout",
     "output_type": "stream",
     "text": [
      "RUNNING THE L-BFGS-B CODE\n",
      "\n",
      "           * * *\n",
      "\n",
      "Machine precision = 2.220D-16\n",
      " N =            4     M =           10\n",
      "\n",
      "At X0         0 variables are exactly at the bounds\n",
      "\n",
      "At iterate    0    f=  2.75266D+00    |proj g|=  9.79487D-02\n",
      "\n",
      "At iterate    5    f=  2.50145D+00    |proj g|=  1.80616D-02\n"
     ]
    },
    {
     "name": "stderr",
     "output_type": "stream",
     "text": [
      " This problem is unconstrained.\n"
     ]
    },
    {
     "name": "stdout",
     "output_type": "stream",
     "text": [
      "\n",
      "At iterate   10    f=  2.46541D+00    |proj g|=  6.95597D-03\n",
      "\n",
      "At iterate   15    f=  2.45971D+00    |proj g|=  3.63968D-03\n",
      "\n",
      "At iterate   20    f=  2.45921D+00    |proj g|=  1.03955D-03\n",
      "\n",
      "           * * *\n",
      "\n",
      "Tit   = total number of iterations\n",
      "Tnf   = total number of function evaluations\n",
      "Tnint = total number of segments explored during Cauchy searches\n",
      "Skip  = number of BFGS updates skipped\n",
      "Nact  = number of active bounds at final generalized Cauchy point\n",
      "Projg = norm of the final projected gradient\n",
      "F     = final function value\n",
      "\n",
      "           * * *\n",
      "\n",
      "   N    Tit     Tnf  Tnint  Skip  Nact     Projg        F\n",
      "    4     24     43      1     0     0   2.487D-03   2.459D+00\n",
      "  F =   2.4591296314050881     \n",
      "\n",
      "CONVERGENCE: REL_REDUCTION_OF_F_<=_FACTR*EPSMCH             \n",
      "RUNNING THE L-BFGS-B CODE\n",
      "\n",
      "           * * *\n",
      "\n",
      "Machine precision = 2.220D-16\n",
      " N =            4     M =           10\n",
      "\n",
      "At X0         0 variables are exactly at the bounds\n",
      "\n",
      "At iterate    0    f=  2.75256D+00    |proj g|=  9.79807D-02\n",
      "\n",
      "At iterate    5    f=  2.50143D+00    |proj g|=  1.80843D-02\n"
     ]
    },
    {
     "name": "stderr",
     "output_type": "stream",
     "text": [
      " This problem is unconstrained.\n"
     ]
    },
    {
     "name": "stdout",
     "output_type": "stream",
     "text": [
      "\n",
      "At iterate   10    f=  2.46537D+00    |proj g|=  6.99285D-03\n",
      "\n",
      "At iterate   15    f=  2.45957D+00    |proj g|=  4.13393D-03\n",
      "\n",
      "At iterate   20    f=  2.45945D+00    |proj g|=  3.73910D-03\n",
      "\n",
      "At iterate   25    f=  2.45896D+00    |proj g|=  1.05771D-03\n",
      "\n",
      "           * * *\n",
      "\n",
      "Tit   = total number of iterations\n",
      "Tnf   = total number of function evaluations\n",
      "Tnint = total number of segments explored during Cauchy searches\n",
      "Skip  = number of BFGS updates skipped\n",
      "Nact  = number of active bounds at final generalized Cauchy point\n",
      "Projg = norm of the final projected gradient\n",
      "F     = final function value\n",
      "\n",
      "           * * *\n",
      "\n",
      "   N    Tit     Tnf  Tnint  Skip  Nact     Projg        F\n",
      "    4     25     42      1     0     0   1.058D-03   2.459D+00\n",
      "  F =   2.4589587167775613     \n",
      "\n",
      "CONVERGENCE: REL_REDUCTION_OF_F_<=_FACTR*EPSMCH             \n"
     ]
    },
    {
     "name": "stderr",
     "output_type": "stream",
     "text": [
      " This problem is unconstrained.\n"
     ]
    },
    {
     "name": "stdout",
     "output_type": "stream",
     "text": [
      "RUNNING THE L-BFGS-B CODE\n",
      "\n",
      "           * * *\n",
      "\n",
      "Machine precision = 2.220D-16\n",
      " N =            4     M =           10\n",
      "\n",
      "At X0         0 variables are exactly at the bounds\n",
      "\n",
      "At iterate    0    f=  2.75265D+00    |proj g|=  9.79616D-02\n",
      "\n",
      "At iterate    5    f=  2.50138D+00    |proj g|=  1.80674D-02\n",
      "\n",
      "At iterate   10    f=  2.46535D+00    |proj g|=  7.01607D-03\n",
      "\n",
      "At iterate   15    f=  2.45952D+00    |proj g|=  2.37479D-03\n",
      "\n",
      "           * * *\n",
      "\n",
      "Tit   = total number of iterations\n",
      "Tnf   = total number of function evaluations\n",
      "Tnint = total number of segments explored during Cauchy searches\n",
      "Skip  = number of BFGS updates skipped\n",
      "Nact  = number of active bounds at final generalized Cauchy point\n",
      "Projg = norm of the final projected gradient\n",
      "F     = final function value\n",
      "\n",
      "           * * *\n",
      "\n",
      "   N    Tit     Tnf  Tnint  Skip  Nact     Projg        F\n",
      "    4     19     28      1     0     0   2.022D-03   2.459D+00\n",
      "  F =   2.4593772674608623     \n",
      "\n",
      "CONVERGENCE: REL_REDUCTION_OF_F_<=_FACTR*EPSMCH             \n"
     ]
    },
    {
     "name": "stderr",
     "output_type": "stream",
     "text": [
      " This problem is unconstrained.\n"
     ]
    },
    {
     "name": "stdout",
     "output_type": "stream",
     "text": [
      "RUNNING THE L-BFGS-B CODE\n",
      "\n",
      "           * * *\n",
      "\n",
      "Machine precision = 2.220D-16\n",
      " N =            4     M =           10\n",
      "\n",
      "At X0         0 variables are exactly at the bounds\n",
      "\n",
      "At iterate    0    f=  2.75261D+00    |proj g|=  9.79833D-02\n",
      "\n",
      "At iterate    5    f=  2.50143D+00    |proj g|=  1.80987D-02\n",
      "\n",
      "At iterate   10    f=  2.46531D+00    |proj g|=  6.29270D-03\n",
      "\n",
      "At iterate   15    f=  2.45943D+00    |proj g|=  4.77211D-03\n"
     ]
    },
    {
     "name": "stderr",
     "output_type": "stream",
     "text": [
      "\n",
      " Warning:  more than 10 function and gradient\n",
      "   evaluations in the last line search.  Termination\n",
      "   may possibly be caused by a bad search direction.\n"
     ]
    },
    {
     "name": "stdout",
     "output_type": "stream",
     "text": [
      "\n",
      "           * * *\n",
      "\n",
      "Tit   = total number of iterations\n",
      "Tnf   = total number of function evaluations\n",
      "Tnint = total number of segments explored during Cauchy searches\n",
      "Skip  = number of BFGS updates skipped\n",
      "Nact  = number of active bounds at final generalized Cauchy point\n",
      "Projg = norm of the final projected gradient\n",
      "F     = final function value\n",
      "\n",
      "           * * *\n",
      "\n",
      "   N    Tit     Tnf  Tnint  Skip  Nact     Projg        F\n",
      "    4     19     38      1     0     0   4.136D-03   2.459D+00\n",
      "  F =   2.4590939996860461     \n",
      "\n",
      "CONVERGENCE: REL_REDUCTION_OF_F_<=_FACTR*EPSMCH             \n",
      "RUNNING THE L-BFGS-B CODE\n",
      "\n",
      "           * * *\n",
      "\n",
      "Machine precision = 2.220D-16\n",
      " N =            4     M =           10\n",
      "\n",
      "At X0         0 variables are exactly at the bounds\n",
      "\n",
      "At iterate    0    f=  2.75263D+00    |proj g|=  9.79900D-02\n",
      "\n",
      "At iterate    5    f=  2.50147D+00    |proj g|=  1.82951D-02\n"
     ]
    },
    {
     "name": "stderr",
     "output_type": "stream",
     "text": [
      " This problem is unconstrained.\n"
     ]
    },
    {
     "name": "stdout",
     "output_type": "stream",
     "text": [
      "\n",
      "At iterate   10    f=  2.46535D+00    |proj g|=  5.50374D-03\n",
      "\n",
      "At iterate   15    f=  2.45916D+00    |proj g|=  6.91619D-04\n",
      "\n",
      "At iterate   20    f=  2.45901D+00    |proj g|=  1.23349D-03\n",
      "\n",
      "           * * *\n",
      "\n",
      "Tit   = total number of iterations\n",
      "Tnf   = total number of function evaluations\n",
      "Tnint = total number of segments explored during Cauchy searches\n",
      "Skip  = number of BFGS updates skipped\n",
      "Nact  = number of active bounds at final generalized Cauchy point\n",
      "Projg = norm of the final projected gradient\n",
      "F     = final function value\n",
      "\n",
      "           * * *\n",
      "\n",
      "   N    Tit     Tnf  Tnint  Skip  Nact     Projg        F\n",
      "    4     24     51      1     0     0   2.024D-03   2.459D+00\n",
      "  F =   2.4590015291798664     \n",
      "\n",
      "CONVERGENCE: REL_REDUCTION_OF_F_<=_FACTR*EPSMCH             \n"
     ]
    },
    {
     "name": "stderr",
     "output_type": "stream",
     "text": [
      "\n",
      " Warning:  more than 10 function and gradient\n",
      "   evaluations in the last line search.  Termination\n",
      "   may possibly be caused by a bad search direction.\n"
     ]
    },
    {
     "name": "stdout",
     "output_type": "stream",
     "text": [
      "RUNNING THE L-BFGS-B CODE\n",
      "\n",
      "           * * *\n",
      "\n",
      "Machine precision = 2.220D-16\n",
      " N =            4     M =           10\n",
      "\n",
      "At X0         0 variables are exactly at the bounds\n",
      "\n",
      "At iterate    0    f=  2.75253D+00    |proj g|=  9.79542D-02\n",
      "\n",
      "At iterate    5    f=  2.50143D+00    |proj g|=  1.80955D-02\n"
     ]
    },
    {
     "name": "stderr",
     "output_type": "stream",
     "text": [
      " This problem is unconstrained.\n"
     ]
    },
    {
     "name": "stdout",
     "output_type": "stream",
     "text": [
      "\n",
      "At iterate   10    f=  2.46539D+00    |proj g|=  5.88201D-03\n",
      "\n",
      "At iterate   15    f=  2.45916D+00    |proj g|=  1.11646D-02\n",
      "\n",
      "           * * *\n",
      "\n",
      "Tit   = total number of iterations\n",
      "Tnf   = total number of function evaluations\n",
      "Tnint = total number of segments explored during Cauchy searches\n",
      "Skip  = number of BFGS updates skipped\n",
      "Nact  = number of active bounds at final generalized Cauchy point\n",
      "Projg = norm of the final projected gradient\n",
      "F     = final function value\n",
      "\n",
      "           * * *\n",
      "\n",
      "   N    Tit     Tnf  Tnint  Skip  Nact     Projg        F\n",
      "    4     18     34      1     0     0   1.012D-03   2.459D+00\n",
      "  F =   2.4589215483421096     \n",
      "\n",
      "CONVERGENCE: REL_REDUCTION_OF_F_<=_FACTR*EPSMCH             \n",
      "RUNNING THE L-BFGS-B CODE\n",
      "\n",
      "           * * *\n",
      "\n",
      "Machine precision = 2.220D-16\n",
      " N =            4     M =           10\n",
      "\n",
      "At X0         0 variables are exactly at the bounds\n",
      "\n",
      "At iterate    0    f=  2.75253D+00    |proj g|=  9.79493D-02\n",
      "\n",
      "At iterate    5    f=  2.50139D+00    |proj g|=  1.80953D-02\n"
     ]
    },
    {
     "name": "stderr",
     "output_type": "stream",
     "text": [
      " This problem is unconstrained.\n"
     ]
    },
    {
     "name": "stdout",
     "output_type": "stream",
     "text": [
      "\n",
      "At iterate   10    f=  2.46534D+00    |proj g|=  5.61487D-03\n",
      "\n",
      "At iterate   15    f=  2.45881D+00    |proj g|=  1.16507D-02\n",
      "  ys=-3.611E-04  -gs= 1.476E-04 BFGS update SKIPPED\n"
     ]
    },
    {
     "name": "stderr",
     "output_type": "stream",
     "text": [
      "\n",
      " Warning:  more than 10 function and gradient\n",
      "   evaluations in the last line search.  Termination\n",
      "   may possibly be caused by a bad search direction.\n"
     ]
    },
    {
     "name": "stdout",
     "output_type": "stream",
     "text": [
      "\n",
      "           * * *\n",
      "\n",
      "Tit   = total number of iterations\n",
      "Tnf   = total number of function evaluations\n",
      "Tnint = total number of segments explored during Cauchy searches\n",
      "Skip  = number of BFGS updates skipped\n",
      "Nact  = number of active bounds at final generalized Cauchy point\n",
      "Projg = norm of the final projected gradient\n",
      "F     = final function value\n",
      "\n",
      "           * * *\n",
      "\n",
      "   N    Tit     Tnf  Tnint  Skip  Nact     Projg        F\n",
      "    4     17     40      1     1     0   1.305D-03   2.459D+00\n",
      "  F =   2.4587386705648817     \n",
      "\n",
      "CONVERGENCE: REL_REDUCTION_OF_F_<=_FACTR*EPSMCH             \n",
      "RUNNING THE L-BFGS-B CODE\n",
      "\n",
      "           * * *\n",
      "\n",
      "Machine precision = 2.220D-16\n",
      " N =            4     M =           10\n",
      "\n",
      "At X0         0 variables are exactly at the bounds\n",
      "\n",
      "At iterate    0    f=  2.75249D+00    |proj g|=  9.79610D-02\n",
      "\n"
     ]
    },
    {
     "name": "stderr",
     "output_type": "stream",
     "text": [
      " This problem is unconstrained.\n"
     ]
    },
    {
     "name": "stdout",
     "output_type": "stream",
     "text": [
      "At iterate    5    f=  2.49008D+00    |proj g|=  3.24940D-02\n",
      "\n",
      "At iterate   10    f=  2.46218D+00    |proj g|=  8.62761D-04\n",
      "\n",
      "At iterate   15    f=  2.45953D+00    |proj g|=  3.37950D-03\n"
     ]
    },
    {
     "name": "stderr",
     "output_type": "stream",
     "text": [
      "\n",
      " Warning:  more than 10 function and gradient\n",
      "   evaluations in the last line search.  Termination\n",
      "   may possibly be caused by a bad search direction.\n"
     ]
    },
    {
     "name": "stdout",
     "output_type": "stream",
     "text": [
      "\n",
      "           * * *\n",
      "\n",
      "Tit   = total number of iterations\n",
      "Tnf   = total number of function evaluations\n",
      "Tnint = total number of segments explored during Cauchy searches\n",
      "Skip  = number of BFGS updates skipped\n",
      "Nact  = number of active bounds at final generalized Cauchy point\n",
      "Projg = norm of the final projected gradient\n",
      "F     = final function value\n",
      "\n",
      "           * * *\n",
      "\n",
      "   N    Tit     Tnf  Tnint  Skip  Nact     Projg        F\n",
      "    4     17     33      1     0     0   1.386D-03   2.459D+00\n",
      "  F =   2.4591822022365681     \n",
      "\n",
      "CONVERGENCE: REL_REDUCTION_OF_F_<=_FACTR*EPSMCH             \n",
      "RUNNING THE L-BFGS-B CODE\n",
      "\n",
      "           * * *\n",
      "\n",
      "Machine precision = 2.220D-16\n",
      " N =            4     M =           10\n",
      "\n",
      "At X0         0 variables are exactly at the bounds\n",
      "\n",
      "At iterate    0    f=  2.75247D+00    |proj g|=  9.79430D-02\n",
      "\n",
      "At iterate    5    f=  2.50136D+00    |proj g|=  1.80795D-02\n"
     ]
    },
    {
     "name": "stderr",
     "output_type": "stream",
     "text": [
      " This problem is unconstrained.\n"
     ]
    },
    {
     "name": "stdout",
     "output_type": "stream",
     "text": [
      "\n",
      "At iterate   10    f=  2.46528D+00    |proj g|=  5.74187D-03\n",
      "\n",
      "At iterate   15    f=  2.45926D+00    |proj g|=  2.20553D-03\n",
      "  ys=-3.084E-04  -gs= 1.800E-03 BFGS update SKIPPED\n",
      "\n",
      "At iterate   20    f=  2.45873D+00    |proj g|=  3.17891D-03\n"
     ]
    },
    {
     "name": "stderr",
     "output_type": "stream",
     "text": [
      "\n",
      " Bad direction in the line search;\n",
      "   refresh the lbfgs memory and restart the iteration.\n"
     ]
    },
    {
     "name": "stdout",
     "output_type": "stream",
     "text": [
      "\n",
      "           * * *\n",
      "\n",
      "Tit   = total number of iterations\n",
      "Tnf   = total number of function evaluations\n",
      "Tnint = total number of segments explored during Cauchy searches\n",
      "Skip  = number of BFGS updates skipped\n",
      "Nact  = number of active bounds at final generalized Cauchy point\n",
      "Projg = norm of the final projected gradient\n",
      "F     = final function value\n",
      "\n",
      "           * * *\n",
      "\n",
      "   N    Tit     Tnf  Tnint  Skip  Nact     Projg        F\n",
      "    4     23     61      2     1     0   9.882D-04   2.459D+00\n",
      "  F =   2.4587164593934467     \n",
      "\n",
      "CONVERGENCE: REL_REDUCTION_OF_F_<=_FACTR*EPSMCH             \n",
      "RUNNING THE L-BFGS-B CODE\n",
      "\n",
      "           * * *\n",
      "\n",
      "Machine precision = 2.220D-16\n",
      " N =            4     M =           10\n",
      "\n",
      "At X0         0 variables are exactly at the bounds\n",
      "\n",
      "At iterate    0    f=  2.75246D+00    |proj g|=  9.79414D-02\n",
      "\n"
     ]
    },
    {
     "name": "stderr",
     "output_type": "stream",
     "text": [
      " This problem is unconstrained.\n"
     ]
    },
    {
     "name": "stdout",
     "output_type": "stream",
     "text": [
      "At iterate    5    f=  2.50140D+00    |proj g|=  1.86246D-02\n",
      "\n",
      "At iterate   10    f=  2.46526D+00    |proj g|=  5.31944D-03\n",
      "\n",
      "At iterate   15    f=  2.45919D+00    |proj g|=  3.52760D-03\n",
      "  ys=-1.291E-02  -gs= 2.617E-03 BFGS update SKIPPED\n",
      "\n",
      "           * * *\n",
      "\n",
      "Tit   = total number of iterations\n",
      "Tnf   = total number of function evaluations\n",
      "Tnint = total number of segments explored during Cauchy searches\n",
      "Skip  = number of BFGS updates skipped\n",
      "Nact  = number of active bounds at final generalized Cauchy point\n",
      "Projg = norm of the final projected gradient\n",
      "F     = final function value\n",
      "\n",
      "           * * *\n",
      "\n",
      "   N    Tit     Tnf  Tnint  Skip  Nact     Projg        F\n",
      "    4     17     40      1     1     0   2.784D-02   2.459D+00\n",
      "  F =   2.4590882787255905     \n",
      "\n",
      "CONVERGENCE: REL_REDUCTION_OF_F_<=_FACTR*EPSMCH             \n"
     ]
    },
    {
     "name": "stderr",
     "output_type": "stream",
     "text": [
      "\n",
      " Warning:  more than 10 function and gradient\n",
      "   evaluations in the last line search.  Termination\n",
      "   may possibly be caused by a bad search direction.\n",
      " This problem is unconstrained.\n"
     ]
    },
    {
     "name": "stdout",
     "output_type": "stream",
     "text": [
      "RUNNING THE L-BFGS-B CODE\n",
      "\n",
      "           * * *\n",
      "\n",
      "Machine precision = 2.220D-16\n",
      " N =            4     M =           10\n",
      "\n",
      "At X0         0 variables are exactly at the bounds\n",
      "\n",
      "At iterate    0    f=  2.75239D+00    |proj g|=  9.79392D-02\n",
      "\n",
      "At iterate    5    f=  2.50142D+00    |proj g|=  1.92787D-02\n",
      "\n",
      "At iterate   10    f=  2.46529D+00    |proj g|=  4.95733D-03\n",
      "\n",
      "At iterate   15    f=  2.45941D+00    |proj g|=  1.70864D-02\n",
      "  ys=-1.841E-03  -gs= 6.315E-04 BFGS update SKIPPED\n"
     ]
    },
    {
     "name": "stderr",
     "output_type": "stream",
     "text": [
      "\n",
      " Bad direction in the line search;\n",
      "   refresh the lbfgs memory and restart the iteration.\n"
     ]
    },
    {
     "name": "stdout",
     "output_type": "stream",
     "text": [
      "\n",
      "At iterate   20    f=  2.45879D+00    |proj g|=  4.67436D-04\n",
      "\n",
      "           * * *\n",
      "\n",
      "Tit   = total number of iterations\n",
      "Tnf   = total number of function evaluations\n",
      "Tnint = total number of segments explored during Cauchy searches\n",
      "Skip  = number of BFGS updates skipped\n",
      "Nact  = number of active bounds at final generalized Cauchy point\n",
      "Projg = norm of the final projected gradient\n",
      "F     = final function value\n",
      "\n",
      "           * * *\n",
      "\n",
      "   N    Tit     Tnf  Tnint  Skip  Nact     Projg        F\n",
      "    4     22     58      2     1     0   2.473D-04   2.459D+00\n",
      "  F =   2.4587931158443697     \n",
      "\n",
      "CONVERGENCE: REL_REDUCTION_OF_F_<=_FACTR*EPSMCH             \n"
     ]
    },
    {
     "name": "stderr",
     "output_type": "stream",
     "text": [
      " This problem is unconstrained.\n"
     ]
    },
    {
     "name": "stdout",
     "output_type": "stream",
     "text": [
      "RUNNING THE L-BFGS-B CODE\n",
      "\n",
      "           * * *\n",
      "\n",
      "Machine precision = 2.220D-16\n",
      " N =            4     M =           10\n",
      "\n",
      "At X0         0 variables are exactly at the bounds\n",
      "\n",
      "At iterate    0    f=  2.75254D+00    |proj g|=  9.79283D-02\n",
      "\n",
      "At iterate    5    f=  2.50141D+00    |proj g|=  1.80749D-02\n",
      "\n",
      "At iterate   10    f=  2.46540D+00    |proj g|=  5.96779D-03\n",
      "\n",
      "At iterate   15    f=  2.45932D+00    |proj g|=  1.50779D-02\n",
      "\n",
      "At iterate   20    f=  2.45904D+00    |proj g|=  1.06490D-02\n",
      "\n",
      "At iterate   25    f=  2.45887D+00    |proj g|=  9.78456D-04\n",
      "\n",
      "           * * *\n",
      "\n",
      "Tit   = total number of iterations\n",
      "Tnf   = total number of function evaluations\n",
      "Tnint = total number of segments explored during Cauchy searches\n",
      "Skip  = number of BFGS updates skipped\n",
      "Nact  = number of active bounds at final generalized Cauchy point\n",
      "Projg = norm of the final projected gradient\n",
      "F     = final function value\n",
      "\n",
      "           * * *\n",
      "\n",
      "   N    Tit     Tnf  Tnint  Skip  Nact     Projg        F\n",
      "    4     27     55      1     0     0   1.077D-03   2.459D+00\n",
      "  F =   2.4588709373489839     \n",
      "\n",
      "CONVERGENCE: REL_REDUCTION_OF_F_<=_FACTR*EPSMCH             \n"
     ]
    },
    {
     "name": "stderr",
     "output_type": "stream",
     "text": [
      " This problem is unconstrained.\n"
     ]
    },
    {
     "name": "stdout",
     "output_type": "stream",
     "text": [
      "RUNNING THE L-BFGS-B CODE\n",
      "\n",
      "           * * *\n",
      "\n",
      "Machine precision = 2.220D-16\n",
      " N =            4     M =           10\n",
      "\n",
      "At X0         0 variables are exactly at the bounds\n",
      "\n",
      "At iterate    0    f=  2.75247D+00    |proj g|=  9.79812D-02\n",
      "\n",
      "At iterate    5    f=  2.50149D+00    |proj g|=  1.81179D-02\n",
      "\n",
      "At iterate   10    f=  2.46543D+00    |proj g|=  5.97881D-03\n",
      "\n",
      "At iterate   15    f=  2.45950D+00    |proj g|=  3.66176D-03\n",
      "  ys=-4.776E-04  -gs= 1.429E-03 BFGS update SKIPPED\n",
      "  ys=-2.123E-03  -gs= 2.039E-03 BFGS update SKIPPED\n",
      "\n",
      "At iterate   20    f=  2.45882D+00    |proj g|=  3.91542D-03\n",
      "\n",
      "           * * *\n",
      "\n",
      "Tit   = total number of iterations\n",
      "Tnf   = total number of function evaluations\n",
      "Tnint = total number of segments explored during Cauchy searches\n",
      "Skip  = number of BFGS updates skipped\n",
      "Nact  = number of active bounds at final generalized Cauchy point\n",
      "Projg = norm of the final projected gradient\n",
      "F     = final function value\n",
      "\n",
      "           * * *\n",
      "\n",
      "   N    Tit     Tnf  Tnint  Skip  Nact     Projg        F\n",
      "    4     20     49      1     2     0   3.915D-03   2.459D+00\n",
      "  F =   2.4588176722225819     \n",
      "\n",
      "CONVERGENCE: REL_REDUCTION_OF_F_<=_FACTR*EPSMCH             \n",
      "RUNNING THE L-BFGS-B CODE\n",
      "\n",
      "           * * *\n",
      "\n",
      "Machine precision = 2.220D-16\n",
      " N =            4     M =           10\n",
      "\n",
      "At X0         0 variables are exactly at the bounds\n",
      "\n",
      "At iterate    0    f=  2.75240D+00    |proj g|=  9.80070D-02\n",
      "\n",
      "At iterate    5    f=  2.50158D+00    |proj g|=  1.81933D-02\n"
     ]
    },
    {
     "name": "stderr",
     "output_type": "stream",
     "text": [
      " This problem is unconstrained.\n"
     ]
    },
    {
     "name": "stdout",
     "output_type": "stream",
     "text": [
      "\n",
      "At iterate   10    f=  2.46544D+00    |proj g|=  5.58779D-03\n",
      "\n",
      "At iterate   15    f=  2.45947D+00    |proj g|=  1.35265D-03\n",
      "\n",
      "At iterate   20    f=  2.45935D+00    |proj g|=  3.32282D-03\n",
      "\n",
      "           * * *\n",
      "\n",
      "Tit   = total number of iterations\n",
      "Tnf   = total number of function evaluations\n",
      "Tnint = total number of segments explored during Cauchy searches\n",
      "Skip  = number of BFGS updates skipped\n",
      "Nact  = number of active bounds at final generalized Cauchy point\n",
      "Projg = norm of the final projected gradient\n",
      "F     = final function value\n",
      "\n",
      "           * * *\n",
      "\n",
      "   N    Tit     Tnf  Tnint  Skip  Nact     Projg        F\n",
      "    4     20     34      1     0     0   3.323D-03   2.459D+00\n",
      "  F =   2.4593520208024278     \n",
      "\n",
      "CONVERGENCE: REL_REDUCTION_OF_F_<=_FACTR*EPSMCH             \n"
     ]
    },
    {
     "name": "stderr",
     "output_type": "stream",
     "text": [
      " This problem is unconstrained.\n"
     ]
    },
    {
     "name": "stdout",
     "output_type": "stream",
     "text": [
      "RUNNING THE L-BFGS-B CODE\n",
      "\n",
      "           * * *\n",
      "\n",
      "Machine precision = 2.220D-16\n",
      " N =            4     M =           10\n",
      "\n",
      "At X0         0 variables are exactly at the bounds\n",
      "\n",
      "At iterate    0    f=  2.75249D+00    |proj g|=  9.80148D-02\n",
      "\n",
      "At iterate    5    f=  2.50154D+00    |proj g|=  1.81671D-02\n",
      "\n",
      "At iterate   10    f=  2.46542D+00    |proj g|=  6.30837D-03\n",
      "\n",
      "At iterate   15    f=  2.45937D+00    |proj g|=  5.42513D-03\n",
      "\n",
      "At iterate   20    f=  2.45889D+00    |proj g|=  8.88952D-03\n",
      "\n",
      "At iterate   25    f=  2.45885D+00    |proj g|=  6.09800D-04\n",
      "\n",
      "           * * *\n",
      "\n",
      "Tit   = total number of iterations\n",
      "Tnf   = total number of function evaluations\n",
      "Tnint = total number of segments explored during Cauchy searches\n",
      "Skip  = number of BFGS updates skipped\n",
      "Nact  = number of active bounds at final generalized Cauchy point\n",
      "Projg = norm of the final projected gradient\n",
      "F     = final function value\n",
      "\n",
      "           * * *\n",
      "\n",
      "   N    Tit     Tnf  Tnint  Skip  Nact     Projg        F\n",
      "    4     26     51      1     0     0   3.619D-04   2.459D+00\n",
      "  F =   2.4588528258433522     \n",
      "\n",
      "CONVERGENCE: REL_REDUCTION_OF_F_<=_FACTR*EPSMCH             \n",
      "RUNNING THE L-BFGS-B CODE\n",
      "\n",
      "           * * *\n",
      "\n",
      "Machine precision = 2.220D-16\n",
      " N =            4     M =           10\n",
      "\n",
      "At X0         0 variables are exactly at the bounds\n",
      "\n",
      "At iterate    0    f=  2.75246D+00    |proj g|=  9.80662D-02\n",
      "\n",
      "At iterate    5    f=  2.50153D+00    |proj g|=  1.86463D-02\n"
     ]
    },
    {
     "name": "stderr",
     "output_type": "stream",
     "text": [
      " This problem is unconstrained.\n"
     ]
    },
    {
     "name": "stdout",
     "output_type": "stream",
     "text": [
      "\n",
      "At iterate   10    f=  2.46529D+00    |proj g|=  5.36602D-03\n",
      "\n",
      "At iterate   15    f=  2.45943D+00    |proj g|=  6.34261D-03\n",
      "\n",
      "At iterate   20    f=  2.45938D+00    |proj g|=  8.07116D-04\n",
      "\n",
      "At iterate   25    f=  2.45930D+00    |proj g|=  4.01076D-03\n",
      "\n",
      "At iterate   30    f=  2.45909D+00    |proj g|=  8.72546D-04\n",
      "\n",
      "           * * *\n",
      "\n",
      "Tit   = total number of iterations\n",
      "Tnf   = total number of function evaluations\n",
      "Tnint = total number of segments explored during Cauchy searches\n",
      "Skip  = number of BFGS updates skipped\n",
      "Nact  = number of active bounds at final generalized Cauchy point\n",
      "Projg = norm of the final projected gradient\n",
      "F     = final function value\n",
      "\n",
      "           * * *\n",
      "\n",
      "   N    Tit     Tnf  Tnint  Skip  Nact     Projg        F\n",
      "    4     32     57      1     0     0   6.299D-04   2.459D+00\n",
      "  F =   2.4590655422866452     \n",
      "\n",
      "CONVERGENCE: REL_REDUCTION_OF_F_<=_FACTR*EPSMCH             \n",
      "RUNNING THE L-BFGS-B CODE\n",
      "\n",
      "           * * *\n",
      "\n",
      "Machine precision = 2.220D-16\n",
      " N =            4     M =           10\n",
      "\n",
      "At X0         0 variables are exactly at the bounds\n",
      "\n",
      "At iterate    0    f=  2.75241D+00    |proj g|=  9.80708D-02\n"
     ]
    },
    {
     "name": "stderr",
     "output_type": "stream",
     "text": [
      " This problem is unconstrained.\n"
     ]
    },
    {
     "name": "stdout",
     "output_type": "stream",
     "text": [
      "\n",
      "At iterate    5    f=  2.48993D+00    |proj g|=  2.72109D-02\n",
      "\n",
      "At iterate   10    f=  2.46211D+00    |proj g|=  8.98152D-04\n",
      "\n",
      "At iterate   15    f=  2.45890D+00    |proj g|=  1.18728D-02\n",
      "\n",
      "At iterate   20    f=  2.45880D+00    |proj g|=  5.84871D-04\n"
     ]
    },
    {
     "name": "stderr",
     "output_type": "stream",
     "text": [
      "\n",
      " Bad direction in the line search;\n",
      "   refresh the lbfgs memory and restart the iteration.\n"
     ]
    },
    {
     "name": "stdout",
     "output_type": "stream",
     "text": [
      "\n",
      "           * * *\n",
      "\n",
      "Tit   = total number of iterations\n",
      "Tnf   = total number of function evaluations\n",
      "Tnint = total number of segments explored during Cauchy searches\n",
      "Skip  = number of BFGS updates skipped\n",
      "Nact  = number of active bounds at final generalized Cauchy point\n",
      "Projg = norm of the final projected gradient\n",
      "F     = final function value\n",
      "\n",
      "           * * *\n",
      "\n",
      "   N    Tit     Tnf  Tnint  Skip  Nact     Projg        F\n",
      "    4     21     57      2     0     0   7.099D-04   2.459D+00\n",
      "  F =   2.4588022119113782     \n",
      "\n",
      "CONVERGENCE: REL_REDUCTION_OF_F_<=_FACTR*EPSMCH             \n",
      "RUNNING THE L-BFGS-B CODE\n",
      "\n",
      "           * * *\n",
      "\n",
      "Machine precision = 2.220D-16\n",
      " N =            4     M =           10\n",
      "\n",
      "At X0         0 variables are exactly at the bounds\n",
      "\n",
      "At iterate    0    f=  2.75235D+00    |proj g|=  9.80279D-02\n",
      "\n",
      "At iterate    5    f=  2.48999D+00    |proj g|=  3.17334D-02\n"
     ]
    },
    {
     "name": "stderr",
     "output_type": "stream",
     "text": [
      " This problem is unconstrained.\n"
     ]
    },
    {
     "name": "stdout",
     "output_type": "stream",
     "text": [
      "\n",
      "At iterate   10    f=  2.46216D+00    |proj g|=  8.78818D-04\n",
      "\n",
      "At iterate   15    f=  2.45923D+00    |proj g|=  3.06221D-03\n",
      "\n",
      "           * * *\n",
      "\n",
      "Tit   = total number of iterations\n",
      "Tnf   = total number of function evaluations\n",
      "Tnint = total number of segments explored during Cauchy searches\n",
      "Skip  = number of BFGS updates skipped\n",
      "Nact  = number of active bounds at final generalized Cauchy point\n",
      "Projg = norm of the final projected gradient\n",
      "F     = final function value\n",
      "\n",
      "           * * *\n",
      "\n",
      "   N    Tit     Tnf  Tnint  Skip  Nact     Projg        F\n",
      "    4     18     28      1     0     0   2.640D-03   2.459D+00\n",
      "  F =   2.4587761172746774     \n",
      "\n",
      "CONVERGENCE: REL_REDUCTION_OF_F_<=_FACTR*EPSMCH             \n",
      "RUNNING THE L-BFGS-B CODE\n",
      "\n",
      "           * * *\n",
      "\n",
      "Machine precision = 2.220D-16\n",
      " N =            4     M =           10\n",
      "\n",
      "At X0         0 variables are exactly at the bounds\n",
      "\n",
      "At iterate    0    f=  2.75247D+00    |proj g|=  9.80499D-02\n",
      "\n",
      "At iterate    5    f=  2.50170D+00    |proj g|=  1.95811D-02\n"
     ]
    },
    {
     "name": "stderr",
     "output_type": "stream",
     "text": [
      " This problem is unconstrained.\n"
     ]
    },
    {
     "name": "stdout",
     "output_type": "stream",
     "text": [
      "\n",
      "At iterate   10    f=  2.46540D+00    |proj g|=  4.86544D-03\n",
      "\n",
      "At iterate   15    f=  2.45952D+00    |proj g|=  9.59333D-03\n",
      "\n",
      "           * * *\n",
      "\n",
      "Tit   = total number of iterations\n",
      "Tnf   = total number of function evaluations\n",
      "Tnint = total number of segments explored during Cauchy searches\n",
      "Skip  = number of BFGS updates skipped\n",
      "Nact  = number of active bounds at final generalized Cauchy point\n",
      "Projg = norm of the final projected gradient\n",
      "F     = final function value\n",
      "\n",
      "           * * *\n",
      "\n",
      "   N    Tit     Tnf  Tnint  Skip  Nact     Projg        F\n",
      "    4     18     28      1     0     0   8.982D-03   2.459D+00\n",
      "  F =   2.4591394307632233     \n",
      "\n",
      "CONVERGENCE: REL_REDUCTION_OF_F_<=_FACTR*EPSMCH             \n",
      "RUNNING THE L-BFGS-B CODE\n",
      "\n",
      "           * * *\n",
      "\n",
      "Machine precision = 2.220D-16\n",
      " N =            4     M =           10\n",
      "\n",
      "At X0         0 variables are exactly at the bounds\n",
      "\n",
      "At iterate    0    f=  2.75248D+00    |proj g|=  9.80481D-02\n",
      "\n",
      "At iterate    5    f=  2.48998D+00    |proj g|=  3.00857D-02\n"
     ]
    },
    {
     "name": "stderr",
     "output_type": "stream",
     "text": [
      " This problem is unconstrained.\n"
     ]
    },
    {
     "name": "stdout",
     "output_type": "stream",
     "text": [
      "\n",
      "At iterate   10    f=  2.46217D+00    |proj g|=  7.80652D-04\n",
      "\n",
      "At iterate   15    f=  2.45919D+00    |proj g|=  1.93554D-03\n",
      "\n",
      "           * * *\n",
      "\n",
      "Tit   = total number of iterations\n",
      "Tnf   = total number of function evaluations\n",
      "Tnint = total number of segments explored during Cauchy searches\n",
      "Skip  = number of BFGS updates skipped\n",
      "Nact  = number of active bounds at final generalized Cauchy point\n",
      "Projg = norm of the final projected gradient\n",
      "F     = final function value\n",
      "\n",
      "           * * *\n",
      "\n",
      "   N    Tit     Tnf  Tnint  Skip  Nact     Projg        F\n",
      "    4     19     40      1     0     0   3.485D-03   2.459D+00\n",
      "  F =   2.4591592275823988     \n",
      "\n",
      "CONVERGENCE: REL_REDUCTION_OF_F_<=_FACTR*EPSMCH             \n",
      "RUNNING THE L-BFGS-B CODE\n",
      "\n",
      "           * * *\n",
      "\n",
      "Machine precision = 2.220D-16\n",
      " N =            4     M =           10\n",
      "\n",
      "At X0         0 variables are exactly at the bounds\n",
      "\n",
      "At iterate    0    f=  2.75250D+00    |proj g|=  9.80650D-02\n",
      "\n",
      "At iterate    5    f=  2.49002D+00    |proj g|=  2.92712D-02\n"
     ]
    },
    {
     "name": "stderr",
     "output_type": "stream",
     "text": [
      " This problem is unconstrained.\n"
     ]
    },
    {
     "name": "stdout",
     "output_type": "stream",
     "text": [
      "\n",
      "At iterate   10    f=  2.46223D+00    |proj g|=  7.36695D-04\n",
      "\n",
      "At iterate   15    f=  2.45949D+00    |proj g|=  8.30808D-03\n",
      "\n",
      "           * * *\n",
      "\n",
      "Tit   = total number of iterations\n",
      "Tnf   = total number of function evaluations\n",
      "Tnint = total number of segments explored during Cauchy searches\n",
      "Skip  = number of BFGS updates skipped\n",
      "Nact  = number of active bounds at final generalized Cauchy point\n",
      "Projg = norm of the final projected gradient\n",
      "F     = final function value\n",
      "\n",
      "           * * *\n",
      "\n",
      "   N    Tit     Tnf  Tnint  Skip  Nact     Projg        F\n",
      "    4     18     33      1     0     0   1.853D-03   2.459D+00\n",
      "  F =   2.4594385267658541     \n",
      "\n",
      "CONVERGENCE: REL_REDUCTION_OF_F_<=_FACTR*EPSMCH             \n",
      "RUNNING THE L-BFGS-B CODE\n",
      "\n",
      "           * * *\n",
      "\n",
      "Machine precision = 2.220D-16\n",
      " N =            4     M =           10\n",
      "\n",
      "At X0         0 variables are exactly at the bounds\n",
      "\n",
      "At iterate    0    f=  2.75235D+00    |proj g|=  9.81422D-02\n",
      "\n",
      "At iterate    5    f=  2.49039D+00    |proj g|=  1.71088D-02\n"
     ]
    },
    {
     "name": "stderr",
     "output_type": "stream",
     "text": [
      " This problem is unconstrained.\n"
     ]
    },
    {
     "name": "stdout",
     "output_type": "stream",
     "text": [
      "\n",
      "At iterate   10    f=  2.46218D+00    |proj g|=  2.20263D-03\n",
      "\n",
      "At iterate   15    f=  2.45885D+00    |proj g|=  4.22797D-04\n"
     ]
    },
    {
     "name": "stderr",
     "output_type": "stream",
     "text": [
      "\n",
      " Warning:  more than 10 function and gradient\n",
      "   evaluations in the last line search.  Termination\n",
      "   may possibly be caused by a bad search direction.\n"
     ]
    },
    {
     "name": "stdout",
     "output_type": "stream",
     "text": [
      "\n",
      "           * * *\n",
      "\n",
      "Tit   = total number of iterations\n",
      "Tnf   = total number of function evaluations\n",
      "Tnint = total number of segments explored during Cauchy searches\n",
      "Skip  = number of BFGS updates skipped\n",
      "Nact  = number of active bounds at final generalized Cauchy point\n",
      "Projg = norm of the final projected gradient\n",
      "F     = final function value\n",
      "\n",
      "           * * *\n",
      "\n",
      "   N    Tit     Tnf  Tnint  Skip  Nact     Projg        F\n",
      "    4     18     44      1     0     0   1.753D-03   2.459D+00\n",
      "  F =   2.4588017512422584     \n",
      "\n",
      "CONVERGENCE: REL_REDUCTION_OF_F_<=_FACTR*EPSMCH             \n",
      "RUNNING THE L-BFGS-B CODE\n",
      "\n",
      "           * * *\n",
      "\n",
      "Machine precision = 2.220D-16\n",
      " N =            4     M =           10\n",
      "\n",
      "At X0         0 variables are exactly at the bounds\n",
      "\n",
      "At iterate    0    f=  2.75247D+00    |proj g|=  9.81408D-02\n",
      "\n",
      "At iterate    5    f=  2.49024D+00    |proj g|=  1.93542D-02\n"
     ]
    },
    {
     "name": "stderr",
     "output_type": "stream",
     "text": [
      " This problem is unconstrained.\n"
     ]
    },
    {
     "name": "stdout",
     "output_type": "stream",
     "text": [
      "\n",
      "At iterate   10    f=  2.46213D+00    |proj g|=  1.20803D-03\n",
      "\n",
      "At iterate   15    f=  2.45905D+00    |proj g|=  2.99362D-03\n",
      "\n",
      "           * * *\n",
      "\n",
      "Tit   = total number of iterations\n",
      "Tnf   = total number of function evaluations\n",
      "Tnint = total number of segments explored during Cauchy searches\n",
      "Skip  = number of BFGS updates skipped\n",
      "Nact  = number of active bounds at final generalized Cauchy point\n",
      "Projg = norm of the final projected gradient\n",
      "F     = final function value\n",
      "\n",
      "           * * *\n",
      "\n",
      "   N    Tit     Tnf  Tnint  Skip  Nact     Projg        F\n",
      "    4     16     31      1     0     0   2.995D-03   2.459D+00\n",
      "  F =   2.4590506500321867     \n",
      "\n",
      "CONVERGENCE: REL_REDUCTION_OF_F_<=_FACTR*EPSMCH             \n",
      "RUNNING THE L-BFGS-B CODE\n",
      "\n",
      "           * * *\n",
      "\n",
      "Machine precision = 2.220D-16\n",
      " N =            4     M =           10\n",
      "\n",
      "At X0         0 variables are exactly at the bounds\n",
      "\n",
      "At iterate    0    f=  2.75239D+00    |proj g|=  9.81240D-02\n",
      "\n",
      "At iterate    5    f=  2.49038D+00    |proj g|=  1.83216D-02\n"
     ]
    },
    {
     "name": "stderr",
     "output_type": "stream",
     "text": [
      " This problem is unconstrained.\n"
     ]
    },
    {
     "name": "stdout",
     "output_type": "stream",
     "text": [
      "\n",
      "At iterate   10    f=  2.46221D+00    |proj g|=  1.52637D-03\n",
      "\n",
      "At iterate   15    f=  2.45900D+00    |proj g|=  4.41984D-03\n",
      "  ys=-2.860E-03  -gs= 2.854E-03 BFGS update SKIPPED\n"
     ]
    },
    {
     "name": "stderr",
     "output_type": "stream",
     "text": [
      "\n",
      " Warning:  more than 10 function and gradient\n",
      "   evaluations in the last line search.  Termination\n",
      "   may possibly be caused by a bad search direction.\n"
     ]
    },
    {
     "name": "stdout",
     "output_type": "stream",
     "text": [
      "\n",
      "           * * *\n",
      "\n",
      "Tit   = total number of iterations\n",
      "Tnf   = total number of function evaluations\n",
      "Tnint = total number of segments explored during Cauchy searches\n",
      "Skip  = number of BFGS updates skipped\n",
      "Nact  = number of active bounds at final generalized Cauchy point\n",
      "Projg = norm of the final projected gradient\n",
      "F     = final function value\n",
      "\n",
      "           * * *\n",
      "\n",
      "   N    Tit     Tnf  Tnint  Skip  Nact     Projg        F\n",
      "    4     17     38      1     1     0   9.503D-03   2.459D+00\n",
      "  F =   2.4588156611640133     \n",
      "\n",
      "CONVERGENCE: REL_REDUCTION_OF_F_<=_FACTR*EPSMCH             \n"
     ]
    },
    {
     "name": "stderr",
     "output_type": "stream",
     "text": [
      " This problem is unconstrained.\n"
     ]
    },
    {
     "name": "stdout",
     "output_type": "stream",
     "text": [
      "RUNNING THE L-BFGS-B CODE\n",
      "\n",
      "           * * *\n",
      "\n",
      "Machine precision = 2.220D-16\n",
      " N =            4     M =           10\n",
      "\n",
      "At X0         0 variables are exactly at the bounds\n",
      "\n",
      "At iterate    0    f=  2.75240D+00    |proj g|=  9.81239D-02\n",
      "\n",
      "At iterate    5    f=  2.49043D+00    |proj g|=  1.75894D-02\n",
      "\n",
      "At iterate   10    f=  2.46216D+00    |proj g|=  1.75492D-03\n",
      "\n",
      "At iterate   15    f=  2.45906D+00    |proj g|=  8.73486D-04\n",
      "\n",
      "At iterate   20    f=  2.45901D+00    |proj g|=  1.45476D-03\n",
      "\n",
      "At iterate   25    f=  2.45896D+00    |proj g|=  5.78272D-04\n",
      "\n",
      "           * * *\n",
      "\n",
      "Tit   = total number of iterations\n",
      "Tnf   = total number of function evaluations\n",
      "Tnint = total number of segments explored during Cauchy searches\n",
      "Skip  = number of BFGS updates skipped\n",
      "Nact  = number of active bounds at final generalized Cauchy point\n",
      "Projg = norm of the final projected gradient\n",
      "F     = final function value\n",
      "\n",
      "           * * *\n",
      "\n",
      "   N    Tit     Tnf  Tnint  Skip  Nact     Projg        F\n",
      "    4     29     58      1     0     0   8.454D-04   2.459D+00\n",
      "  F =   2.4589452670985947     \n",
      "\n",
      "CONVERGENCE: REL_REDUCTION_OF_F_<=_FACTR*EPSMCH             \n"
     ]
    },
    {
     "name": "stderr",
     "output_type": "stream",
     "text": [
      " This problem is unconstrained.\n"
     ]
    },
    {
     "name": "stdout",
     "output_type": "stream",
     "text": [
      "RUNNING THE L-BFGS-B CODE\n",
      "\n",
      "           * * *\n",
      "\n",
      "Machine precision = 2.220D-16\n",
      " N =            4     M =           10\n",
      "\n",
      "At X0         0 variables are exactly at the bounds\n",
      "\n",
      "At iterate    0    f=  2.75248D+00    |proj g|=  9.81002D-02\n",
      "\n",
      "At iterate    5    f=  2.49076D+00    |proj g|=  1.45459D-02\n",
      "\n",
      "At iterate   10    f=  2.46221D+00    |proj g|=  1.90530D-03\n",
      "\n",
      "At iterate   15    f=  2.45919D+00    |proj g|=  1.62702D-02\n",
      "\n",
      "At iterate   20    f=  2.45865D+00    |proj g|=  1.29937D-03\n",
      "\n",
      "           * * *\n",
      "\n",
      "Tit   = total number of iterations\n",
      "Tnf   = total number of function evaluations\n",
      "Tnint = total number of segments explored during Cauchy searches\n",
      "Skip  = number of BFGS updates skipped\n",
      "Nact  = number of active bounds at final generalized Cauchy point\n",
      "Projg = norm of the final projected gradient\n",
      "F     = final function value\n",
      "\n",
      "           * * *\n",
      "\n",
      "   N    Tit     Tnf  Tnint  Skip  Nact     Projg        F\n",
      "    4     21     41      1     0     0   1.270D-03   2.459D+00\n",
      "  F =   2.4586455229986779     \n",
      "\n",
      "CONVERGENCE: REL_REDUCTION_OF_F_<=_FACTR*EPSMCH             \n"
     ]
    },
    {
     "name": "stderr",
     "output_type": "stream",
     "text": [
      " This problem is unconstrained.\n"
     ]
    },
    {
     "name": "stdout",
     "output_type": "stream",
     "text": [
      "RUNNING THE L-BFGS-B CODE\n",
      "\n",
      "           * * *\n",
      "\n",
      "Machine precision = 2.220D-16\n",
      " N =            4     M =           10\n",
      "\n",
      "At X0         0 variables are exactly at the bounds\n",
      "\n",
      "At iterate    0    f=  2.75246D+00    |proj g|=  9.81159D-02\n",
      "\n",
      "At iterate    5    f=  2.49036D+00    |proj g|=  1.87977D-02\n",
      "\n",
      "At iterate   10    f=  2.46217D+00    |proj g|=  1.27690D-03\n",
      "\n",
      "At iterate   15    f=  2.45883D+00    |proj g|=  1.20280D-02\n",
      "\n",
      "At iterate   20    f=  2.45863D+00    |proj g|=  2.02521D-04\n",
      "\n",
      "           * * *\n",
      "\n",
      "Tit   = total number of iterations\n",
      "Tnf   = total number of function evaluations\n",
      "Tnint = total number of segments explored during Cauchy searches\n",
      "Skip  = number of BFGS updates skipped\n",
      "Nact  = number of active bounds at final generalized Cauchy point\n",
      "Projg = norm of the final projected gradient\n",
      "F     = final function value\n",
      "\n",
      "           * * *\n",
      "\n",
      "   N    Tit     Tnf  Tnint  Skip  Nact     Projg        F\n",
      "    4     22     43      1     0     0   3.975D-05   2.459D+00\n",
      "  F =   2.4586322838144938     \n",
      "\n",
      "CONVERGENCE: REL_REDUCTION_OF_F_<=_FACTR*EPSMCH             \n"
     ]
    },
    {
     "name": "stderr",
     "output_type": "stream",
     "text": [
      " This problem is unconstrained.\n"
     ]
    },
    {
     "name": "stdout",
     "output_type": "stream",
     "text": [
      "RUNNING THE L-BFGS-B CODE\n",
      "\n",
      "           * * *\n",
      "\n",
      "Machine precision = 2.220D-16\n",
      " N =            4     M =           10\n",
      "\n",
      "At X0         0 variables are exactly at the bounds\n",
      "\n",
      "At iterate    0    f=  2.75238D+00    |proj g|=  9.81185D-02\n",
      "\n",
      "At iterate    5    f=  2.49026D+00    |proj g|=  1.93974D-02\n",
      "\n",
      "At iterate   10    f=  2.46205D+00    |proj g|=  1.21259D-03\n",
      "\n",
      "At iterate   15    f=  2.45890D+00    |proj g|=  1.11690D-03\n",
      "  ys=-6.925E-04  -gs= 2.075E-04 BFGS update SKIPPED\n"
     ]
    },
    {
     "name": "stderr",
     "output_type": "stream",
     "text": [
      "\n",
      " Bad direction in the line search;\n",
      "   refresh the lbfgs memory and restart the iteration.\n"
     ]
    },
    {
     "name": "stdout",
     "output_type": "stream",
     "text": [
      "\n",
      "At iterate   20    f=  2.45853D+00    |proj g|=  1.77274D-04\n"
     ]
    },
    {
     "name": "stderr",
     "output_type": "stream",
     "text": [
      "\n",
      " Bad direction in the line search;\n",
      "   refresh the lbfgs memory and restart the iteration.\n"
     ]
    },
    {
     "name": "stdout",
     "output_type": "stream",
     "text": [
      "\n",
      "At iterate   25    f=  2.45853D+00    |proj g|=  1.95054D-04\n",
      "\n",
      "           * * *\n",
      "\n",
      "Tit   = total number of iterations\n",
      "Tnf   = total number of function evaluations\n",
      "Tnint = total number of segments explored during Cauchy searches\n",
      "Skip  = number of BFGS updates skipped\n",
      "Nact  = number of active bounds at final generalized Cauchy point\n",
      "Projg = norm of the final projected gradient\n",
      "F     = final function value\n",
      "\n",
      "           * * *\n",
      "\n",
      "   N    Tit     Tnf  Tnint  Skip  Nact     Projg        F\n",
      "    4     25     84      3     1     0   1.951D-04   2.459D+00\n",
      "  F =   2.4585344634127475     \n",
      "\n",
      "CONVERGENCE: REL_REDUCTION_OF_F_<=_FACTR*EPSMCH             \n"
     ]
    },
    {
     "name": "stderr",
     "output_type": "stream",
     "text": [
      " This problem is unconstrained.\n"
     ]
    },
    {
     "name": "stdout",
     "output_type": "stream",
     "text": [
      "RUNNING THE L-BFGS-B CODE\n",
      "\n",
      "           * * *\n",
      "\n",
      "Machine precision = 2.220D-16\n",
      " N =            4     M =           10\n",
      "\n",
      "At X0         0 variables are exactly at the bounds\n",
      "\n",
      "At iterate    0    f=  2.75239D+00    |proj g|=  9.80999D-02\n",
      "\n",
      "At iterate    5    f=  2.49074D+00    |proj g|=  1.31544D-02\n",
      "\n",
      "At iterate   10    f=  2.46215D+00    |proj g|=  1.09342D-02\n",
      "\n",
      "At iterate   15    f=  2.45869D+00    |proj g|=  1.32712D-02\n",
      "  ys=-4.270E-05  -gs= 4.550E-05 BFGS update SKIPPED\n",
      "\n",
      "           * * *\n",
      "\n",
      "Tit   = total number of iterations\n",
      "Tnf   = total number of function evaluations\n",
      "Tnint = total number of segments explored during Cauchy searches\n",
      "Skip  = number of BFGS updates skipped\n",
      "Nact  = number of active bounds at final generalized Cauchy point\n",
      "Projg = norm of the final projected gradient\n",
      "F     = final function value\n",
      "\n",
      "           * * *\n",
      "\n",
      "   N    Tit     Tnf  Tnint  Skip  Nact     Projg        F\n",
      "    4     19     44      1     1     0   3.943D-03   2.459D+00\n",
      "  F =   2.4585568607154848     \n",
      "\n",
      "CONVERGENCE: REL_REDUCTION_OF_F_<=_FACTR*EPSMCH             \n"
     ]
    },
    {
     "name": "stderr",
     "output_type": "stream",
     "text": [
      "\n",
      " Warning:  more than 10 function and gradient\n",
      "   evaluations in the last line search.  Termination\n",
      "   may possibly be caused by a bad search direction.\n"
     ]
    },
    {
     "name": "stdout",
     "output_type": "stream",
     "text": [
      "RUNNING THE L-BFGS-B CODE\n",
      "\n",
      "           * * *\n",
      "\n",
      "Machine precision = 2.220D-16\n",
      " N =            4     M =           10\n",
      "\n",
      "At X0         0 variables are exactly at the bounds\n",
      "\n",
      "At iterate    0    f=  2.75244D+00    |proj g|=  9.80950D-02\n",
      "\n",
      "At iterate    5    f=  2.49165D+00    |proj g|=  1.26296D-02\n"
     ]
    },
    {
     "name": "stderr",
     "output_type": "stream",
     "text": [
      " This problem is unconstrained.\n"
     ]
    },
    {
     "name": "stdout",
     "output_type": "stream",
     "text": [
      "\n",
      "At iterate   10    f=  2.46215D+00    |proj g|=  2.01790D-03\n",
      "\n",
      "At iterate   15    f=  2.45911D+00    |proj g|=  5.00528D-03\n",
      "  ys=-7.357E-03  -gs= 4.328E-04 BFGS update SKIPPED\n"
     ]
    },
    {
     "name": "stderr",
     "output_type": "stream",
     "text": [
      "\n",
      " Bad direction in the line search;\n",
      "   refresh the lbfgs memory and restart the iteration.\n"
     ]
    },
    {
     "name": "stdout",
     "output_type": "stream",
     "text": [
      "\n",
      "At iterate   20    f=  2.45859D+00    |proj g|=  3.14317D-03\n",
      "\n",
      "           * * *\n",
      "\n",
      "Tit   = total number of iterations\n",
      "Tnf   = total number of function evaluations\n",
      "Tnint = total number of segments explored during Cauchy searches\n",
      "Skip  = number of BFGS updates skipped\n",
      "Nact  = number of active bounds at final generalized Cauchy point\n",
      "Projg = norm of the final projected gradient\n",
      "F     = final function value\n",
      "\n",
      "           * * *\n",
      "\n",
      "   N    Tit     Tnf  Tnint  Skip  Nact     Projg        F\n",
      "    4     24     59      2     1     0   7.080D-04   2.459D+00\n",
      "  F =   2.4585674123776968     \n",
      "\n",
      "CONVERGENCE: REL_REDUCTION_OF_F_<=_FACTR*EPSMCH             \n"
     ]
    },
    {
     "name": "stderr",
     "output_type": "stream",
     "text": [
      " This problem is unconstrained.\n"
     ]
    },
    {
     "name": "stdout",
     "output_type": "stream",
     "text": [
      "RUNNING THE L-BFGS-B CODE\n",
      "\n",
      "           * * *\n",
      "\n",
      "Machine precision = 2.220D-16\n",
      " N =            4     M =           10\n",
      "\n",
      "At X0         0 variables are exactly at the bounds\n",
      "\n",
      "At iterate    0    f=  2.75226D+00    |proj g|=  9.81727D-02\n",
      "\n",
      "At iterate    5    f=  2.49185D+00    |proj g|=  1.27354D-02\n",
      "\n",
      "At iterate   10    f=  2.46212D+00    |proj g|=  1.94755D-03\n",
      "\n",
      "At iterate   15    f=  2.45904D+00    |proj g|=  1.03650D-02\n",
      "  ys=-1.623E-03  -gs= 3.872E-04 BFGS update SKIPPED\n",
      "\n",
      "At iterate   20    f=  2.45840D+00    |proj g|=  2.33827D-04\n",
      "  ys=-5.459E-05  -gs= 4.772E-05 BFGS update SKIPPED\n"
     ]
    },
    {
     "name": "stderr",
     "output_type": "stream",
     "text": [
      "\n",
      " Warning:  more than 10 function and gradient\n",
      "   evaluations in the last line search.  Termination\n",
      "   may possibly be caused by a bad search direction.\n"
     ]
    },
    {
     "name": "stdout",
     "output_type": "stream",
     "text": [
      "\n",
      "           * * *\n",
      "\n",
      "Tit   = total number of iterations\n",
      "Tnf   = total number of function evaluations\n",
      "Tnint = total number of segments explored during Cauchy searches\n",
      "Skip  = number of BFGS updates skipped\n",
      "Nact  = number of active bounds at final generalized Cauchy point\n",
      "Projg = norm of the final projected gradient\n",
      "F     = final function value\n",
      "\n",
      "           * * *\n",
      "\n",
      "   N    Tit     Tnf  Tnint  Skip  Nact     Projg        F\n",
      "    4     21     49      1     2     0   9.006D-04   2.458D+00\n",
      "  F =   2.4584047991341320     \n",
      "\n",
      "CONVERGENCE: REL_REDUCTION_OF_F_<=_FACTR*EPSMCH             \n"
     ]
    },
    {
     "name": "stderr",
     "output_type": "stream",
     "text": [
      " This problem is unconstrained.\n"
     ]
    },
    {
     "name": "stdout",
     "output_type": "stream",
     "text": [
      "RUNNING THE L-BFGS-B CODE\n",
      "\n",
      "           * * *\n",
      "\n",
      "Machine precision = 2.220D-16\n",
      " N =            4     M =           10\n",
      "\n",
      "At X0         0 variables are exactly at the bounds\n",
      "\n",
      "At iterate    0    f=  2.75234D+00    |proj g|=  9.81583D-02\n",
      "\n",
      "At iterate    5    f=  2.49118D+00    |proj g|=  1.24341D-02\n",
      "\n",
      "At iterate   10    f=  2.46192D+00    |proj g|=  2.18981D-03\n",
      "\n",
      "At iterate   15    f=  2.45887D+00    |proj g|=  8.66166D-03\n",
      "\n",
      "At iterate   20    f=  2.45877D+00    |proj g|=  1.88347D-03\n",
      "\n",
      "At iterate   25    f=  2.45875D+00    |proj g|=  8.14268D-04\n",
      "\n",
      "           * * *\n",
      "\n",
      "Tit   = total number of iterations\n",
      "Tnf   = total number of function evaluations\n",
      "Tnint = total number of segments explored during Cauchy searches\n",
      "Skip  = number of BFGS updates skipped\n",
      "Nact  = number of active bounds at final generalized Cauchy point\n",
      "Projg = norm of the final projected gradient\n",
      "F     = final function value\n",
      "\n",
      "           * * *\n",
      "\n",
      "   N    Tit     Tnf  Tnint  Skip  Nact     Projg        F\n",
      "    4     27     43      1     0     0   1.650D-04   2.459D+00\n",
      "  F =   2.4587455992210590     \n",
      "\n",
      "CONVERGENCE: REL_REDUCTION_OF_F_<=_FACTR*EPSMCH             \n",
      "RUNNING THE L-BFGS-B CODE\n",
      "\n",
      "           * * *\n",
      "\n",
      "Machine precision = 2.220D-16\n",
      " N =            4     M =           10\n",
      "\n",
      "At X0         0 variables are exactly at the bounds\n",
      "\n",
      "At iterate    0    f=  2.75238D+00    |proj g|=  9.81332D-02\n",
      "\n",
      "At iterate    5    f=  2.49121D+00    |proj g|=  1.24382D-02\n"
     ]
    },
    {
     "name": "stderr",
     "output_type": "stream",
     "text": [
      " This problem is unconstrained.\n"
     ]
    },
    {
     "name": "stdout",
     "output_type": "stream",
     "text": [
      "\n",
      "At iterate   10    f=  2.46194D+00    |proj g|=  2.02310D-03\n",
      "\n",
      "At iterate   15    f=  2.45903D+00    |proj g|=  9.20029D-03\n",
      "\n",
      "At iterate   20    f=  2.45882D+00    |proj g|=  1.00087D-02\n",
      "\n",
      "At iterate   25    f=  2.45875D+00    |proj g|=  1.16695D-03\n",
      "\n",
      "At iterate   30    f=  2.45874D+00    |proj g|=  1.98605D-03\n",
      "\n",
      "           * * *\n",
      "\n",
      "Tit   = total number of iterations\n",
      "Tnf   = total number of function evaluations\n",
      "Tnint = total number of segments explored during Cauchy searches\n",
      "Skip  = number of BFGS updates skipped\n",
      "Nact  = number of active bounds at final generalized Cauchy point\n",
      "Projg = norm of the final projected gradient\n",
      "F     = final function value\n",
      "\n",
      "           * * *\n",
      "\n",
      "   N    Tit     Tnf  Tnint  Skip  Nact     Projg        F\n",
      "    4     34     62      1     0     0   1.735D-03   2.459D+00\n",
      "  F =   2.4587258580496734     \n",
      "\n",
      "CONVERGENCE: REL_REDUCTION_OF_F_<=_FACTR*EPSMCH             \n"
     ]
    },
    {
     "name": "stderr",
     "output_type": "stream",
     "text": [
      "\n",
      " Warning:  more than 10 function and gradient\n",
      "   evaluations in the last line search.  Termination\n",
      "   may possibly be caused by a bad search direction.\n",
      " This problem is unconstrained.\n"
     ]
    },
    {
     "name": "stdout",
     "output_type": "stream",
     "text": [
      "RUNNING THE L-BFGS-B CODE\n",
      "\n",
      "           * * *\n",
      "\n",
      "Machine precision = 2.220D-16\n",
      " N =            4     M =           10\n",
      "\n",
      "At X0         0 variables are exactly at the bounds\n",
      "\n",
      "At iterate    0    f=  2.75251D+00    |proj g|=  9.80615D-02\n",
      "\n",
      "At iterate    5    f=  2.49040D+00    |proj g|=  1.21213D-02\n",
      "\n",
      "At iterate   10    f=  2.46178D+00    |proj g|=  2.11725D-03\n",
      "\n",
      "At iterate   15    f=  2.45858D+00    |proj g|=  7.51007D-03\n"
     ]
    },
    {
     "name": "stderr",
     "output_type": "stream",
     "text": [
      "\n",
      " Warning:  more than 10 function and gradient\n",
      "   evaluations in the last line search.  Termination\n",
      "   may possibly be caused by a bad search direction.\n"
     ]
    },
    {
     "name": "stdout",
     "output_type": "stream",
     "text": [
      "\n",
      "           * * *\n",
      "\n",
      "Tit   = total number of iterations\n",
      "Tnf   = total number of function evaluations\n",
      "Tnint = total number of segments explored during Cauchy searches\n",
      "Skip  = number of BFGS updates skipped\n",
      "Nact  = number of active bounds at final generalized Cauchy point\n",
      "Projg = norm of the final projected gradient\n",
      "F     = final function value\n",
      "\n",
      "           * * *\n",
      "\n",
      "   N    Tit     Tnf  Tnint  Skip  Nact     Projg        F\n",
      "    4     16     35      1     0     0   7.518D-03   2.459D+00\n",
      "  F =   2.4585831696146685     \n",
      "\n",
      "CONVERGENCE: REL_REDUCTION_OF_F_<=_FACTR*EPSMCH             \n"
     ]
    },
    {
     "name": "stderr",
     "output_type": "stream",
     "text": [
      " This problem is unconstrained.\n"
     ]
    },
    {
     "name": "stdout",
     "output_type": "stream",
     "text": [
      "RUNNING THE L-BFGS-B CODE\n",
      "\n",
      "           * * *\n",
      "\n",
      "Machine precision = 2.220D-16\n",
      " N =            4     M =           10\n",
      "\n",
      "At X0         0 variables are exactly at the bounds\n",
      "\n",
      "At iterate    0    f=  2.75234D+00    |proj g|=  9.80774D-02\n",
      "\n",
      "At iterate    5    f=  2.49253D+00    |proj g|=  1.32819D-02\n",
      "\n",
      "At iterate   10    f=  2.46208D+00    |proj g|=  1.53806D-03\n",
      "\n",
      "At iterate   15    f=  2.45821D+00    |proj g|=  6.72286D-03\n",
      "  ys=-9.982E-05  -gs= 3.495E-04 BFGS update SKIPPED\n",
      "\n",
      "           * * *\n",
      "\n",
      "Tit   = total number of iterations\n",
      "Tnf   = total number of function evaluations\n",
      "Tnint = total number of segments explored during Cauchy searches\n",
      "Skip  = number of BFGS updates skipped\n",
      "Nact  = number of active bounds at final generalized Cauchy point\n",
      "Projg = norm of the final projected gradient\n",
      "F     = final function value\n",
      "\n",
      "           * * *\n",
      "\n",
      "   N    Tit     Tnf  Tnint  Skip  Nact     Projg        F\n",
      "    4     19     42      1     1     0   1.012D-03   2.458D+00\n",
      "  F =   2.4581513194660736     \n",
      "\n",
      "CONVERGENCE: REL_REDUCTION_OF_F_<=_FACTR*EPSMCH             \n"
     ]
    },
    {
     "name": "stderr",
     "output_type": "stream",
     "text": [
      "\n",
      " Warning:  more than 10 function and gradient\n",
      "   evaluations in the last line search.  Termination\n",
      "   may possibly be caused by a bad search direction.\n"
     ]
    },
    {
     "name": "stdout",
     "output_type": "stream",
     "text": [
      "RUNNING THE L-BFGS-B CODE\n",
      "\n",
      "           * * *\n",
      "\n",
      "Machine precision = 2.220D-16\n",
      " N =            4     M =           10\n",
      "\n",
      "At X0         0 variables are exactly at the bounds\n",
      "\n",
      "At iterate    0    f=  2.75220D+00    |proj g|=  9.81475D-02\n"
     ]
    },
    {
     "name": "stderr",
     "output_type": "stream",
     "text": [
      " This problem is unconstrained.\n"
     ]
    },
    {
     "name": "stdout",
     "output_type": "stream",
     "text": [
      "\n",
      "At iterate    5    f=  2.49196D+00    |proj g|=  1.30330D-02\n",
      "\n",
      "At iterate   10    f=  2.46188D+00    |proj g|=  1.65205D-03\n",
      "\n",
      "At iterate   15    f=  2.45823D+00    |proj g|=  5.54071D-03\n",
      "\n",
      "           * * *\n",
      "\n",
      "Tit   = total number of iterations\n",
      "Tnf   = total number of function evaluations\n",
      "Tnint = total number of segments explored during Cauchy searches\n",
      "Skip  = number of BFGS updates skipped\n",
      "Nact  = number of active bounds at final generalized Cauchy point\n",
      "Projg = norm of the final projected gradient\n",
      "F     = final function value\n",
      "\n",
      "           * * *\n",
      "\n",
      "   N    Tit     Tnf  Tnint  Skip  Nact     Projg        F\n",
      "    4     19     31      1     0     0   2.371D-04   2.458D+00\n",
      "  F =   2.4581460161357738     \n",
      "\n",
      "CONVERGENCE: REL_REDUCTION_OF_F_<=_FACTR*EPSMCH             \n",
      "RUNNING THE L-BFGS-B CODE\n",
      "\n",
      "           * * *\n",
      "\n",
      "Machine precision = 2.220D-16\n",
      " N =            4     M =           10\n",
      "\n",
      "At X0         0 variables are exactly at the bounds\n",
      "\n",
      "At iterate    0    f=  2.75226D+00    |proj g|=  9.81265D-02\n",
      "\n",
      "At iterate    5    f=  2.49215D+00    |proj g|=  1.31204D-02\n"
     ]
    },
    {
     "name": "stderr",
     "output_type": "stream",
     "text": [
      " This problem is unconstrained.\n"
     ]
    },
    {
     "name": "stdout",
     "output_type": "stream",
     "text": [
      "\n",
      "At iterate   10    f=  2.46198D+00    |proj g|=  1.55833D-03\n",
      "\n",
      "At iterate   15    f=  2.45821D+00    |proj g|=  6.45653D-03\n",
      "  ys=-8.296E-03  -gs= 1.485E-03 BFGS update SKIPPED\n"
     ]
    },
    {
     "name": "stderr",
     "output_type": "stream",
     "text": [
      "\n",
      " Bad direction in the line search;\n",
      "   refresh the lbfgs memory and restart the iteration.\n"
     ]
    },
    {
     "name": "stdout",
     "output_type": "stream",
     "text": [
      "\n",
      "At iterate   20    f=  2.45814D+00    |proj g|=  6.47163D-04\n",
      "\n",
      "           * * *\n",
      "\n",
      "Tit   = total number of iterations\n",
      "Tnf   = total number of function evaluations\n",
      "Tnint = total number of segments explored during Cauchy searches\n",
      "Skip  = number of BFGS updates skipped\n",
      "Nact  = number of active bounds at final generalized Cauchy point\n",
      "Projg = norm of the final projected gradient\n",
      "F     = final function value\n",
      "\n",
      "           * * *\n",
      "\n",
      "   N    Tit     Tnf  Tnint  Skip  Nact     Projg        F\n",
      "    4     22     59      2     1     0   5.284D-04   2.458D+00\n",
      "  F =   2.4581397815592441     \n",
      "\n",
      "CONVERGENCE: REL_REDUCTION_OF_F_<=_FACTR*EPSMCH             \n",
      "RUNNING THE L-BFGS-B CODE\n",
      "\n",
      "           * * *\n",
      "\n",
      "Machine precision = 2.220D-16\n",
      " N =            4     M =           10\n",
      "\n",
      "At X0         0 variables are exactly at the bounds\n",
      "\n",
      "At iterate    0    f=  2.75212D+00    |proj g|=  9.81153D-02\n"
     ]
    },
    {
     "name": "stderr",
     "output_type": "stream",
     "text": [
      " This problem is unconstrained.\n"
     ]
    },
    {
     "name": "stdout",
     "output_type": "stream",
     "text": [
      "\n",
      "At iterate    5    f=  2.49168D+00    |proj g|=  1.28634D-02\n",
      "\n",
      "At iterate   10    f=  2.46191D+00    |proj g|=  1.64638D-03\n",
      "\n",
      "At iterate   15    f=  2.45856D+00    |proj g|=  3.51288D-03\n",
      "\n",
      "At iterate   20    f=  2.45820D+00    |proj g|=  1.81139D-03\n",
      "\n",
      "           * * *\n",
      "\n",
      "Tit   = total number of iterations\n",
      "Tnf   = total number of function evaluations\n",
      "Tnint = total number of segments explored during Cauchy searches\n",
      "Skip  = number of BFGS updates skipped\n",
      "Nact  = number of active bounds at final generalized Cauchy point\n",
      "Projg = norm of the final projected gradient\n",
      "F     = final function value\n",
      "\n",
      "           * * *\n",
      "\n",
      "   N    Tit     Tnf  Tnint  Skip  Nact     Projg        F\n",
      "    4     20     43      1     0     0   1.811D-03   2.458D+00\n",
      "  F =   2.4581982081996352     \n",
      "\n",
      "CONVERGENCE: REL_REDUCTION_OF_F_<=_FACTR*EPSMCH             \n",
      "RUNNING THE L-BFGS-B CODE\n",
      "\n",
      "           * * *\n",
      "\n",
      "Machine precision = 2.220D-16\n",
      " N =            4     M =           10\n",
      "\n",
      "At X0         0 variables are exactly at the bounds\n",
      "\n",
      "At iterate    0    f=  2.75199D+00    |proj g|=  9.81123D-02\n"
     ]
    },
    {
     "name": "stderr",
     "output_type": "stream",
     "text": [
      " This problem is unconstrained.\n"
     ]
    },
    {
     "name": "stdout",
     "output_type": "stream",
     "text": [
      "\n",
      "At iterate    5    f=  2.49087D+00    |proj g|=  1.24405D-02\n",
      "\n",
      "At iterate   10    f=  2.46179D+00    |proj g|=  2.15212D-03\n",
      "\n",
      "At iterate   15    f=  2.45885D+00    |proj g|=  1.74772D-02\n",
      "\n",
      "At iterate   20    f=  2.45825D+00    |proj g|=  5.38972D-04\n",
      "\n",
      "           * * *\n",
      "\n",
      "Tit   = total number of iterations\n",
      "Tnf   = total number of function evaluations\n",
      "Tnint = total number of segments explored during Cauchy searches\n",
      "Skip  = number of BFGS updates skipped\n",
      "Nact  = number of active bounds at final generalized Cauchy point\n",
      "Projg = norm of the final projected gradient\n",
      "F     = final function value\n",
      "\n",
      "           * * *\n",
      "\n",
      "   N    Tit     Tnf  Tnint  Skip  Nact     Projg        F\n",
      "    4     22     31      1     0     0   4.643D-04   2.458D+00\n",
      "  F =   2.4582474655115218     \n",
      "\n",
      "CONVERGENCE: REL_REDUCTION_OF_F_<=_FACTR*EPSMCH             \n",
      "RUNNING THE L-BFGS-B CODE\n",
      "\n",
      "           * * *\n",
      "\n",
      "Machine precision = 2.220D-16\n",
      " N =            4     M =           10\n",
      "\n",
      "At X0         0 variables are exactly at the bounds\n",
      "\n",
      "At iterate    0    f=  2.75192D+00    |proj g|=  9.81285D-02\n",
      "\n",
      "At iterate    5    f=  2.49207D+00    |proj g|=  1.31513D-02\n"
     ]
    },
    {
     "name": "stderr",
     "output_type": "stream",
     "text": [
      " This problem is unconstrained.\n"
     ]
    },
    {
     "name": "stdout",
     "output_type": "stream",
     "text": [
      "\n",
      "At iterate   10    f=  2.46187D+00    |proj g|=  1.54261D-03\n"
     ]
    },
    {
     "name": "stderr",
     "output_type": "stream",
     "text": [
      "\n",
      " Bad direction in the line search;\n",
      "   refresh the lbfgs memory and restart the iteration.\n"
     ]
    },
    {
     "name": "stdout",
     "output_type": "stream",
     "text": [
      "\n",
      "At iterate   15    f=  2.45838D+00    |proj g|=  2.95456D-03\n",
      "\n",
      "           * * *\n",
      "\n",
      "Tit   = total number of iterations\n",
      "Tnf   = total number of function evaluations\n",
      "Tnint = total number of segments explored during Cauchy searches\n",
      "Skip  = number of BFGS updates skipped\n",
      "Nact  = number of active bounds at final generalized Cauchy point\n",
      "Projg = norm of the final projected gradient\n",
      "F     = final function value\n",
      "\n",
      "           * * *\n",
      "\n",
      "   N    Tit     Tnf  Tnint  Skip  Nact     Projg        F\n",
      "    4     19     44      2     0     0   8.221D-05   2.458D+00\n",
      "  F =   2.4583622864768389     \n",
      "\n",
      "CONVERGENCE: REL_REDUCTION_OF_F_<=_FACTR*EPSMCH             \n",
      "RUNNING THE L-BFGS-B CODE\n",
      "\n",
      "           * * *\n",
      "\n",
      "Machine precision = 2.220D-16\n",
      " N =            4     M =           10\n",
      "\n",
      "At X0         0 variables are exactly at the bounds\n",
      "\n",
      "At iterate    0    f=  2.75193D+00    |proj g|=  9.81355D-02\n",
      "\n",
      "At iterate    5    f=  2.49148D+00    |proj g|=  1.29087D-02\n"
     ]
    },
    {
     "name": "stderr",
     "output_type": "stream",
     "text": [
      " This problem is unconstrained.\n"
     ]
    },
    {
     "name": "stdout",
     "output_type": "stream",
     "text": [
      "\n",
      "At iterate   10    f=  2.46168D+00    |proj g|=  1.56379D-03\n",
      "\n",
      "At iterate   15    f=  2.45839D+00    |proj g|=  1.97545D-03\n",
      "\n",
      "           * * *\n",
      "\n",
      "Tit   = total number of iterations\n",
      "Tnf   = total number of function evaluations\n",
      "Tnint = total number of segments explored during Cauchy searches\n",
      "Skip  = number of BFGS updates skipped\n",
      "Nact  = number of active bounds at final generalized Cauchy point\n",
      "Projg = norm of the final projected gradient\n",
      "F     = final function value\n",
      "\n",
      "           * * *\n",
      "\n",
      "   N    Tit     Tnf  Tnint  Skip  Nact     Projg        F\n",
      "    4     17     31      1     0     0   5.423D-03   2.458D+00\n",
      "  F =   2.4583014619142922     \n",
      "\n",
      "CONVERGENCE: REL_REDUCTION_OF_F_<=_FACTR*EPSMCH             \n",
      "RUNNING THE L-BFGS-B CODE\n",
      "\n",
      "           * * *\n",
      "\n",
      "Machine precision = 2.220D-16\n",
      " N =            4     M =           10\n",
      "\n",
      "At X0         0 variables are exactly at the bounds\n",
      "\n",
      "At iterate    0    f=  2.75176D+00    |proj g|=  9.81094D-02\n"
     ]
    },
    {
     "name": "stderr",
     "output_type": "stream",
     "text": [
      " This problem is unconstrained.\n"
     ]
    },
    {
     "name": "stdout",
     "output_type": "stream",
     "text": [
      "\n",
      "At iterate    5    f=  2.49021D+00    |proj g|=  1.22390D-02\n",
      "\n",
      "At iterate   10    f=  2.46150D+00    |proj g|=  2.16121D-03\n",
      "\n",
      "At iterate   15    f=  2.45840D+00    |proj g|=  1.26296D-02\n",
      "\n",
      "At iterate   20    f=  2.45819D+00    |proj g|=  1.75771D-02\n",
      "\n",
      "           * * *\n",
      "\n",
      "Tit   = total number of iterations\n",
      "Tnf   = total number of function evaluations\n",
      "Tnint = total number of segments explored during Cauchy searches\n",
      "Skip  = number of BFGS updates skipped\n",
      "Nact  = number of active bounds at final generalized Cauchy point\n",
      "Projg = norm of the final projected gradient\n",
      "F     = final function value\n",
      "\n",
      "           * * *\n",
      "\n",
      "   N    Tit     Tnf  Tnint  Skip  Nact     Projg        F\n",
      "    4     20     43      1     0     0   1.758D-02   2.458D+00\n",
      "  F =   2.4581866543873829     \n",
      "\n",
      "CONVERGENCE: REL_REDUCTION_OF_F_<=_FACTR*EPSMCH             \n"
     ]
    },
    {
     "name": "stderr",
     "output_type": "stream",
     "text": [
      "\n",
      " Warning:  more than 10 function and gradient\n",
      "   evaluations in the last line search.  Termination\n",
      "   may possibly be caused by a bad search direction.\n"
     ]
    },
    {
     "name": "stdout",
     "output_type": "stream",
     "text": [
      "RUNNING THE L-BFGS-B CODE\n",
      "\n",
      "           * * *\n",
      "\n",
      "Machine precision = 2.220D-16\n",
      " N =            4     M =           10\n",
      "\n",
      "At X0         0 variables are exactly at the bounds\n",
      "\n",
      "At iterate    0    f=  2.75174D+00    |proj g|=  9.81228D-02\n"
     ]
    },
    {
     "name": "stderr",
     "output_type": "stream",
     "text": [
      " This problem is unconstrained.\n"
     ]
    },
    {
     "name": "stdout",
     "output_type": "stream",
     "text": [
      "\n",
      "At iterate    5    f=  2.48905D+00    |proj g|=  1.22671D-02\n",
      "\n",
      "At iterate   10    f=  2.46126D+00    |proj g|=  1.96559D-03\n",
      "\n",
      "At iterate   15    f=  2.45846D+00    |proj g|=  3.12069D-03\n",
      "\n",
      "At iterate   20    f=  2.45814D+00    |proj g|=  2.34208D-03\n",
      "\n",
      "           * * *\n",
      "\n",
      "Tit   = total number of iterations\n",
      "Tnf   = total number of function evaluations\n",
      "Tnint = total number of segments explored during Cauchy searches\n",
      "Skip  = number of BFGS updates skipped\n",
      "Nact  = number of active bounds at final generalized Cauchy point\n",
      "Projg = norm of the final projected gradient\n",
      "F     = final function value\n",
      "\n",
      "           * * *\n",
      "\n",
      "   N    Tit     Tnf  Tnint  Skip  Nact     Projg        F\n",
      "    4     21     40      1     0     0   2.341D-03   2.458D+00\n",
      "  F =   2.4581362721345301     \n",
      "\n",
      "CONVERGENCE: REL_REDUCTION_OF_F_<=_FACTR*EPSMCH             \n",
      "RUNNING THE L-BFGS-B CODE\n",
      "\n",
      "           * * *\n",
      "\n",
      "Machine precision = 2.220D-16\n",
      " N =            4     M =           10\n",
      "\n",
      "At X0         0 variables are exactly at the bounds\n",
      "\n",
      "At iterate    0    f=  2.75170D+00    |proj g|=  9.81479D-02\n",
      "\n",
      "At iterate    5    f=  2.48975D+00    |proj g|=  1.21418D-02\n"
     ]
    },
    {
     "name": "stderr",
     "output_type": "stream",
     "text": [
      " This problem is unconstrained.\n"
     ]
    },
    {
     "name": "stdout",
     "output_type": "stream",
     "text": [
      "\n",
      "At iterate   10    f=  2.46129D+00    |proj g|=  2.06684D-03\n",
      "\n",
      "At iterate   15    f=  2.45804D+00    |proj g|=  4.83828D-03\n",
      "\n",
      "At iterate   20    f=  2.45801D+00    |proj g|=  2.28394D-04\n"
     ]
    },
    {
     "name": "stderr",
     "output_type": "stream",
     "text": [
      "\n",
      " Bad direction in the line search;\n",
      "   refresh the lbfgs memory and restart the iteration.\n"
     ]
    },
    {
     "name": "stdout",
     "output_type": "stream",
     "text": [
      "\n",
      "At iterate   25    f=  2.45801D+00    |proj g|=  1.86627D-04\n",
      "\n",
      "           * * *\n",
      "\n",
      "Tit   = total number of iterations\n",
      "Tnf   = total number of function evaluations\n",
      "Tnint = total number of segments explored during Cauchy searches\n",
      "Skip  = number of BFGS updates skipped\n",
      "Nact  = number of active bounds at final generalized Cauchy point\n",
      "Projg = norm of the final projected gradient\n",
      "F     = final function value\n",
      "\n",
      "           * * *\n",
      "\n",
      "   N    Tit     Tnf  Tnint  Skip  Nact     Projg        F\n",
      "    4     25     54      2     0     0   1.866D-04   2.458D+00\n",
      "  F =   2.4580104549422015     \n",
      "\n",
      "CONVERGENCE: REL_REDUCTION_OF_F_<=_FACTR*EPSMCH             \n",
      "RUNNING THE L-BFGS-B CODE\n",
      "\n",
      "           * * *\n",
      "\n",
      "Machine precision = 2.220D-16\n",
      " N =            4     M =           10\n",
      "\n",
      "At X0         0 variables are exactly at the bounds\n",
      "\n",
      "At iterate    0    f=  2.75173D+00    |proj g|=  9.81196D-02\n",
      "\n",
      "At iterate    5    f=  2.48999D+00    |proj g|=  1.22814D-02\n"
     ]
    },
    {
     "name": "stderr",
     "output_type": "stream",
     "text": [
      " This problem is unconstrained.\n"
     ]
    },
    {
     "name": "stdout",
     "output_type": "stream",
     "text": [
      "\n",
      "At iterate   10    f=  2.46132D+00    |proj g|=  1.84321D-03\n",
      "\n",
      "At iterate   15    f=  2.45817D+00    |proj g|=  3.03964D-03\n",
      "\n",
      "At iterate   20    f=  2.45793D+00    |proj g|=  2.85273D-03\n"
     ]
    },
    {
     "name": "stderr",
     "output_type": "stream",
     "text": [
      "\n",
      " Warning:  more than 10 function and gradient\n",
      "   evaluations in the last line search.  Termination\n",
      "   may possibly be caused by a bad search direction.\n"
     ]
    },
    {
     "name": "stdout",
     "output_type": "stream",
     "text": [
      "\n",
      "           * * *\n",
      "\n",
      "Tit   = total number of iterations\n",
      "Tnf   = total number of function evaluations\n",
      "Tnint = total number of segments explored during Cauchy searches\n",
      "Skip  = number of BFGS updates skipped\n",
      "Nact  = number of active bounds at final generalized Cauchy point\n",
      "Projg = norm of the final projected gradient\n",
      "F     = final function value\n",
      "\n",
      "           * * *\n",
      "\n",
      "   N    Tit     Tnf  Tnint  Skip  Nact     Projg        F\n",
      "    4     23     53      1     0     0   2.895D-03   2.458D+00\n",
      "  F =   2.4578952145323343     \n",
      "\n",
      "CONVERGENCE: REL_REDUCTION_OF_F_<=_FACTR*EPSMCH             \n",
      "RUNNING THE L-BFGS-B CODE\n",
      "\n",
      "           * * *\n",
      "\n",
      "Machine precision = 2.220D-16\n",
      " N =            4     M =           10\n",
      "\n",
      "At X0         0 variables are exactly at the bounds\n",
      "\n",
      "At iterate    0    f=  2.75161D+00    |proj g|=  9.81659D-02\n",
      "\n",
      "At iterate    5    f=  2.49333D+00    |proj g|=  1.40778D-02\n"
     ]
    },
    {
     "name": "stderr",
     "output_type": "stream",
     "text": [
      " This problem is unconstrained.\n"
     ]
    },
    {
     "name": "stdout",
     "output_type": "stream",
     "text": [
      "\n",
      "At iterate   10    f=  2.46185D+00    |proj g|=  1.84250D-03\n",
      "\n",
      "At iterate   15    f=  2.45777D+00    |proj g|=  5.54777D-03\n",
      "  ys=-5.558E-05  -gs= 1.640E-04 BFGS update SKIPPED\n",
      "\n",
      "At iterate   20    f=  2.45769D+00    |proj g|=  1.65776D-03\n",
      "\n",
      "           * * *\n",
      "\n",
      "Tit   = total number of iterations\n",
      "Tnf   = total number of function evaluations\n",
      "Tnint = total number of segments explored during Cauchy searches\n",
      "Skip  = number of BFGS updates skipped\n",
      "Nact  = number of active bounds at final generalized Cauchy point\n",
      "Projg = norm of the final projected gradient\n",
      "F     = final function value\n",
      "\n",
      "           * * *\n",
      "\n",
      "   N    Tit     Tnf  Tnint  Skip  Nact     Projg        F\n",
      "    4     24     45      1     1     0   2.056D-04   2.458D+00\n",
      "  F =   2.4576876898289242     \n",
      "\n",
      "CONVERGENCE: REL_REDUCTION_OF_F_<=_FACTR*EPSMCH             \n"
     ]
    },
    {
     "name": "stderr",
     "output_type": "stream",
     "text": [
      " This problem is unconstrained.\n"
     ]
    },
    {
     "name": "stdout",
     "output_type": "stream",
     "text": [
      "RUNNING THE L-BFGS-B CODE\n",
      "\n",
      "           * * *\n",
      "\n",
      "Machine precision = 2.220D-16\n",
      " N =            4     M =           10\n",
      "\n",
      "At X0         0 variables are exactly at the bounds\n",
      "\n",
      "At iterate    0    f=  2.75166D+00    |proj g|=  9.81572D-02\n",
      "\n",
      "At iterate    5    f=  2.49177D+00    |proj g|=  1.32661D-02\n",
      "\n",
      "At iterate   10    f=  2.46150D+00    |proj g|=  1.45074D-03\n",
      "\n",
      "At iterate   15    f=  2.45794D+00    |proj g|=  4.45094D-03\n",
      "  ys=-1.353E-04  -gs= 4.256E-05 BFGS update SKIPPED\n",
      "\n",
      "At iterate   20    f=  2.45758D+00    |proj g|=  8.29860D-04\n",
      "\n",
      "           * * *\n",
      "\n",
      "Tit   = total number of iterations\n",
      "Tnf   = total number of function evaluations\n",
      "Tnint = total number of segments explored during Cauchy searches\n",
      "Skip  = number of BFGS updates skipped\n",
      "Nact  = number of active bounds at final generalized Cauchy point\n",
      "Projg = norm of the final projected gradient\n",
      "F     = final function value\n",
      "\n",
      "           * * *\n",
      "\n",
      "   N    Tit     Tnf  Tnint  Skip  Nact     Projg        F\n",
      "    4     20     48      1     1     0   8.299D-04   2.458D+00\n",
      "  F =   2.4575786895093485     \n",
      "\n",
      "CONVERGENCE: REL_REDUCTION_OF_F_<=_FACTR*EPSMCH             \n"
     ]
    },
    {
     "name": "stderr",
     "output_type": "stream",
     "text": [
      "\n",
      " Warning:  more than 10 function and gradient\n",
      "   evaluations in the last line search.  Termination\n",
      "   may possibly be caused by a bad search direction.\n",
      " This problem is unconstrained.\n"
     ]
    },
    {
     "name": "stdout",
     "output_type": "stream",
     "text": [
      "RUNNING THE L-BFGS-B CODE\n",
      "\n",
      "           * * *\n",
      "\n",
      "Machine precision = 2.220D-16\n",
      " N =            4     M =           10\n",
      "\n",
      "At X0         0 variables are exactly at the bounds\n",
      "\n",
      "At iterate    0    f=  2.75162D+00    |proj g|=  9.81639D-02\n",
      "\n",
      "At iterate    5    f=  2.49240D+00    |proj g|=  1.36687D-02\n",
      "\n",
      "At iterate   10    f=  2.46150D+00    |proj g|=  1.41203D-03\n",
      "\n",
      "At iterate   15    f=  2.45782D+00    |proj g|=  8.06365D-03\n",
      "  ys=-3.168E-04  -gs= 2.790E-05 BFGS update SKIPPED\n",
      "\n",
      "At iterate   20    f=  2.45747D+00    |proj g|=  4.43977D-03\n",
      "  ys=-4.160E-04  -gs= 3.207E-04 BFGS update SKIPPED\n",
      "\n",
      "At iterate   25    f=  2.45746D+00    |proj g|=  6.39882D-04\n",
      "\n",
      "           * * *\n",
      "\n",
      "Tit   = total number of iterations\n",
      "Tnf   = total number of function evaluations\n",
      "Tnint = total number of segments explored during Cauchy searches\n",
      "Skip  = number of BFGS updates skipped\n",
      "Nact  = number of active bounds at final generalized Cauchy point\n",
      "Projg = norm of the final projected gradient\n",
      "F     = final function value\n",
      "\n",
      "           * * *\n",
      "\n",
      "   N    Tit     Tnf  Tnint  Skip  Nact     Projg        F\n",
      "    4     28     74      1     2     0   7.176D-04   2.457D+00\n",
      "  F =   2.4574562139137837     \n",
      "\n",
      "CONVERGENCE: REL_REDUCTION_OF_F_<=_FACTR*EPSMCH             \n"
     ]
    },
    {
     "name": "stderr",
     "output_type": "stream",
     "text": [
      "\n",
      " Warning:  more than 10 function and gradient\n",
      "   evaluations in the last line search.  Termination\n",
      "   may possibly be caused by a bad search direction.\n"
     ]
    },
    {
     "name": "stdout",
     "output_type": "stream",
     "text": [
      "RUNNING THE L-BFGS-B CODE\n",
      "\n",
      "           * * *\n",
      "\n",
      "Machine precision = 2.220D-16\n",
      " N =            4     M =           10\n",
      "\n",
      "At X0         0 variables are exactly at the bounds\n",
      "\n",
      "At iterate    0    f=  2.75155D+00    |proj g|=  9.81585D-02\n",
      "\n",
      "At iterate    5    f=  2.49253D+00    |proj g|=  1.37219D-02\n"
     ]
    },
    {
     "name": "stderr",
     "output_type": "stream",
     "text": [
      " This problem is unconstrained.\n"
     ]
    },
    {
     "name": "stdout",
     "output_type": "stream",
     "text": [
      "\n",
      "At iterate   10    f=  2.46156D+00    |proj g|=  1.40896D-03\n",
      "\n",
      "At iterate   15    f=  2.45815D+00    |proj g|=  3.28252D-03\n",
      "\n",
      "At iterate   20    f=  2.45812D+00    |proj g|=  3.10547D-03\n",
      "\n",
      "At iterate   25    f=  2.45810D+00    |proj g|=  8.64425D-04\n",
      "\n",
      "At iterate   30    f=  2.45796D+00    |proj g|=  3.42737D-03\n",
      "\n",
      "At iterate   35    f=  2.45796D+00    |proj g|=  2.85897D-04\n",
      "\n",
      "At iterate   40    f=  2.45796D+00    |proj g|=  3.86938D-04\n",
      "\n",
      "           * * *\n",
      "\n",
      "Tit   = total number of iterations\n",
      "Tnf   = total number of function evaluations\n",
      "Tnint = total number of segments explored during Cauchy searches\n",
      "Skip  = number of BFGS updates skipped\n",
      "Nact  = number of active bounds at final generalized Cauchy point\n",
      "Projg = norm of the final projected gradient\n",
      "F     = final function value\n",
      "\n",
      "           * * *\n",
      "\n",
      "   N    Tit     Tnf  Tnint  Skip  Nact     Projg        F\n",
      "    4     44     62      1     0     0   1.193D-04   2.458D+00\n",
      "  F =   2.4579560714143556     \n",
      "\n",
      "CONVERGENCE: REL_REDUCTION_OF_F_<=_FACTR*EPSMCH             \n",
      "RUNNING THE L-BFGS-B CODE\n",
      "\n",
      "           * * *\n",
      "\n",
      "Machine precision = 2.220D-16\n",
      " N =            4     M =           10\n",
      "\n",
      "At X0         0 variables are exactly at the bounds\n",
      "\n",
      "At iterate    0    f=  2.75152D+00    |proj g|=  9.81831D-02\n"
     ]
    },
    {
     "name": "stderr",
     "output_type": "stream",
     "text": [
      " This problem is unconstrained.\n"
     ]
    },
    {
     "name": "stdout",
     "output_type": "stream",
     "text": [
      "\n",
      "At iterate    5    f=  2.49217D+00    |proj g|=  1.35235D-02\n",
      "\n",
      "At iterate   10    f=  2.46149D+00    |proj g|=  1.43766D-03\n",
      "\n",
      "At iterate   15    f=  2.45800D+00    |proj g|=  6.04580D-03\n",
      "\n",
      "           * * *\n",
      "\n",
      "Tit   = total number of iterations\n",
      "Tnf   = total number of function evaluations\n",
      "Tnint = total number of segments explored during Cauchy searches\n",
      "Skip  = number of BFGS updates skipped\n",
      "Nact  = number of active bounds at final generalized Cauchy point\n",
      "Projg = norm of the final projected gradient\n",
      "F     = final function value\n",
      "\n",
      "           * * *\n",
      "\n",
      "   N    Tit     Tnf  Tnint  Skip  Nact     Projg        F\n",
      "    4     18     33      1     0     0   1.200D-03   2.458D+00\n",
      "  F =   2.4579110769509769     \n",
      "\n",
      "CONVERGENCE: REL_REDUCTION_OF_F_<=_FACTR*EPSMCH             \n",
      "RUNNING THE L-BFGS-B CODE\n",
      "\n",
      "           * * *\n",
      "\n",
      "Machine precision = 2.220D-16\n",
      " N =            4     M =           10\n",
      "\n",
      "At X0         0 variables are exactly at the bounds\n",
      "\n",
      "At iterate    0    f=  2.75142D+00    |proj g|=  9.82307D-02\n"
     ]
    },
    {
     "name": "stderr",
     "output_type": "stream",
     "text": [
      " This problem is unconstrained.\n"
     ]
    },
    {
     "name": "stdout",
     "output_type": "stream",
     "text": [
      "\n",
      "At iterate    5    f=  2.49266D+00    |proj g|=  1.38555D-02\n",
      "\n",
      "At iterate   10    f=  2.46151D+00    |proj g|=  1.42182D-03\n",
      "\n",
      "At iterate   15    f=  2.45807D+00    |proj g|=  3.19924D-03\n",
      "\n",
      "           * * *\n",
      "\n",
      "Tit   = total number of iterations\n",
      "Tnf   = total number of function evaluations\n",
      "Tnint = total number of segments explored during Cauchy searches\n",
      "Skip  = number of BFGS updates skipped\n",
      "Nact  = number of active bounds at final generalized Cauchy point\n",
      "Projg = norm of the final projected gradient\n",
      "F     = final function value\n",
      "\n",
      "           * * *\n",
      "\n",
      "   N    Tit     Tnf  Tnint  Skip  Nact     Projg        F\n",
      "    4     17     34      1     0     0   1.124D-02   2.458D+00\n",
      "  F =   2.4579235071625409     \n",
      "\n",
      "CONVERGENCE: REL_REDUCTION_OF_F_<=_FACTR*EPSMCH             \n"
     ]
    },
    {
     "name": "stderr",
     "output_type": "stream",
     "text": [
      "\n",
      " Warning:  more than 10 function and gradient\n",
      "   evaluations in the last line search.  Termination\n",
      "   may possibly be caused by a bad search direction.\n",
      " This problem is unconstrained.\n"
     ]
    },
    {
     "name": "stdout",
     "output_type": "stream",
     "text": [
      "RUNNING THE L-BFGS-B CODE\n",
      "\n",
      "           * * *\n",
      "\n",
      "Machine precision = 2.220D-16\n",
      " N =            4     M =           10\n",
      "\n",
      "At X0         0 variables are exactly at the bounds\n",
      "\n",
      "At iterate    0    f=  2.75156D+00    |proj g|=  9.82160D-02\n",
      "\n",
      "At iterate    5    f=  2.49206D+00    |proj g|=  1.34802D-02\n",
      "\n",
      "At iterate   10    f=  2.46143D+00    |proj g|=  1.47546D-03\n",
      "\n",
      "At iterate   15    f=  2.45799D+00    |proj g|=  2.31734D-04\n"
     ]
    },
    {
     "name": "stderr",
     "output_type": "stream",
     "text": [
      "\n",
      " Warning:  more than 10 function and gradient\n",
      "   evaluations in the last line search.  Termination\n",
      "   may possibly be caused by a bad search direction.\n"
     ]
    },
    {
     "name": "stdout",
     "output_type": "stream",
     "text": [
      "\n",
      "           * * *\n",
      "\n",
      "Tit   = total number of iterations\n",
      "Tnf   = total number of function evaluations\n",
      "Tnint = total number of segments explored during Cauchy searches\n",
      "Skip  = number of BFGS updates skipped\n",
      "Nact  = number of active bounds at final generalized Cauchy point\n",
      "Projg = norm of the final projected gradient\n",
      "F     = final function value\n",
      "\n",
      "           * * *\n",
      "\n",
      "   N    Tit     Tnf  Tnint  Skip  Nact     Projg        F\n",
      "    4     17     34      1     0     0   1.321D-03   2.458D+00\n",
      "  F =   2.4578936196961632     \n",
      "\n",
      "CONVERGENCE: REL_REDUCTION_OF_F_<=_FACTR*EPSMCH             \n",
      "RUNNING THE L-BFGS-B CODE\n",
      "\n",
      "           * * *\n",
      "\n",
      "Machine precision = 2.220D-16\n",
      " N =            4     M =           10\n",
      "\n",
      "At X0         0 variables are exactly at the bounds\n",
      "\n",
      "At iterate    0    f=  2.75154D+00    |proj g|=  9.82168D-02\n",
      "\n",
      "At iterate    5    f=  2.49215D+00    |proj g|=  1.35233D-02\n"
     ]
    },
    {
     "name": "stderr",
     "output_type": "stream",
     "text": [
      " This problem is unconstrained.\n"
     ]
    },
    {
     "name": "stdout",
     "output_type": "stream",
     "text": [
      "\n",
      "At iterate   10    f=  2.46144D+00    |proj g|=  1.49307D-03\n",
      "\n",
      "At iterate   15    f=  2.45794D+00    |proj g|=  2.67775D-03\n",
      "\n",
      "           * * *\n",
      "\n",
      "Tit   = total number of iterations\n",
      "Tnf   = total number of function evaluations\n",
      "Tnint = total number of segments explored during Cauchy searches\n",
      "Skip  = number of BFGS updates skipped\n",
      "Nact  = number of active bounds at final generalized Cauchy point\n",
      "Projg = norm of the final projected gradient\n",
      "F     = final function value\n",
      "\n",
      "           * * *\n",
      "\n",
      "   N    Tit     Tnf  Tnint  Skip  Nact     Projg        F\n",
      "    4     16     30      1     0     0   2.673D-03   2.458D+00\n",
      "  F =   2.4579396027569520     \n",
      "\n",
      "CONVERGENCE: REL_REDUCTION_OF_F_<=_FACTR*EPSMCH             \n",
      "RUNNING THE L-BFGS-B CODE\n",
      "\n",
      "           * * *\n",
      "\n",
      "Machine precision = 2.220D-16\n",
      " N =            4     M =           10\n",
      "\n",
      "At X0         0 variables are exactly at the bounds\n",
      "\n",
      "At iterate    0    f=  2.75170D+00    |proj g|=  9.81759D-02\n",
      "\n",
      "At iterate    5    f=  2.49179D+00    |proj g|=  1.33703D-02\n"
     ]
    },
    {
     "name": "stderr",
     "output_type": "stream",
     "text": [
      " This problem is unconstrained.\n"
     ]
    },
    {
     "name": "stdout",
     "output_type": "stream",
     "text": [
      "\n",
      "At iterate   10    f=  2.46137D+00    |proj g|=  1.43079D-03\n",
      "\n",
      "At iterate   15    f=  2.45772D+00    |proj g|=  4.55279D-03\n",
      "\n",
      "           * * *\n",
      "\n",
      "Tit   = total number of iterations\n",
      "Tnf   = total number of function evaluations\n",
      "Tnint = total number of segments explored during Cauchy searches\n",
      "Skip  = number of BFGS updates skipped\n",
      "Nact  = number of active bounds at final generalized Cauchy point\n",
      "Projg = norm of the final projected gradient\n",
      "F     = final function value\n",
      "\n",
      "           * * *\n",
      "\n",
      "   N    Tit     Tnf  Tnint  Skip  Nact     Projg        F\n",
      "    4     17     26      1     0     0   2.224D-03   2.458D+00\n",
      "  F =   2.4576403462311460     \n",
      "\n",
      "CONVERGENCE: REL_REDUCTION_OF_F_<=_FACTR*EPSMCH             \n"
     ]
    },
    {
     "name": "stderr",
     "output_type": "stream",
     "text": [
      " This problem is unconstrained.\n"
     ]
    },
    {
     "name": "stdout",
     "output_type": "stream",
     "text": [
      "RUNNING THE L-BFGS-B CODE\n",
      "\n",
      "           * * *\n",
      "\n",
      "Machine precision = 2.220D-16\n",
      " N =            4     M =           10\n",
      "\n",
      "At X0         0 variables are exactly at the bounds\n",
      "\n",
      "At iterate    0    f=  2.75166D+00    |proj g|=  9.81531D-02\n",
      "\n",
      "At iterate    5    f=  2.49145D+00    |proj g|=  1.31755D-02\n",
      "\n",
      "At iterate   10    f=  2.46136D+00    |proj g|=  1.43738D-03\n",
      "\n",
      "At iterate   15    f=  2.45810D+00    |proj g|=  8.98222D-03\n",
      "  ys=-2.728E-04  -gs= 4.205E-04 BFGS update SKIPPED\n",
      "\n",
      "At iterate   20    f=  2.45750D+00    |proj g|=  2.88391D-04\n"
     ]
    },
    {
     "name": "stderr",
     "output_type": "stream",
     "text": [
      "\n",
      " Warning:  more than 10 function and gradient\n",
      "   evaluations in the last line search.  Termination\n",
      "   may possibly be caused by a bad search direction.\n"
     ]
    },
    {
     "name": "stdout",
     "output_type": "stream",
     "text": [
      "\n",
      "           * * *\n",
      "\n",
      "Tit   = total number of iterations\n",
      "Tnf   = total number of function evaluations\n",
      "Tnint = total number of segments explored during Cauchy searches\n",
      "Skip  = number of BFGS updates skipped\n",
      "Nact  = number of active bounds at final generalized Cauchy point\n",
      "Projg = norm of the final projected gradient\n",
      "F     = final function value\n",
      "\n",
      "           * * *\n",
      "\n",
      "   N    Tit     Tnf  Tnint  Skip  Nact     Projg        F\n",
      "    4     21     53      1     1     0   2.930D-04   2.458D+00\n",
      "  F =   2.4575026495171688     \n",
      "\n",
      "CONVERGENCE: REL_REDUCTION_OF_F_<=_FACTR*EPSMCH             \n",
      "RUNNING THE L-BFGS-B CODE\n",
      "\n",
      "           * * *\n",
      "\n",
      "Machine precision = 2.220D-16\n",
      " N =            4     M =           10\n",
      "\n",
      "At X0         0 variables are exactly at the bounds\n",
      "\n",
      "At iterate    0    f=  2.75162D+00    |proj g|=  9.81804D-02\n",
      "\n",
      "At iterate    5    f=  2.49181D+00    |proj g|=  1.34016D-02\n"
     ]
    },
    {
     "name": "stderr",
     "output_type": "stream",
     "text": [
      " This problem is unconstrained.\n"
     ]
    },
    {
     "name": "stdout",
     "output_type": "stream",
     "text": [
      "\n",
      "At iterate   10    f=  2.46136D+00    |proj g|=  1.43565D-03\n",
      "\n",
      "At iterate   15    f=  2.45803D+00    |proj g|=  2.66183D-03\n",
      "\n",
      "At iterate   20    f=  2.45796D+00    |proj g|=  4.54095D-03\n",
      "\n",
      "At iterate   25    f=  2.45793D+00    |proj g|=  1.11207D-04\n",
      "\n",
      "At iterate   30    f=  2.45792D+00    |proj g|=  2.87670D-03\n",
      "\n",
      "At iterate   35    f=  2.45790D+00    |proj g|=  2.02740D-03\n",
      "\n",
      "           * * *\n",
      "\n",
      "Tit   = total number of iterations\n",
      "Tnf   = total number of function evaluations\n",
      "Tnint = total number of segments explored during Cauchy searches\n",
      "Skip  = number of BFGS updates skipped\n",
      "Nact  = number of active bounds at final generalized Cauchy point\n",
      "Projg = norm of the final projected gradient\n",
      "F     = final function value\n",
      "\n",
      "           * * *\n",
      "\n",
      "   N    Tit     Tnf  Tnint  Skip  Nact     Projg        F\n",
      "    4     37     67      1     0     0   1.047D-03   2.458D+00\n",
      "  F =   2.4578966018808726     \n",
      "\n",
      "CONVERGENCE: REL_REDUCTION_OF_F_<=_FACTR*EPSMCH             \n",
      "RUNNING THE L-BFGS-B CODE\n",
      "\n",
      "           * * *\n",
      "\n",
      "Machine precision = 2.220D-16\n",
      " N =            4     M =           10\n",
      "\n",
      "At X0         0 variables are exactly at the bounds\n",
      "\n",
      "At iterate    0    f=  2.75157D+00    |proj g|=  9.81891D-02\n"
     ]
    },
    {
     "name": "stderr",
     "output_type": "stream",
     "text": [
      " This problem is unconstrained.\n"
     ]
    },
    {
     "name": "stdout",
     "output_type": "stream",
     "text": [
      "\n",
      "At iterate    5    f=  2.49227D+00    |proj g|=  1.36399D-02\n",
      "\n",
      "At iterate   10    f=  2.46144D+00    |proj g|=  1.42151D-03\n",
      "\n",
      "At iterate   15    f=  2.45757D+00    |proj g|=  1.59138D-03\n",
      "\n",
      "           * * *\n",
      "\n",
      "Tit   = total number of iterations\n",
      "Tnf   = total number of function evaluations\n",
      "Tnint = total number of segments explored during Cauchy searches\n",
      "Skip  = number of BFGS updates skipped\n",
      "Nact  = number of active bounds at final generalized Cauchy point\n",
      "Projg = norm of the final projected gradient\n",
      "F     = final function value\n",
      "\n",
      "           * * *\n",
      "\n",
      "   N    Tit     Tnf  Tnint  Skip  Nact     Projg        F\n",
      "    4     18     41      1     0     0   1.925D-03   2.457D+00\n",
      "  F =   2.4574947920575152     \n",
      "\n",
      "CONVERGENCE: REL_REDUCTION_OF_F_<=_FACTR*EPSMCH             \n"
     ]
    },
    {
     "name": "stderr",
     "output_type": "stream",
     "text": [
      "\n",
      " Warning:  more than 10 function and gradient\n",
      "   evaluations in the last line search.  Termination\n",
      "   may possibly be caused by a bad search direction.\n",
      " This problem is unconstrained.\n"
     ]
    },
    {
     "name": "stdout",
     "output_type": "stream",
     "text": [
      "RUNNING THE L-BFGS-B CODE\n",
      "\n",
      "           * * *\n",
      "\n",
      "Machine precision = 2.220D-16\n",
      " N =            4     M =           10\n",
      "\n",
      "At X0         0 variables are exactly at the bounds\n",
      "\n",
      "At iterate    0    f=  2.75160D+00    |proj g|=  9.81749D-02\n",
      "\n",
      "At iterate    5    f=  2.49149D+00    |proj g|=  1.32470D-02\n",
      "\n",
      "At iterate   10    f=  2.46127D+00    |proj g|=  1.45847D-03\n",
      "\n",
      "At iterate   15    f=  2.45778D+00    |proj g|=  8.59211D-03\n",
      "\n",
      "At iterate   20    f=  2.45771D+00    |proj g|=  2.53538D-03\n"
     ]
    },
    {
     "name": "stderr",
     "output_type": "stream",
     "text": [
      "\n",
      " Warning:  more than 10 function and gradient\n",
      "   evaluations in the last line search.  Termination\n",
      "   may possibly be caused by a bad search direction.\n"
     ]
    },
    {
     "name": "stdout",
     "output_type": "stream",
     "text": [
      "\n",
      "           * * *\n",
      "\n",
      "Tit   = total number of iterations\n",
      "Tnf   = total number of function evaluations\n",
      "Tnint = total number of segments explored during Cauchy searches\n",
      "Skip  = number of BFGS updates skipped\n",
      "Nact  = number of active bounds at final generalized Cauchy point\n",
      "Projg = norm of the final projected gradient\n",
      "F     = final function value\n",
      "\n",
      "           * * *\n",
      "\n",
      "   N    Tit     Tnf  Tnint  Skip  Nact     Projg        F\n",
      "    4     22     44      1     0     0   3.606D-03   2.458D+00\n",
      "  F =   2.4576357841170307     \n",
      "\n",
      "CONVERGENCE: REL_REDUCTION_OF_F_<=_FACTR*EPSMCH             \n",
      "RUNNING THE L-BFGS-B CODE\n",
      "\n",
      "           * * *\n",
      "\n",
      "Machine precision = 2.220D-16\n",
      " N =            4     M =           10\n",
      "\n",
      "At X0         0 variables are exactly at the bounds\n",
      "\n",
      "At iterate    0    f=  2.75157D+00    |proj g|=  9.81693D-02\n",
      "\n",
      "At iterate    5    f=  2.49165D+00    |proj g|=  1.33451D-02\n"
     ]
    },
    {
     "name": "stderr",
     "output_type": "stream",
     "text": [
      " This problem is unconstrained.\n"
     ]
    },
    {
     "name": "stdout",
     "output_type": "stream",
     "text": [
      "\n",
      "At iterate   10    f=  2.46131D+00    |proj g|=  1.44276D-03\n",
      "\n",
      "At iterate   15    f=  2.45778D+00    |proj g|=  3.14450D-04\n",
      "\n",
      "           * * *\n",
      "\n",
      "Tit   = total number of iterations\n",
      "Tnf   = total number of function evaluations\n",
      "Tnint = total number of segments explored during Cauchy searches\n",
      "Skip  = number of BFGS updates skipped\n",
      "Nact  = number of active bounds at final generalized Cauchy point\n",
      "Projg = norm of the final projected gradient\n",
      "F     = final function value\n",
      "\n",
      "           * * *\n",
      "\n",
      "   N    Tit     Tnf  Tnint  Skip  Nact     Projg        F\n",
      "    4     16     26      1     0     0   2.421D-04   2.458D+00\n",
      "  F =   2.4577770339785476     \n",
      "\n",
      "CONVERGENCE: REL_REDUCTION_OF_F_<=_FACTR*EPSMCH             \n",
      "RUNNING THE L-BFGS-B CODE\n",
      "\n",
      "           * * *\n",
      "\n",
      "Machine precision = 2.220D-16\n",
      " N =            4     M =           10\n",
      "\n",
      "At X0         0 variables are exactly at the bounds\n",
      "\n",
      "At iterate    0    f=  2.75159D+00    |proj g|=  9.81624D-02\n",
      "\n",
      "At iterate    5    f=  2.49113D+00    |proj g|=  1.30709D-02\n"
     ]
    },
    {
     "name": "stderr",
     "output_type": "stream",
     "text": [
      " This problem is unconstrained.\n"
     ]
    },
    {
     "name": "stdout",
     "output_type": "stream",
     "text": [
      "\n",
      "At iterate   10    f=  2.46123D+00    |proj g|=  1.46149D-03\n",
      "\n",
      "At iterate   15    f=  2.45800D+00    |proj g|=  7.92168D-03\n",
      "\n",
      "At iterate   20    f=  2.45773D+00    |proj g|=  3.73727D-03\n",
      "\n",
      "           * * *\n",
      "\n",
      "Tit   = total number of iterations\n",
      "Tnf   = total number of function evaluations\n",
      "Tnint = total number of segments explored during Cauchy searches\n",
      "Skip  = number of BFGS updates skipped\n",
      "Nact  = number of active bounds at final generalized Cauchy point\n",
      "Projg = norm of the final projected gradient\n",
      "F     = final function value\n",
      "\n",
      "           * * *\n",
      "\n",
      "   N    Tit     Tnf  Tnint  Skip  Nact     Projg        F\n",
      "    4     23     43      1     0     0   1.817D-03   2.458D+00\n",
      "  F =   2.4576922646062211     \n",
      "\n",
      "CONVERGENCE: REL_REDUCTION_OF_F_<=_FACTR*EPSMCH             \n"
     ]
    },
    {
     "name": "stderr",
     "output_type": "stream",
     "text": [
      " This problem is unconstrained.\n"
     ]
    },
    {
     "name": "stdout",
     "output_type": "stream",
     "text": [
      "RUNNING THE L-BFGS-B CODE\n",
      "\n",
      "           * * *\n",
      "\n",
      "Machine precision = 2.220D-16\n",
      " N =            4     M =           10\n",
      "\n",
      "At X0         0 variables are exactly at the bounds\n",
      "\n",
      "At iterate    0    f=  2.75160D+00    |proj g|=  9.81588D-02\n",
      "\n",
      "At iterate    5    f=  2.49109D+00    |proj g|=  1.30249D-02\n",
      "\n",
      "At iterate   10    f=  2.46128D+00    |proj g|=  1.45594D-03\n",
      "\n",
      "At iterate   15    f=  2.45810D+00    |proj g|=  3.61135D-03\n",
      "  ys=-2.717E-03  -gs= 7.423E-04 BFGS update SKIPPED\n",
      "\n",
      "At iterate   20    f=  2.45742D+00    |proj g|=  2.05141D-03\n",
      "\n",
      "           * * *\n",
      "\n",
      "Tit   = total number of iterations\n",
      "Tnf   = total number of function evaluations\n",
      "Tnint = total number of segments explored during Cauchy searches\n",
      "Skip  = number of BFGS updates skipped\n",
      "Nact  = number of active bounds at final generalized Cauchy point\n",
      "Projg = norm of the final projected gradient\n",
      "F     = final function value\n",
      "\n",
      "           * * *\n",
      "\n",
      "   N    Tit     Tnf  Tnint  Skip  Nact     Projg        F\n",
      "    4     21     43      1     1     0   2.057D-03   2.457D+00\n",
      "  F =   2.4574198087477352     \n",
      "\n",
      "CONVERGENCE: REL_REDUCTION_OF_F_<=_FACTR*EPSMCH             \n"
     ]
    },
    {
     "name": "stderr",
     "output_type": "stream",
     "text": [
      " This problem is unconstrained.\n"
     ]
    },
    {
     "name": "stdout",
     "output_type": "stream",
     "text": [
      "RUNNING THE L-BFGS-B CODE\n",
      "\n",
      "           * * *\n",
      "\n",
      "Machine precision = 2.220D-16\n",
      " N =            4     M =           10\n",
      "\n",
      "At X0         0 variables are exactly at the bounds\n",
      "\n",
      "At iterate    0    f=  2.75158D+00    |proj g|=  9.81121D-02\n",
      "\n",
      "At iterate    5    f=  2.49009D+00    |proj g|=  1.25019D-02\n",
      "\n",
      "At iterate   10    f=  2.46115D+00    |proj g|=  1.53092D-03\n",
      "\n",
      "At iterate   15    f=  2.45778D+00    |proj g|=  2.79577D-03\n",
      "\n",
      "At iterate   20    f=  2.45752D+00    |proj g|=  4.38101D-04\n",
      "\n",
      "           * * *\n",
      "\n",
      "Tit   = total number of iterations\n",
      "Tnf   = total number of function evaluations\n",
      "Tnint = total number of segments explored during Cauchy searches\n",
      "Skip  = number of BFGS updates skipped\n",
      "Nact  = number of active bounds at final generalized Cauchy point\n",
      "Projg = norm of the final projected gradient\n",
      "F     = final function value\n",
      "\n",
      "           * * *\n",
      "\n",
      "   N    Tit     Tnf  Tnint  Skip  Nact     Projg        F\n",
      "    4     21     46      1     0     0   4.317D-04   2.458D+00\n",
      "  F =   2.4575186612834496     \n",
      "\n",
      "CONVERGENCE: REL_REDUCTION_OF_F_<=_FACTR*EPSMCH             \n",
      "RUNNING THE L-BFGS-B CODE\n",
      "\n",
      "           * * *\n",
      "\n",
      "Machine precision = 2.220D-16\n",
      " N =            4     M =           10\n",
      "\n",
      "At X0         0 variables are exactly at the bounds\n",
      "\n",
      "At iterate    0    f=  2.75167D+00    |proj g|=  9.80939D-02\n"
     ]
    },
    {
     "name": "stderr",
     "output_type": "stream",
     "text": [
      " This problem is unconstrained.\n"
     ]
    },
    {
     "name": "stdout",
     "output_type": "stream",
     "text": [
      "\n",
      "At iterate    5    f=  2.49131D+00    |proj g|=  1.31323D-02\n",
      "\n",
      "At iterate   10    f=  2.46136D+00    |proj g|=  1.40044D-03\n",
      "\n",
      "At iterate   15    f=  2.45793D+00    |proj g|=  6.65720D-03\n",
      "\n",
      "           * * *\n",
      "\n",
      "Tit   = total number of iterations\n",
      "Tnf   = total number of function evaluations\n",
      "Tnint = total number of segments explored during Cauchy searches\n",
      "Skip  = number of BFGS updates skipped\n",
      "Nact  = number of active bounds at final generalized Cauchy point\n",
      "Projg = norm of the final projected gradient\n",
      "F     = final function value\n",
      "\n",
      "           * * *\n",
      "\n",
      "   N    Tit     Tnf  Tnint  Skip  Nact     Projg        F\n",
      "    4     19     37      1     0     0   5.384D-04   2.458D+00\n",
      "  F =   2.4577642914973969     \n",
      "\n",
      "CONVERGENCE: REL_REDUCTION_OF_F_<=_FACTR*EPSMCH             \n"
     ]
    },
    {
     "name": "stderr",
     "output_type": "stream",
     "text": [
      "\n",
      " Warning:  more than 10 function and gradient\n",
      "   evaluations in the last line search.  Termination\n",
      "   may possibly be caused by a bad search direction.\n",
      " This problem is unconstrained.\n"
     ]
    },
    {
     "name": "stdout",
     "output_type": "stream",
     "text": [
      "RUNNING THE L-BFGS-B CODE\n",
      "\n",
      "           * * *\n",
      "\n",
      "Machine precision = 2.220D-16\n",
      " N =            4     M =           10\n",
      "\n",
      "At X0         0 variables are exactly at the bounds\n",
      "\n",
      "At iterate    0    f=  2.75168D+00    |proj g|=  9.80944D-02\n",
      "\n",
      "At iterate    5    f=  2.49060D+00    |proj g|=  1.27880D-02\n",
      "\n",
      "At iterate   10    f=  2.46119D+00    |proj g|=  1.43283D-03\n",
      "\n",
      "At iterate   15    f=  2.45777D+00    |proj g|=  6.59272D-03\n",
      "  ys=-7.082E-04  -gs= 1.522E-04 BFGS update SKIPPED\n",
      "  ys=-1.281E-04  -gs= 1.538E-04 BFGS update SKIPPED\n",
      "\n",
      "At iterate   20    f=  2.45742D+00    |proj g|=  1.05013D-03\n",
      "\n",
      "           * * *\n",
      "\n",
      "Tit   = total number of iterations\n",
      "Tnf   = total number of function evaluations\n",
      "Tnint = total number of segments explored during Cauchy searches\n",
      "Skip  = number of BFGS updates skipped\n",
      "Nact  = number of active bounds at final generalized Cauchy point\n",
      "Projg = norm of the final projected gradient\n",
      "F     = final function value\n",
      "\n",
      "           * * *\n",
      "\n",
      "   N    Tit     Tnf  Tnint  Skip  Nact     Projg        F\n",
      "    4     22     51      1     2     0   2.913D-04   2.457D+00\n",
      "  F =   2.4574205384665055     \n",
      "\n",
      "CONVERGENCE: REL_REDUCTION_OF_F_<=_FACTR*EPSMCH             \n",
      "RUNNING THE L-BFGS-B CODE\n",
      "\n",
      "           * * *\n",
      "\n",
      "Machine precision = 2.220D-16\n",
      " N =            4     M =           10\n",
      "\n",
      "At X0         0 variables are exactly at the bounds\n",
      "\n",
      "At iterate    0    f=  2.75163D+00    |proj g|=  9.81017D-02\n",
      "\n",
      "At iterate    5    f=  2.48940D+00    |proj g|=  1.21706D-02\n"
     ]
    },
    {
     "name": "stderr",
     "output_type": "stream",
     "text": [
      " This problem is unconstrained.\n"
     ]
    },
    {
     "name": "stdout",
     "output_type": "stream",
     "text": [
      "\n",
      "At iterate   10    f=  2.46101D+00    |proj g|=  1.59902D-03\n",
      "\n",
      "At iterate   15    f=  2.45764D+00    |proj g|=  8.40436D-03\n",
      "\n",
      "           * * *\n",
      "\n",
      "Tit   = total number of iterations\n",
      "Tnf   = total number of function evaluations\n",
      "Tnint = total number of segments explored during Cauchy searches\n",
      "Skip  = number of BFGS updates skipped\n",
      "Nact  = number of active bounds at final generalized Cauchy point\n",
      "Projg = norm of the final projected gradient\n",
      "F     = final function value\n",
      "\n",
      "           * * *\n",
      "\n",
      "   N    Tit     Tnf  Tnint  Skip  Nact     Projg        F\n",
      "    4     19     34      1     0     0   4.948D-04   2.458D+00\n",
      "  F =   2.4575886006010959     \n",
      "\n",
      "CONVERGENCE: REL_REDUCTION_OF_F_<=_FACTR*EPSMCH             \n"
     ]
    },
    {
     "name": "stderr",
     "output_type": "stream",
     "text": [
      " This problem is unconstrained.\n"
     ]
    },
    {
     "name": "stdout",
     "output_type": "stream",
     "text": [
      "RUNNING THE L-BFGS-B CODE\n",
      "\n",
      "           * * *\n",
      "\n",
      "Machine precision = 2.220D-16\n",
      " N =            4     M =           10\n",
      "\n",
      "At X0         0 variables are exactly at the bounds\n",
      "\n",
      "At iterate    0    f=  2.75156D+00    |proj g|=  9.80620D-02\n",
      "\n",
      "At iterate    5    f=  2.48800D+00    |proj g|=  1.14977D-02\n",
      "\n",
      "At iterate   10    f=  2.46082D+00    |proj g|=  2.11271D-03\n",
      "\n",
      "At iterate   15    f=  2.45767D+00    |proj g|=  2.17892D-03\n",
      "\n",
      "           * * *\n",
      "\n",
      "Tit   = total number of iterations\n",
      "Tnf   = total number of function evaluations\n",
      "Tnint = total number of segments explored during Cauchy searches\n",
      "Skip  = number of BFGS updates skipped\n",
      "Nact  = number of active bounds at final generalized Cauchy point\n",
      "Projg = norm of the final projected gradient\n",
      "F     = final function value\n",
      "\n",
      "           * * *\n",
      "\n",
      "   N    Tit     Tnf  Tnint  Skip  Nact     Projg        F\n",
      "    4     18     38      1     0     0   2.910D-03   2.457D+00\n",
      "  F =   2.4573902762379127     \n",
      "\n",
      "CONVERGENCE: REL_REDUCTION_OF_F_<=_FACTR*EPSMCH             \n",
      "RUNNING THE L-BFGS-B CODE\n",
      "\n",
      "           * * *\n",
      "\n",
      "Machine precision = 2.220D-16\n",
      " N =            4     M =           10\n",
      "\n",
      "At X0         0 variables are exactly at the bounds\n",
      "\n",
      "At iterate    0    f=  2.75155D+00    |proj g|=  9.80343D-02\n"
     ]
    },
    {
     "name": "stderr",
     "output_type": "stream",
     "text": [
      " This problem is unconstrained.\n"
     ]
    },
    {
     "name": "stdout",
     "output_type": "stream",
     "text": [
      "\n",
      "At iterate    5    f=  2.48866D+00    |proj g|=  1.18152D-02\n",
      "\n",
      "At iterate   10    f=  2.46093D+00    |proj g|=  1.68399D-03\n"
     ]
    },
    {
     "name": "stderr",
     "output_type": "stream",
     "text": [
      "\n",
      " Warning:  more than 10 function and gradient\n",
      "   evaluations in the last line search.  Termination\n",
      "   may possibly be caused by a bad search direction.\n"
     ]
    },
    {
     "name": "stdout",
     "output_type": "stream",
     "text": [
      "\n",
      "At iterate   15    f=  2.45778D+00    |proj g|=  2.16988D-03\n",
      "\n",
      "           * * *\n",
      "\n",
      "Tit   = total number of iterations\n",
      "Tnf   = total number of function evaluations\n",
      "Tnint = total number of segments explored during Cauchy searches\n",
      "Skip  = number of BFGS updates skipped\n",
      "Nact  = number of active bounds at final generalized Cauchy point\n",
      "Projg = norm of the final projected gradient\n",
      "F     = final function value\n",
      "\n",
      "           * * *\n",
      "\n",
      "   N    Tit     Tnf  Tnint  Skip  Nact     Projg        F\n",
      "    4     15     31      1     0     0   2.170D-03   2.458D+00\n",
      "  F =   2.4577789980771376     \n",
      "\n",
      "CONVERGENCE: REL_REDUCTION_OF_F_<=_FACTR*EPSMCH             \n",
      "RUNNING THE L-BFGS-B CODE\n",
      "\n",
      "           * * *\n",
      "\n",
      "Machine precision = 2.220D-16\n",
      " N =            4     M =           10\n",
      "\n",
      "At X0         0 variables are exactly at the bounds\n",
      "\n",
      "At iterate    0    f=  2.75158D+00    |proj g|=  9.79797D-02\n"
     ]
    },
    {
     "name": "stderr",
     "output_type": "stream",
     "text": [
      " This problem is unconstrained.\n"
     ]
    },
    {
     "name": "stdout",
     "output_type": "stream",
     "text": [
      "\n",
      "At iterate    5    f=  2.48669D+00    |proj g|=  1.25009D-02\n",
      "\n",
      "At iterate   10    f=  2.46088D+00    |proj g|=  5.66351D-03\n",
      "\n",
      "At iterate   15    f=  2.45763D+00    |proj g|=  2.46866D-03\n"
     ]
    },
    {
     "name": "stderr",
     "output_type": "stream",
     "text": [
      "\n",
      " Warning:  more than 10 function and gradient\n",
      "   evaluations in the last line search.  Termination\n",
      "   may possibly be caused by a bad search direction.\n"
     ]
    },
    {
     "name": "stdout",
     "output_type": "stream",
     "text": [
      "\n",
      "           * * *\n",
      "\n",
      "Tit   = total number of iterations\n",
      "Tnf   = total number of function evaluations\n",
      "Tnint = total number of segments explored during Cauchy searches\n",
      "Skip  = number of BFGS updates skipped\n",
      "Nact  = number of active bounds at final generalized Cauchy point\n",
      "Projg = norm of the final projected gradient\n",
      "F     = final function value\n",
      "\n",
      "           * * *\n",
      "\n",
      "   N    Tit     Tnf  Tnint  Skip  Nact     Projg        F\n",
      "    4     16     34      1     0     0   2.041D-03   2.458D+00\n",
      "  F =   2.4576291136932786     \n",
      "\n",
      "CONVERGENCE: REL_REDUCTION_OF_F_<=_FACTR*EPSMCH             \n",
      "RUNNING THE L-BFGS-B CODE\n",
      "\n",
      "           * * *\n",
      "\n",
      "Machine precision = 2.220D-16\n",
      " N =            4     M =           10\n",
      "\n",
      "At X0         0 variables are exactly at the bounds\n",
      "\n",
      "At iterate    0    f=  2.75151D+00    |proj g|=  9.80067D-02\n",
      "\n",
      "At iterate    5    f=  2.50009D+00    |proj g|=  2.02084D-02\n"
     ]
    },
    {
     "name": "stderr",
     "output_type": "stream",
     "text": [
      " This problem is unconstrained.\n"
     ]
    },
    {
     "name": "stdout",
     "output_type": "stream",
     "text": [
      "\n",
      "At iterate   10    f=  2.46412D+00    |proj g|=  4.03215D-03\n",
      "\n",
      "At iterate   15    f=  2.45820D+00    |proj g|=  9.34820D-03\n",
      "\n",
      "           * * *\n",
      "\n",
      "Tit   = total number of iterations\n",
      "Tnf   = total number of function evaluations\n",
      "Tnint = total number of segments explored during Cauchy searches\n",
      "Skip  = number of BFGS updates skipped\n",
      "Nact  = number of active bounds at final generalized Cauchy point\n",
      "Projg = norm of the final projected gradient\n",
      "F     = final function value\n",
      "\n",
      "           * * *\n",
      "\n",
      "   N    Tit     Tnf  Tnint  Skip  Nact     Projg        F\n",
      "    4     17     27      1     0     0   5.676D-03   2.458D+00\n",
      "  F =   2.4578884608248348     \n",
      "\n",
      "CONVERGENCE: REL_REDUCTION_OF_F_<=_FACTR*EPSMCH             \n",
      "RUNNING THE L-BFGS-B CODE\n",
      "\n",
      "           * * *\n",
      "\n",
      "Machine precision = 2.220D-16\n",
      " N =            4     M =           10\n",
      "\n",
      "At X0         0 variables are exactly at the bounds\n",
      "\n",
      "At iterate    0    f=  2.75137D+00    |proj g|=  9.79972D-02\n",
      "\n",
      "At iterate    5    f=  2.50006D+00    |proj g|=  1.84773D-02\n"
     ]
    },
    {
     "name": "stderr",
     "output_type": "stream",
     "text": [
      " This problem is unconstrained.\n"
     ]
    },
    {
     "name": "stdout",
     "output_type": "stream",
     "text": [
      "\n",
      "At iterate   10    f=  2.46409D+00    |proj g|=  5.10781D-03\n",
      "\n",
      "At iterate   15    f=  2.45756D+00    |proj g|=  1.43233D-02\n",
      "  ys=-3.803E-05  -gs= 5.707E-05 BFGS update SKIPPED\n",
      "\n",
      "           * * *\n",
      "\n",
      "Tit   = total number of iterations\n",
      "Tnf   = total number of function evaluations\n",
      "Tnint = total number of segments explored during Cauchy searches\n",
      "Skip  = number of BFGS updates skipped\n",
      "Nact  = number of active bounds at final generalized Cauchy point\n",
      "Projg = norm of the final projected gradient\n",
      "F     = final function value\n",
      "\n",
      "           * * *\n",
      "\n",
      "   N    Tit     Tnf  Tnint  Skip  Nact     Projg        F\n",
      "    4     18     45      1     1     0   5.293D-03   2.457D+00\n",
      "  F =   2.4574882857628038     \n",
      "\n",
      "CONVERGENCE: REL_REDUCTION_OF_F_<=_FACTR*EPSMCH             \n"
     ]
    },
    {
     "name": "stderr",
     "output_type": "stream",
     "text": [
      "\n",
      " Warning:  more than 10 function and gradient\n",
      "   evaluations in the last line search.  Termination\n",
      "   may possibly be caused by a bad search direction.\n",
      " This problem is unconstrained.\n"
     ]
    },
    {
     "name": "stdout",
     "output_type": "stream",
     "text": [
      "RUNNING THE L-BFGS-B CODE\n",
      "\n",
      "           * * *\n",
      "\n",
      "Machine precision = 2.220D-16\n",
      " N =            4     M =           10\n",
      "\n",
      "At X0         0 variables are exactly at the bounds\n",
      "\n",
      "At iterate    0    f=  2.75132D+00    |proj g|=  9.79724D-02\n",
      "\n",
      "At iterate    5    f=  2.48619D+00    |proj g|=  2.37399D-02\n",
      "\n",
      "At iterate   10    f=  2.46066D+00    |proj g|=  8.55838D-04\n",
      "\n",
      "At iterate   15    f=  2.45758D+00    |proj g|=  5.23779D-03\n"
     ]
    },
    {
     "name": "stderr",
     "output_type": "stream",
     "text": [
      "\n",
      " Bad direction in the line search;\n",
      "   refresh the lbfgs memory and restart the iteration.\n"
     ]
    },
    {
     "name": "stdout",
     "output_type": "stream",
     "text": [
      "\n",
      "At iterate   20    f=  2.45753D+00    |proj g|=  1.40619D-04\n",
      "\n",
      "           * * *\n",
      "\n",
      "Tit   = total number of iterations\n",
      "Tnf   = total number of function evaluations\n",
      "Tnint = total number of segments explored during Cauchy searches\n",
      "Skip  = number of BFGS updates skipped\n",
      "Nact  = number of active bounds at final generalized Cauchy point\n",
      "Projg = norm of the final projected gradient\n",
      "F     = final function value\n",
      "\n",
      "           * * *\n",
      "\n",
      "   N    Tit     Tnf  Tnint  Skip  Nact     Projg        F\n",
      "    4     20     53      2     0     0   1.406D-04   2.458D+00\n",
      "  F =   2.4575302173067768     \n",
      "\n",
      "CONVERGENCE: REL_REDUCTION_OF_F_<=_FACTR*EPSMCH             \n",
      "RUNNING THE L-BFGS-B CODE\n",
      "\n",
      "           * * *\n",
      "\n",
      "Machine precision = 2.220D-16\n",
      " N =            4     M =           10\n",
      "\n",
      "At X0         0 variables are exactly at the bounds\n",
      "\n",
      "At iterate    0    f=  2.75139D+00    |proj g|=  9.79299D-02\n",
      "\n",
      "At iterate    5    f=  2.50000D+00    |proj g|=  2.10707D-02\n"
     ]
    },
    {
     "name": "stderr",
     "output_type": "stream",
     "text": [
      " This problem is unconstrained.\n"
     ]
    },
    {
     "name": "stdout",
     "output_type": "stream",
     "text": [
      "\n",
      "At iterate   10    f=  2.46411D+00    |proj g|=  3.29581D-03\n",
      "\n",
      "At iterate   15    f=  2.45823D+00    |proj g|=  1.84152D-02\n"
     ]
    },
    {
     "name": "stderr",
     "output_type": "stream",
     "text": [
      "\n",
      " Warning:  more than 10 function and gradient\n",
      "   evaluations in the last line search.  Termination\n",
      "   may possibly be caused by a bad search direction.\n"
     ]
    },
    {
     "name": "stdout",
     "output_type": "stream",
     "text": [
      "\n",
      "           * * *\n",
      "\n",
      "Tit   = total number of iterations\n",
      "Tnf   = total number of function evaluations\n",
      "Tnint = total number of segments explored during Cauchy searches\n",
      "Skip  = number of BFGS updates skipped\n",
      "Nact  = number of active bounds at final generalized Cauchy point\n",
      "Projg = norm of the final projected gradient\n",
      "F     = final function value\n",
      "\n",
      "           * * *\n",
      "\n",
      "   N    Tit     Tnf  Tnint  Skip  Nact     Projg        F\n",
      "    4     18     36      1     0     0   1.634D-02   2.458D+00\n",
      "  F =   2.4575503706952535     \n",
      "\n",
      "CONVERGENCE: REL_REDUCTION_OF_F_<=_FACTR*EPSMCH             \n",
      "RUNNING THE L-BFGS-B CODE\n",
      "\n",
      "           * * *\n",
      "\n",
      "Machine precision = 2.220D-16\n",
      " N =            4     M =           10\n",
      "\n",
      "At X0         0 variables are exactly at the bounds\n",
      "\n",
      "At iterate    0    f=  2.75121D+00    |proj g|=  9.79923D-02\n",
      "\n",
      "At iterate    5    f=  2.49997D+00    |proj g|=  2.02648D-02\n"
     ]
    },
    {
     "name": "stderr",
     "output_type": "stream",
     "text": [
      " This problem is unconstrained.\n"
     ]
    },
    {
     "name": "stdout",
     "output_type": "stream",
     "text": [
      "\n",
      "At iterate   10    f=  2.46401D+00    |proj g|=  4.03228D-03\n",
      "\n",
      "At iterate   15    f=  2.45810D+00    |proj g|=  6.47337D-03\n",
      "  ys=-1.003E-03  -gs= 1.448E-04 BFGS update SKIPPED\n",
      "\n",
      "           * * *\n",
      "\n",
      "Tit   = total number of iterations\n",
      "Tnf   = total number of function evaluations\n",
      "Tnint = total number of segments explored during Cauchy searches\n",
      "Skip  = number of BFGS updates skipped\n",
      "Nact  = number of active bounds at final generalized Cauchy point\n",
      "Projg = norm of the final projected gradient\n",
      "F     = final function value\n",
      "\n",
      "           * * *\n",
      "\n",
      "   N    Tit     Tnf  Tnint  Skip  Nact     Projg        F\n",
      "    4     19     43      1     1     0   1.238D-02   2.458D+00\n",
      "  F =   2.4575879815409882     \n",
      "\n",
      "CONVERGENCE: REL_REDUCTION_OF_F_<=_FACTR*EPSMCH             \n"
     ]
    },
    {
     "name": "stderr",
     "output_type": "stream",
     "text": [
      "\n",
      " Warning:  more than 10 function and gradient\n",
      "   evaluations in the last line search.  Termination\n",
      "   may possibly be caused by a bad search direction.\n"
     ]
    },
    {
     "name": "stdout",
     "output_type": "stream",
     "text": [
      "RUNNING THE L-BFGS-B CODE\n",
      "\n",
      "           * * *\n",
      "\n",
      "Machine precision = 2.220D-16\n",
      " N =            4     M =           10\n",
      "\n",
      "At X0         0 variables are exactly at the bounds\n",
      "\n",
      "At iterate    0    f=  2.75123D+00    |proj g|=  9.79703D-02\n",
      "\n",
      "At iterate    5    f=  2.49986D+00    |proj g|=  1.85641D-02\n"
     ]
    },
    {
     "name": "stderr",
     "output_type": "stream",
     "text": [
      " This problem is unconstrained.\n"
     ]
    },
    {
     "name": "stdout",
     "output_type": "stream",
     "text": [
      "\n",
      "At iterate   10    f=  2.46389D+00    |proj g|=  5.06336D-03\n",
      "\n",
      "At iterate   15    f=  2.45767D+00    |proj g|=  2.68206D-02\n",
      "  ys=-1.831E-05  -gs= 3.154E-06 BFGS update SKIPPED\n",
      "\n",
      "At iterate   20    f=  2.45726D+00    |proj g|=  2.99370D-03\n",
      "\n",
      "           * * *\n",
      "\n",
      "Tit   = total number of iterations\n",
      "Tnf   = total number of function evaluations\n",
      "Tnint = total number of segments explored during Cauchy searches\n",
      "Skip  = number of BFGS updates skipped\n",
      "Nact  = number of active bounds at final generalized Cauchy point\n",
      "Projg = norm of the final projected gradient\n",
      "F     = final function value\n",
      "\n",
      "           * * *\n",
      "\n",
      "   N    Tit     Tnf  Tnint  Skip  Nact     Projg        F\n",
      "    4     23     47      1     1     0   5.512D-04   2.457D+00\n",
      "  F =   2.4572563106507745     \n",
      "\n",
      "CONVERGENCE: REL_REDUCTION_OF_F_<=_FACTR*EPSMCH             \n",
      "RUNNING THE L-BFGS-B CODE\n",
      "\n",
      "           * * *\n",
      "\n",
      "Machine precision = 2.220D-16\n",
      " N =            4     M =           10\n",
      "\n",
      "At X0         0 variables are exactly at the bounds\n",
      "\n",
      "At iterate    0    f=  2.75121D+00    |proj g|=  9.79577D-02\n",
      "\n",
      "At iterate    5    f=  2.49981D+00    |proj g|=  2.02376D-02\n"
     ]
    },
    {
     "name": "stderr",
     "output_type": "stream",
     "text": [
      " This problem is unconstrained.\n"
     ]
    },
    {
     "name": "stdout",
     "output_type": "stream",
     "text": [
      "\n",
      "At iterate   10    f=  2.46378D+00    |proj g|=  4.04225D-03\n",
      "\n",
      "At iterate   15    f=  2.45799D+00    |proj g|=  4.39413D-03\n",
      "\n",
      "At iterate   20    f=  2.45733D+00    |proj g|=  2.86774D-03\n",
      "\n",
      "           * * *\n",
      "\n",
      "Tit   = total number of iterations\n",
      "Tnf   = total number of function evaluations\n",
      "Tnint = total number of segments explored during Cauchy searches\n",
      "Skip  = number of BFGS updates skipped\n",
      "Nact  = number of active bounds at final generalized Cauchy point\n",
      "Projg = norm of the final projected gradient\n",
      "F     = final function value\n",
      "\n",
      "           * * *\n",
      "\n",
      "   N    Tit     Tnf  Tnint  Skip  Nact     Projg        F\n",
      "    4     20     35      1     0     0   2.868D-03   2.457D+00\n",
      "  F =   2.4573309388923277     \n",
      "\n",
      "CONVERGENCE: REL_REDUCTION_OF_F_<=_FACTR*EPSMCH             \n",
      "RUNNING THE L-BFGS-B CODE\n",
      "\n",
      "           * * *\n",
      "\n",
      "Machine precision = 2.220D-16\n",
      " N =            4     M =           10\n",
      "\n",
      "At X0         0 variables are exactly at the bounds\n",
      "\n",
      "At iterate    0    f=  2.75104D+00    |proj g|=  9.80267D-02\n",
      "\n",
      "At iterate    5    f=  2.48704D+00    |proj g|=  3.08945D-02\n"
     ]
    },
    {
     "name": "stderr",
     "output_type": "stream",
     "text": [
      " This problem is unconstrained.\n"
     ]
    },
    {
     "name": "stdout",
     "output_type": "stream",
     "text": [
      "\n",
      "At iterate   10    f=  2.46037D+00    |proj g|=  1.36769D-03\n",
      "\n",
      "At iterate   15    f=  2.45764D+00    |proj g|=  5.69587D-03\n",
      "\n",
      "           * * *\n",
      "\n",
      "Tit   = total number of iterations\n",
      "Tnf   = total number of function evaluations\n",
      "Tnint = total number of segments explored during Cauchy searches\n",
      "Skip  = number of BFGS updates skipped\n",
      "Nact  = number of active bounds at final generalized Cauchy point\n",
      "Projg = norm of the final projected gradient\n",
      "F     = final function value\n",
      "\n",
      "           * * *\n",
      "\n",
      "   N    Tit     Tnf  Tnint  Skip  Nact     Projg        F\n",
      "    4     15     29      1     0     0   5.696D-03   2.458D+00\n",
      "  F =   2.4576371565438078     \n",
      "\n",
      "CONVERGENCE: REL_REDUCTION_OF_F_<=_FACTR*EPSMCH             \n"
     ]
    },
    {
     "name": "stderr",
     "output_type": "stream",
     "text": [
      "\n",
      " Warning:  more than 10 function and gradient\n",
      "   evaluations in the last line search.  Termination\n",
      "   may possibly be caused by a bad search direction.\n"
     ]
    },
    {
     "name": "stdout",
     "output_type": "stream",
     "text": [
      "RUNNING THE L-BFGS-B CODE\n",
      "\n",
      "           * * *\n",
      "\n",
      "Machine precision = 2.220D-16\n",
      " N =            4     M =           10\n",
      "\n",
      "At X0         0 variables are exactly at the bounds\n",
      "\n",
      "At iterate    0    f=  2.75098D+00    |proj g|=  9.80505D-02\n",
      "\n",
      "At iterate    5    f=  2.49966D+00    |proj g|=  1.94232D-02\n"
     ]
    },
    {
     "name": "stderr",
     "output_type": "stream",
     "text": [
      " This problem is unconstrained.\n"
     ]
    },
    {
     "name": "stdout",
     "output_type": "stream",
     "text": [
      "\n",
      "At iterate   10    f=  2.46362D+00    |proj g|=  4.65145D-03\n",
      "\n",
      "At iterate   15    f=  2.45773D+00    |proj g|=  1.11791D-02\n",
      "\n",
      "At iterate   20    f=  2.45725D+00    |proj g|=  3.02894D-03\n",
      "\n",
      "           * * *\n",
      "\n",
      "Tit   = total number of iterations\n",
      "Tnf   = total number of function evaluations\n",
      "Tnint = total number of segments explored during Cauchy searches\n",
      "Skip  = number of BFGS updates skipped\n",
      "Nact  = number of active bounds at final generalized Cauchy point\n",
      "Projg = norm of the final projected gradient\n",
      "F     = final function value\n",
      "\n",
      "           * * *\n",
      "\n",
      "   N    Tit     Tnf  Tnint  Skip  Nact     Projg        F\n",
      "    4     22     42      1     0     0   1.387D-03   2.457D+00\n",
      "  F =   2.4572344504499370     \n",
      "\n",
      "CONVERGENCE: REL_REDUCTION_OF_F_<=_FACTR*EPSMCH             \n"
     ]
    },
    {
     "name": "stderr",
     "output_type": "stream",
     "text": [
      " This problem is unconstrained.\n"
     ]
    },
    {
     "name": "stdout",
     "output_type": "stream",
     "text": [
      "RUNNING THE L-BFGS-B CODE\n",
      "\n",
      "           * * *\n",
      "\n",
      "Machine precision = 2.220D-16\n",
      " N =            4     M =           10\n",
      "\n",
      "At X0         0 variables are exactly at the bounds\n",
      "\n",
      "At iterate    0    f=  2.75099D+00    |proj g|=  9.80599D-02\n",
      "\n",
      "At iterate    5    f=  2.48712D+00    |proj g|=  3.06747D-02\n",
      "\n",
      "At iterate   10    f=  2.46029D+00    |proj g|=  1.19576D-03\n",
      "\n",
      "At iterate   15    f=  2.45765D+00    |proj g|=  2.47356D-03\n",
      "\n",
      "At iterate   20    f=  2.45755D+00    |proj g|=  1.54748D-03\n",
      "\n",
      "At iterate   25    f=  2.45733D+00    |proj g|=  9.17238D-03\n",
      "\n",
      "           * * *\n",
      "\n",
      "Tit   = total number of iterations\n",
      "Tnf   = total number of function evaluations\n",
      "Tnint = total number of segments explored during Cauchy searches\n",
      "Skip  = number of BFGS updates skipped\n",
      "Nact  = number of active bounds at final generalized Cauchy point\n",
      "Projg = norm of the final projected gradient\n",
      "F     = final function value\n",
      "\n",
      "           * * *\n",
      "\n",
      "   N    Tit     Tnf  Tnint  Skip  Nact     Projg        F\n",
      "    4     28     57      1     0     0   7.897D-03   2.457D+00\n",
      "  F =   2.4572637707757434     \n",
      "\n",
      "CONVERGENCE: REL_REDUCTION_OF_F_<=_FACTR*EPSMCH             \n"
     ]
    },
    {
     "name": "stderr",
     "output_type": "stream",
     "text": [
      "\n",
      " Warning:  more than 10 function and gradient\n",
      "   evaluations in the last line search.  Termination\n",
      "   may possibly be caused by a bad search direction.\n"
     ]
    },
    {
     "name": "stdout",
     "output_type": "stream",
     "text": [
      "RUNNING THE L-BFGS-B CODE\n",
      "\n",
      "           * * *\n",
      "\n",
      "Machine precision = 2.220D-16\n",
      " N =            4     M =           10\n",
      "\n",
      "At X0         0 variables are exactly at the bounds\n",
      "\n",
      "At iterate    0    f=  2.75096D+00    |proj g|=  9.80548D-02\n"
     ]
    },
    {
     "name": "stderr",
     "output_type": "stream",
     "text": [
      " This problem is unconstrained.\n"
     ]
    },
    {
     "name": "stdout",
     "output_type": "stream",
     "text": [
      "\n",
      "At iterate    5    f=  2.48728D+00    |proj g|=  3.18696D-02\n",
      "\n",
      "At iterate   10    f=  2.46037D+00    |proj g|=  1.33105D-03\n",
      "\n",
      "At iterate   15    f=  2.45750D+00    |proj g|=  2.60485D-03\n",
      "\n",
      "At iterate   20    f=  2.45742D+00    |proj g|=  3.42508D-03\n",
      "\n",
      "At iterate   25    f=  2.45739D+00    |proj g|=  3.43774D-04\n",
      "\n",
      "           * * *\n",
      "\n",
      "Tit   = total number of iterations\n",
      "Tnf   = total number of function evaluations\n",
      "Tnint = total number of segments explored during Cauchy searches\n",
      "Skip  = number of BFGS updates skipped\n",
      "Nact  = number of active bounds at final generalized Cauchy point\n",
      "Projg = norm of the final projected gradient\n",
      "F     = final function value\n",
      "\n",
      "           * * *\n",
      "\n",
      "   N    Tit     Tnf  Tnint  Skip  Nact     Projg        F\n",
      "    4     27     49      1     0     0   2.650D-04   2.457D+00\n",
      "  F =   2.4573923520551562     \n",
      "\n",
      "CONVERGENCE: REL_REDUCTION_OF_F_<=_FACTR*EPSMCH             \n",
      "RUNNING THE L-BFGS-B CODE\n",
      "\n",
      "           * * *\n",
      "\n",
      "Machine precision = 2.220D-16\n",
      " N =            4     M =           10\n",
      "\n",
      "At X0         0 variables are exactly at the bounds\n",
      "\n",
      "At iterate    0    f=  2.75094D+00    |proj g|=  9.80463D-02\n",
      "\n",
      "At iterate    5    f=  2.48701D+00    |proj g|=  2.97106D-02\n"
     ]
    },
    {
     "name": "stderr",
     "output_type": "stream",
     "text": [
      " This problem is unconstrained.\n"
     ]
    },
    {
     "name": "stdout",
     "output_type": "stream",
     "text": [
      "\n",
      "At iterate   10    f=  2.46028D+00    |proj g|=  1.10129D-03\n",
      "\n",
      "At iterate   15    f=  2.45739D+00    |proj g|=  1.49456D-02\n"
     ]
    },
    {
     "name": "stderr",
     "output_type": "stream",
     "text": [
      "\n",
      " Warning:  more than 10 function and gradient\n",
      "   evaluations in the last line search.  Termination\n",
      "   may possibly be caused by a bad search direction.\n"
     ]
    },
    {
     "name": "stdout",
     "output_type": "stream",
     "text": [
      "\n",
      "           * * *\n",
      "\n",
      "Tit   = total number of iterations\n",
      "Tnf   = total number of function evaluations\n",
      "Tnint = total number of segments explored during Cauchy searches\n",
      "Skip  = number of BFGS updates skipped\n",
      "Nact  = number of active bounds at final generalized Cauchy point\n",
      "Projg = norm of the final projected gradient\n",
      "F     = final function value\n",
      "\n",
      "           * * *\n",
      "\n",
      "   N    Tit     Tnf  Tnint  Skip  Nact     Projg        F\n",
      "    4     16     36      1     0     0   1.494D-02   2.457D+00\n",
      "  F =   2.4573941492750841     \n",
      "\n",
      "CONVERGENCE: REL_REDUCTION_OF_F_<=_FACTR*EPSMCH             \n"
     ]
    },
    {
     "name": "stderr",
     "output_type": "stream",
     "text": [
      " This problem is unconstrained.\n"
     ]
    },
    {
     "name": "stdout",
     "output_type": "stream",
     "text": [
      "RUNNING THE L-BFGS-B CODE\n",
      "\n",
      "           * * *\n",
      "\n",
      "Machine precision = 2.220D-16\n",
      " N =            4     M =           10\n",
      "\n",
      "At X0         0 variables are exactly at the bounds\n",
      "\n",
      "At iterate    0    f=  2.75094D+00    |proj g|=  9.80521D-02\n",
      "\n",
      "At iterate    5    f=  2.48726D+00    |proj g|=  3.24223D-02\n",
      "\n",
      "At iterate   10    f=  2.46031D+00    |proj g|=  1.40520D-03\n",
      "\n",
      "At iterate   15    f=  2.45738D+00    |proj g|=  4.34514D-03\n"
     ]
    },
    {
     "name": "stderr",
     "output_type": "stream",
     "text": [
      "\n",
      " Bad direction in the line search;\n",
      "   refresh the lbfgs memory and restart the iteration.\n"
     ]
    },
    {
     "name": "stdout",
     "output_type": "stream",
     "text": [
      "\n",
      "At iterate   20    f=  2.45731D+00    |proj g|=  1.83097D-04\n",
      "\n",
      "           * * *\n",
      "\n",
      "Tit   = total number of iterations\n",
      "Tnf   = total number of function evaluations\n",
      "Tnint = total number of segments explored during Cauchy searches\n",
      "Skip  = number of BFGS updates skipped\n",
      "Nact  = number of active bounds at final generalized Cauchy point\n",
      "Projg = norm of the final projected gradient\n",
      "F     = final function value\n",
      "\n",
      "           * * *\n",
      "\n",
      "   N    Tit     Tnf  Tnint  Skip  Nact     Projg        F\n",
      "    4     21     47      2     0     0   1.585D-04   2.457D+00\n",
      "  F =   2.4573062114493136     \n",
      "\n",
      "CONVERGENCE: REL_REDUCTION_OF_F_<=_FACTR*EPSMCH             \n"
     ]
    }
   ],
   "source": [
    "# num_categories = 60\n",
    "# n = num_categories\n",
    "\n",
    "# all_trail_probs = np.zeros((n, n, n))\n",
    "# num_visited = np.zeros(num_categories)\n",
    "\n",
    "# df = pd.read_csv('energydata_complete.csv')\n",
    "# # consider one column first\n",
    "# #df = df['RH_5']\n",
    "# #xs = pd.cut(df, bins=num_categories, labels=False)\n",
    "# res = pd.qcut(df['RH_5'],n, labels=False, retbins=True, precision=3, duplicates='raise')\n",
    "# # do equal-depth p\n",
    "# xs = np.array(list(res[0]))\n",
    "# bins = res[1]\n",
    "\n",
    "\n",
    "predict_sarima = []\n",
    "for i in range(100):\n",
    "    subseq = xs[i:i+window]\n",
    "    df = pd.DataFrame(subseq)\n",
    "\n",
    "    mod_sarimax = sm.tsa.SARIMAX(subseq, order=(1,1,1),\n",
    "                                seasonal_order=(0,1,1,4))\n",
    "    res_sarimax = mod_sarimax.fit()\n",
    "\n",
    "    #res = mod_sarimax.filter(res_sarimax.params)\n",
    "\n",
    "    # Show the summary of results\n",
    "    pred = res_sarimax.get_prediction(window,window).predicted_mean\n",
    "    \n",
    "    predict_sarima.append(pred)\n",
    "\n"
   ]
  },
  {
   "cell_type": "code",
   "execution_count": 70,
   "metadata": {},
   "outputs": [
    {
     "ename": "NameError",
     "evalue": "name 'res' is not defined",
     "output_type": "error",
     "traceback": [
      "\u001b[0;31m---------------------------------------------------------------------------\u001b[0m",
      "\u001b[0;31mNameError\u001b[0m                                 Traceback (most recent call last)",
      "Cell \u001b[0;32mIn[70], line 1\u001b[0m\n\u001b[0;32m----> 1\u001b[0m \u001b[43mres\u001b[49m\u001b[38;5;241m.\u001b[39mget_prediction(\u001b[38;5;241m18000\u001b[39m)\u001b[38;5;241m.\u001b[39mpredicted_mean\n",
      "\u001b[0;31mNameError\u001b[0m: name 'res' is not defined"
     ]
    }
   ],
   "source": [
    "res.get_prediction(18000).predicted_mean"
   ]
  },
  {
   "cell_type": "code",
   "execution_count": 121,
   "metadata": {},
   "outputs": [
    {
     "data": {
      "text/plain": [
       "17.078359221910237"
      ]
     },
     "execution_count": 121,
     "metadata": {},
     "output_type": "execute_result"
    }
   ],
   "source": [
    "predict_sarima = np.array(predict_sarima).squeeze()\n",
    "abs(predict_sarima - xs[window : window+10]).mean()"
   ]
  },
  {
   "cell_type": "code",
   "execution_count": 116,
   "metadata": {},
   "outputs": [
    {
     "data": {
      "text/plain": [
       "15.71816569546491"
      ]
     },
     "execution_count": 116,
     "metadata": {},
     "output_type": "execute_result"
    }
   ],
   "source": [
    "abs(xs - pred.astype(int)).mean()\n"
   ]
  },
  {
   "cell_type": "code",
   "execution_count": 1,
   "metadata": {},
   "outputs": [
    {
     "ename": "NameError",
     "evalue": "name 'xs' is not defined",
     "output_type": "error",
     "traceback": [
      "\u001b[0;31m---------------------------------------------------------------------------\u001b[0m",
      "\u001b[0;31mNameError\u001b[0m                                 Traceback (most recent call last)",
      "Cell \u001b[0;32mIn[1], line 1\u001b[0m\n\u001b[0;32m----> 1\u001b[0m \u001b[43mxs\u001b[49m[window: window \u001b[38;5;241m+\u001b[39m \u001b[38;5;241m100\u001b[39m]\n\u001b[1;32m      2\u001b[0m \u001b[38;5;28mprint\u001b[39m(predict_sarima)\n",
      "\u001b[0;31mNameError\u001b[0m: name 'xs' is not defined"
     ]
    }
   ],
   "source": [
    "xs[window: window + 100]\n",
    "print(predict_sarima)"
   ]
  },
  {
   "cell_type": "code",
   "execution_count": 113,
   "metadata": {},
   "outputs": [
    {
     "name": "stdout",
     "output_type": "stream",
     "text": [
      "0.09\n"
     ]
    }
   ],
   "source": [
    "predict_sarima = np.array(predict_sarima).astype(int).reshape(1,-1)\n",
    "print((predict_sarima == xs[window: window + 100]).astype(int).mean())"
   ]
  },
  {
   "cell_type": "code",
   "execution_count": 60,
   "metadata": {},
   "outputs": [
    {
     "name": "stdout",
     "output_type": "stream",
     "text": [
      "Collecting hmmlearn\n",
      "  Downloading hmmlearn-0.3.2-cp38-cp38-macosx_10_9_universal2.whl.metadata (2.9 kB)\n",
      "Requirement already satisfied: numpy>=1.10 in /Users/hayashimiyako/Desktop/DirectedStudy/tensorflow-test/env/lib/python3.8/site-packages (from hmmlearn) (1.23.2)\n",
      "Requirement already satisfied: scikit-learn!=0.22.0,>=0.16 in /Users/hayashimiyako/Desktop/DirectedStudy/tensorflow-test/env/lib/python3.8/site-packages (from hmmlearn) (1.3.0)\n",
      "Requirement already satisfied: scipy>=0.19 in /Users/hayashimiyako/Desktop/DirectedStudy/tensorflow-test/env/lib/python3.8/site-packages (from hmmlearn) (1.10.1)\n",
      "Requirement already satisfied: joblib>=1.1.1 in /Users/hayashimiyako/Desktop/DirectedStudy/tensorflow-test/env/lib/python3.8/site-packages (from scikit-learn!=0.22.0,>=0.16->hmmlearn) (1.2.0)\n",
      "Requirement already satisfied: threadpoolctl>=2.0.0 in /Users/hayashimiyako/Desktop/DirectedStudy/tensorflow-test/env/lib/python3.8/site-packages (from scikit-learn!=0.22.0,>=0.16->hmmlearn) (2.2.0)\n",
      "Downloading hmmlearn-0.3.2-cp38-cp38-macosx_10_9_universal2.whl (192 kB)\n",
      "\u001b[2K   \u001b[90m━━━━━━━━━━━━━━━━━━━━━━━━━━━━━━━━━━━━━━━━\u001b[0m \u001b[32m192.3/192.3 kB\u001b[0m \u001b[31m5.8 MB/s\u001b[0m eta \u001b[36m0:00:00\u001b[0m\n",
      "\u001b[?25hInstalling collected packages: hmmlearn\n",
      "Successfully installed hmmlearn-0.3.2\n",
      "Note: you may need to restart the kernel to use updated packages.\n"
     ]
    }
   ],
   "source": [
    "%pip install hmmlearn"
   ]
  },
  {
   "cell_type": "code",
   "execution_count": 69,
   "metadata": {},
   "outputs": [],
   "source": [
    "import numpy as np\n",
    "from hmmlearn import hmm\n",
    "\n",
    "\n",
    "remodel = hmm.CategoricalHMM(n_components=5)\n",
    "remodel.fit(xs.reshape(-1,1))\n",
    "Z2 = remodel.predict(xs.reshape(-1,1))"
   ]
  },
  {
   "cell_type": "code",
   "execution_count": 73,
   "metadata": {},
   "outputs": [
    {
     "name": "stdout",
     "output_type": "stream",
     "text": [
      "26.840833333333332\n"
     ]
    }
   ],
   "source": [
    "print(abs(Z2-xs).mean())"
   ]
  },
  {
   "cell_type": "code",
   "execution_count": null,
   "metadata": {},
   "outputs": [],
   "source": []
  }
 ],
 "metadata": {
  "kernelspec": {
   "display_name": "Python 3",
   "language": "python",
   "name": "python3"
  },
  "language_info": {
   "codemirror_mode": {
    "name": "ipython",
    "version": 3
   },
   "file_extension": ".py",
   "mimetype": "text/x-python",
   "name": "python",
   "nbconvert_exporter": "python",
   "pygments_lexer": "ipython3",
   "version": "3.8.16"
  }
 },
 "nbformat": 4,
 "nbformat_minor": 2
}
