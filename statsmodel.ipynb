{
 "cells": [
  {
   "cell_type": "code",
   "execution_count": 3,
   "metadata": {},
   "outputs": [
    {
     "name": "stdout",
     "output_type": "stream",
     "text": [
      "Requirement already satisfied: statsmodels in /Users/hayashimiyako/opt/anaconda3/lib/python3.9/site-packages (0.14.0)\n",
      "Requirement already satisfied: numpy>=1.18 in /Users/hayashimiyako/opt/anaconda3/lib/python3.9/site-packages (from statsmodels) (1.26.0)\n",
      "Requirement already satisfied: scipy!=1.9.2,>=1.4 in /Users/hayashimiyako/opt/anaconda3/lib/python3.9/site-packages (from statsmodels) (1.11.3)\n",
      "Requirement already satisfied: pandas>=1.0 in /Users/hayashimiyako/opt/anaconda3/lib/python3.9/site-packages (from statsmodels) (1.4.4)\n",
      "Requirement already satisfied: patsy>=0.5.2 in /Users/hayashimiyako/opt/anaconda3/lib/python3.9/site-packages (from statsmodels) (0.5.3)\n",
      "Requirement already satisfied: packaging>=21.3 in /Users/hayashimiyako/opt/anaconda3/lib/python3.9/site-packages (from statsmodels) (23.1)\n",
      "Requirement already satisfied: python-dateutil>=2.8.1 in /Users/hayashimiyako/opt/anaconda3/lib/python3.9/site-packages (from pandas>=1.0->statsmodels) (2.8.2)\n",
      "Requirement already satisfied: pytz>=2020.1 in /Users/hayashimiyako/opt/anaconda3/lib/python3.9/site-packages (from pandas>=1.0->statsmodels) (2023.3.post1)\n",
      "Requirement already satisfied: six in /Users/hayashimiyako/opt/anaconda3/lib/python3.9/site-packages (from patsy>=0.5.2->statsmodels) (1.16.0)\n",
      "\n",
      "\u001b[1m[\u001b[0m\u001b[34;49mnotice\u001b[0m\u001b[1;39;49m]\u001b[0m\u001b[39;49m A new release of pip is available: \u001b[0m\u001b[31;49m23.2.1\u001b[0m\u001b[39;49m -> \u001b[0m\u001b[32;49m24.0\u001b[0m\n",
      "\u001b[1m[\u001b[0m\u001b[34;49mnotice\u001b[0m\u001b[1;39;49m]\u001b[0m\u001b[39;49m To update, run: \u001b[0m\u001b[32;49m/Users/hayashimiyako/opt/anaconda3/bin/python -m pip install --upgrade pip\u001b[0m\n",
      "Note: you may need to restart the kernel to use updated packages.\n"
     ]
    }
   ],
   "source": [
    "%pip install statsmodels"
   ]
  },
  {
   "cell_type": "code",
   "execution_count": 2,
   "metadata": {},
   "outputs": [
    {
     "name": "stdout",
     "output_type": "stream",
     "text": [
      "Intel MKL WARNING: Support of Intel(R) Streaming SIMD Extensions 4.2 (Intel(R) SSE4.2) enabled only processors has been deprecated. Intel oneAPI Math Kernel Library 2025.0 will require Intel(R) Advanced Vector Extensions (Intel(R) AVX) instructions.\n",
      "RUNNING THE L-BFGS-B CODE\n",
      "\n",
      "           * * *\n",
      "\n",
      "Machine precision = 2.220D-16\n",
      " N =            3     M =           10\n",
      "\n",
      "At X0         0 variables are exactly at the bounds\n",
      "\n",
      "At iterate    0    f=  2.20069D+00    |proj g|=  2.20238D-05\n",
      "\n",
      "           * * *\n",
      "\n",
      "Tit   = total number of iterations\n",
      "Tnf   = total number of function evaluations\n",
      "Tnint = total number of segments explored during Cauchy searches\n",
      "Skip  = number of BFGS updates skipped\n",
      "Nact  = number of active bounds at final generalized Cauchy point\n",
      "Projg = norm of the final projected gradient\n",
      "F     = final function value\n",
      "\n",
      "           * * *\n",
      "\n",
      "   N    Tit     Tnf  Tnint  Skip  Nact     Projg        F\n",
      "    3      1      4      1     0     0   7.045D-06   2.201D+00\n",
      "  F =   2.2006873565022151     \n",
      "\n",
      "CONVERGENCE: NORM_OF_PROJECTED_GRADIENT_<=_PGTOL            \n"
     ]
    },
    {
     "name": "stderr",
     "output_type": "stream",
     "text": [
      " This problem is unconstrained.\n"
     ]
    },
    {
     "name": "stdout",
     "output_type": "stream",
     "text": [
      "                               SARIMAX Results                                \n",
      "==============================================================================\n",
      "Dep. Variable:                   RH_5   No. Observations:                19735\n",
      "Model:               SARIMAX(2, 0, 0)   Log Likelihood              -43430.565\n",
      "Date:                Mon, 04 Mar 2024   AIC                          86867.130\n",
      "Time:                        15:17:22   BIC                          86890.800\n",
      "Sample:                             0   HQIC                         86874.879\n",
      "                              - 19735                                         \n",
      "Covariance Type:                  opg                                         \n",
      "==============================================================================\n",
      "                 coef    std err          z      P>|z|      [0.025      0.975]\n",
      "------------------------------------------------------------------------------\n",
      "ar.L1          1.2942      0.002    610.018      0.000       1.290       1.298\n",
      "ar.L2         -0.2954      0.002   -124.691      0.000      -0.300      -0.291\n",
      "sigma2         4.7740      0.009    514.612      0.000       4.756       4.792\n",
      "===================================================================================\n",
      "Ljung-Box (L1) (Q):                   7.53   Jarque-Bera (JB):           9258649.59\n",
      "Prob(Q):                              0.01   Prob(JB):                         0.00\n",
      "Heteroskedasticity (H):               0.85   Skew:                             7.93\n",
      "Prob(H) (two-sided):                  0.00   Kurtosis:                       107.92\n",
      "===================================================================================\n",
      "\n",
      "Warnings:\n",
      "[1] Covariance matrix calculated using the outer product of gradients (complex-step).\n",
      "RUNNING THE L-BFGS-B CODE\n",
      "\n",
      "           * * *\n",
      "\n",
      "Machine precision = 2.220D-16\n",
      " N =            4     M =           10\n",
      "\n",
      "At X0         0 variables are exactly at the bounds\n",
      "\n",
      "At iterate    0    f=  2.34005D+00    |proj g|=  1.38134D-01\n"
     ]
    },
    {
     "name": "stderr",
     "output_type": "stream",
     "text": [
      " This problem is unconstrained.\n"
     ]
    },
    {
     "name": "stdout",
     "output_type": "stream",
     "text": [
      "\n",
      "At iterate    5    f=  2.21151D+00    |proj g|=  1.46621D-02\n",
      "\n",
      "At iterate   10    f=  2.20046D+00    |proj g|=  3.05030D-03\n",
      "\n",
      "At iterate   15    f=  2.19919D+00    |proj g|=  1.15335D-03\n",
      "\n",
      "At iterate   20    f=  2.19905D+00    |proj g|=  1.72778D-04\n",
      "\n",
      "           * * *\n",
      "\n",
      "Tit   = total number of iterations\n",
      "Tnf   = total number of function evaluations\n",
      "Tnint = total number of segments explored during Cauchy searches\n",
      "Skip  = number of BFGS updates skipped\n",
      "Nact  = number of active bounds at final generalized Cauchy point\n",
      "Projg = norm of the final projected gradient\n",
      "F     = final function value\n",
      "\n",
      "           * * *\n",
      "\n",
      "   N    Tit     Tnf  Tnint  Skip  Nact     Projg        F\n",
      "    4     24     27      1     0     0   9.517D-06   2.199D+00\n",
      "  F =   2.1990504221485394     \n",
      "\n",
      "CONVERGENCE: NORM_OF_PROJECTED_GRADIENT_<=_PGTOL            \n",
      "                                     SARIMAX Results                                     \n",
      "=========================================================================================\n",
      "Dep. Variable:                              RH_5   No. Observations:                19735\n",
      "Model:             SARIMAX(1, 1, 1)x(0, 1, 1, 4)   Log Likelihood              -43398.260\n",
      "Date:                           Mon, 04 Mar 2024   AIC                          86804.520\n",
      "Time:                                   15:17:29   BIC                          86836.080\n",
      "Sample:                                        0   HQIC                         86814.852\n",
      "                                         - 19735                                         \n",
      "Covariance Type:                             opg                                         \n",
      "==============================================================================\n",
      "                 coef    std err          z      P>|z|      [0.025      0.975]\n",
      "------------------------------------------------------------------------------\n",
      "ar.L1          0.1025      0.010      9.775      0.000       0.082       0.123\n",
      "ma.L1          0.2123      0.011     20.104      0.000       0.192       0.233\n",
      "ma.S.L4       -0.9996      0.001  -1919.120      0.000      -1.001      -0.999\n",
      "sigma2         4.7581      0.007    720.294      0.000       4.745       4.771\n",
      "===================================================================================\n",
      "Ljung-Box (L1) (Q):                   0.00   Jarque-Bera (JB):           9201665.42\n",
      "Prob(Q):                              0.96   Prob(JB):                         0.00\n",
      "Heteroskedasticity (H):               0.86   Skew:                             7.91\n",
      "Prob(H) (two-sided):                  0.00   Kurtosis:                       107.61\n",
      "===================================================================================\n",
      "\n",
      "Warnings:\n",
      "[1] Covariance matrix calculated using the outer product of gradients (complex-step).\n"
     ]
    }
   ],
   "source": [
    "import statsmodels.api as sm\n",
    "import pandas as pd\n",
    "\n",
    "endog = pd.read_csv('energydata_complete.csv')['RH_5']\n",
    "\n",
    "# We could also fit a more complicated model with seasonal components.\n",
    "# As an example, here is an SARIMA(1,1,1) x (0,1,1,4):\n",
    "mod_sarimax = sm.tsa.SARIMAX(endog, order=(1,1,1),\n",
    "                             seasonal_order=(0,1,1,4))\n",
    "res_sarimax = mod_sarimax.fit()\n",
    "\n",
    "res = mod_sarimax.filter(res_sarimax.params)\n",
    "\n",
    "# Show the summary of results\n",
    "pred = res.get_prediction().predicted_mean\n",
    "discretized_pred = np.digitize(pred, bins, right=False)"
   ]
  },
  {
   "cell_type": "code",
   "execution_count": 9,
   "metadata": {},
   "outputs": [
    {
     "name": "stdout",
     "output_type": "stream",
     "text": [
      "0         0.000000\n",
      "1        55.200085\n",
      "2        55.200004\n",
      "3        55.089958\n",
      "4        82.690000\n",
      "           ...    \n",
      "19730    52.299961\n",
      "19731    52.424357\n",
      "19732    52.346038\n",
      "19733    52.243640\n",
      "19734    52.141091\n",
      "Name: predicted_mean, Length: 19735, dtype: float64\n"
     ]
    }
   ],
   "source": [
    "\n",
    "\n",
    "\n"
   ]
  }
 ],
 "metadata": {
  "kernelspec": {
   "display_name": "BindsNET",
   "language": "python",
   "name": "bindsnet"
  },
  "language_info": {
   "codemirror_mode": {
    "name": "ipython",
    "version": 3
   },
   "file_extension": ".py",
   "mimetype": "text/x-python",
   "name": "python",
   "nbconvert_exporter": "python",
   "pygments_lexer": "ipython3",
   "version": "3.9.18"
  }
 },
 "nbformat": 4,
 "nbformat_minor": 2
}
